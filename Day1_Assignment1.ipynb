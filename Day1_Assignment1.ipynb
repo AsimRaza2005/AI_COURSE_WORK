{
  "nbformat": 4,
  "nbformat_minor": 0,
  "metadata": {
    "colab": {
      "provenance": [],
      "toc_visible": true
    },
    "kernelspec": {
      "name": "python3",
      "display_name": "Python 3"
    },
    "language_info": {
      "name": "python"
    }
  },
  "cells": [
    {
      "cell_type": "markdown",
      "source": [
        "# **ASIM RAZA**\n",
        "# **# DAY1 ASSIGNMENT**\n",
        "\n",
        "**What are reserved words in Python?**\n",
        "\n",
        "Reserved words (also known as keywords) in Python are special words that have specific meanings and purposes and cannot be used for naming variables, functions, or any other identifiers. They are part of the syntax of the language. Here is a list of some of the reserved words in Python\n",
        "\n",
        "def, if elif , is , in, try, break, import, def\n",
        "\n",
        "\n",
        "**what is difference between** **single and double quotes in Python?**\n",
        "\n",
        "In Python, both single quotes (') and double quotes (\") are used to represent string literals. There is no functional difference between them. The choice between using single or double quotes is mostly a matter of coding style and the need to include quotes of the other type within the string.\n",
        "\n",
        "**What is the difference between variable and identifier?**\n",
        "\n",
        "**Variable:** A variable is a storage location in memory with a name (identifier) and a value that can be changed during program execution. Variables are used to store data that can be used and manipulated throughout the program.\n",
        "\n",
        "**Identifier:** An identifier is a name given to entities like variables, functions, classes, etc., in a program. Identifiers are used to uniquely identify these entities. While all variables are identifiers, not all identifiers are variables (they can also refer to functions, classes, etc.).\n",
        "\n",
        "\n",
        "\n",
        "**What is the difference between variable and constant?**\n",
        "\n",
        "**Variable:** A variable is a named storage location in memory whose value can change during the execution of the program. Variables are used to store and manipulate data.\n",
        "\n",
        "**Constant:** A constant is a named value that cannot be changed once assigned. In Python, constants are usually defined by convention (using all uppercase letters) since Python does not have built-in support for constants like some other languages.\n",
        "\n",
        "\n"
      ],
      "metadata": {
        "id": "0o699KnQf_Wl"
      }
    },
    {
      "cell_type": "markdown",
      "source": [
        "# ***Find at least 10 methods of string ***\n",
        "# **data types in python**\n",
        "\n",
        "**upper(): Converts all lowercase letters in a string to uppercase.**"
      ],
      "metadata": {
        "id": "C1rcyZrgj-m0"
      }
    },
    {
      "cell_type": "code",
      "source": [
        "name = \"Asim Raza\"\n",
        "print(name.upper())"
      ],
      "metadata": {
        "colab": {
          "base_uri": "https://localhost:8080/"
        },
        "id": "0dd4OQf8kIyu",
        "outputId": "c2873ced-1935-45bf-f0db-92a96c277871"
      },
      "execution_count": 8,
      "outputs": [
        {
          "output_type": "stream",
          "name": "stdout",
          "text": [
            "ASIM RAZA\n"
          ]
        }
      ]
    },
    {
      "cell_type": "markdown",
      "source": [
        "lower(): Converts all uppercase letters in a string to lowercase."
      ],
      "metadata": {
        "id": "gxPydFWikhRT"
      }
    },
    {
      "cell_type": "code",
      "source": [
        "print(name.lower())"
      ],
      "metadata": {
        "colab": {
          "base_uri": "https://localhost:8080/"
        },
        "id": "ElmJzumakqtV",
        "outputId": "7e143d33-ea99-4bb9-a554-2aaa4e410898"
      },
      "execution_count": 9,
      "outputs": [
        {
          "output_type": "stream",
          "name": "stdout",
          "text": [
            "asim raza\n"
          ]
        }
      ]
    },
    {
      "cell_type": "markdown",
      "source": [
        "strip(): Removes any leading and trailing whitespace (or other specified characters) from the string."
      ],
      "metadata": {
        "id": "YD9ifB51k32B"
      }
    },
    {
      "cell_type": "code",
      "source": [
        "print(name.strip())\n"
      ],
      "metadata": {
        "colab": {
          "base_uri": "https://localhost:8080/"
        },
        "id": "pU6xC8h-k7pX",
        "outputId": "cb46b956-8aad-4526-ec37-4d9600502a1e"
      },
      "execution_count": 10,
      "outputs": [
        {
          "output_type": "stream",
          "name": "stdout",
          "text": [
            "Asim Raza\n"
          ]
        }
      ]
    },
    {
      "cell_type": "markdown",
      "source": [
        "endwith():it also return boolean value of\n",
        "like it end with this or not"
      ],
      "metadata": {
        "id": "MHiY0KnTlqYQ"
      }
    },
    {
      "cell_type": "code",
      "source": [
        "print(name.endswith(\"za\"))"
      ],
      "metadata": {
        "colab": {
          "base_uri": "https://localhost:8080/"
        },
        "id": "uZYYz9nBmAZJ",
        "outputId": "49ec33a8-04e0-4f37-ab89-cf4dd7eae1e6"
      },
      "execution_count": 22,
      "outputs": [
        {
          "output_type": "stream",
          "name": "stdout",
          "text": [
            "True\n"
          ]
        }
      ]
    },
    {
      "cell_type": "markdown",
      "source": [
        "capitalize(): capitalize the first character"
      ],
      "metadata": {
        "id": "RzHRYFzbmMnm"
      }
    },
    {
      "cell_type": "code",
      "source": [
        "print(name.capitalize())"
      ],
      "metadata": {
        "colab": {
          "base_uri": "https://localhost:8080/"
        },
        "id": "nGalppRkmWUB",
        "outputId": "aae0cc06-71cc-434a-ccf7-15f78696b17e"
      },
      "execution_count": 13,
      "outputs": [
        {
          "output_type": "stream",
          "name": "stdout",
          "text": [
            "Asim raza\n"
          ]
        }
      ]
    },
    {
      "cell_type": "markdown",
      "source": [
        "count(): return specifies number of time value occcurs in string"
      ],
      "metadata": {
        "id": "_lcxiUCmmnZt"
      }
    },
    {
      "cell_type": "code",
      "source": [
        "print(name.count(\"a\"))"
      ],
      "metadata": {
        "colab": {
          "base_uri": "https://localhost:8080/"
        },
        "id": "FtdO8xUPm0_l",
        "outputId": "dcf08538-21e9-4f32-dd6d-ec2359f19658"
      },
      "execution_count": 15,
      "outputs": [
        {
          "output_type": "stream",
          "name": "stdout",
          "text": [
            "2\n"
          ]
        }
      ]
    },
    {
      "cell_type": "markdown",
      "source": [
        "isalpha(): it returns the boolen value is string like it is alphabet or not"
      ],
      "metadata": {
        "id": "QCQfmSqNnIEc"
      }
    },
    {
      "cell_type": "code",
      "source": [
        "print(name.isalpha())"
      ],
      "metadata": {
        "colab": {
          "base_uri": "https://localhost:8080/"
        },
        "id": "ZWQUafs5nR1F",
        "outputId": "db38e0df-57d3-45df-968b-ee59bed362f1"
      },
      "execution_count": 16,
      "outputs": [
        {
          "output_type": "stream",
          "name": "stdout",
          "text": [
            "False\n"
          ]
        }
      ]
    },
    {
      "cell_type": "markdown",
      "source": [
        "**find(): to search string with specified value and return position**"
      ],
      "metadata": {
        "id": "5I97T--onqP2"
      }
    },
    {
      "cell_type": "code",
      "source": [
        "print(name.find(\"s\"))"
      ],
      "metadata": {
        "colab": {
          "base_uri": "https://localhost:8080/"
        },
        "id": "NU6thI6In1ev",
        "outputId": "fe28b34f-0426-4ddc-8444-0eddc085a7a2"
      },
      "execution_count": 17,
      "outputs": [
        {
          "output_type": "stream",
          "name": "stdout",
          "text": [
            "1\n"
          ]
        }
      ]
    },
    {
      "cell_type": "markdown",
      "source": [
        "Replace(): To Replace the words with specific position\n"
      ],
      "metadata": {
        "id": "28AoK74zoMod"
      }
    },
    {
      "cell_type": "code",
      "source": [
        "print(name.replace(\"Asim\",\"Ali\"))"
      ],
      "metadata": {
        "colab": {
          "base_uri": "https://localhost:8080/"
        },
        "id": "tKs2ldnZoeDf",
        "outputId": "38b4763e-4d52-4bad-f55e-c40166605d70"
      },
      "execution_count": 19,
      "outputs": [
        {
          "output_type": "stream",
          "name": "stdout",
          "text": [
            "Ali Raza\n"
          ]
        }
      ]
    },
    {
      "cell_type": "markdown",
      "source": [
        "startswith(): it shows the given word is start with here or not\n",
        "return boolean value"
      ],
      "metadata": {
        "id": "x0FwPubJpV0R"
      }
    },
    {
      "cell_type": "code",
      "source": [
        "print(name.startswith(\"Asi\"))"
      ],
      "metadata": {
        "colab": {
          "base_uri": "https://localhost:8080/"
        },
        "id": "7AApr_0ApsHA",
        "outputId": "d63353b9-fa92-461f-b825-9ae701ab714d"
      },
      "execution_count": 21,
      "outputs": [
        {
          "output_type": "stream",
          "name": "stdout",
          "text": [
            "True\n"
          ]
        }
      ]
    },
    {
      "cell_type": "markdown",
      "source": [
        "title(): Converts the first character of each word to uppercase and the remaining characters to lowercase."
      ],
      "metadata": {
        "id": "gZ2UXQ51q7EV"
      }
    },
    {
      "cell_type": "code",
      "source": [
        "print(name.title())"
      ],
      "metadata": {
        "colab": {
          "base_uri": "https://localhost:8080/"
        },
        "id": "0gEnEJffrAyh",
        "outputId": "3ae63b8f-5253-41ca-8272-432da3f1feb4"
      },
      "execution_count": 23,
      "outputs": [
        {
          "output_type": "stream",
          "name": "stdout",
          "text": [
            "Asim Raza\n"
          ]
        }
      ]
    }
  ]
}