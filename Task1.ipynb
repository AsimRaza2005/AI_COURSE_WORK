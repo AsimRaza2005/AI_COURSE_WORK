{
 "cells": [
  {
   "cell_type": "markdown",
   "metadata": {},
   "source": [
    "## Asim Raza\n",
    "\n",
    "#### Create and Share Your Jupyter Notebook"
   ]
  },
  {
   "cell_type": "markdown",
   "metadata": {},
   "source": [
    "### My Jupyter Notebook at SAINCUBE"
   ]
  },
  {
   "cell_type": "markdown",
   "metadata": {},
   "source": [
    "#### Asim Raza\n",
    "\n",
    "I want to be an AI Engineer\n",
    "\n",
    "I am interested in data science because it allows me to uncover patterns and insights from vast amounts of data, driving informed decision-making and innovation."
   ]
  },
  {
   "cell_type": "markdown",
   "metadata": {},
   "source": [
    "##### This code will trace that either the given number is an odd number or an even numbe"
   ]
  },
  {
   "cell_type": "code",
   "execution_count": 1,
   "metadata": {},
   "outputs": [
    {
     "name": "stdout",
     "output_type": "stream",
     "text": [
      "6 is an even number\n"
     ]
    }
   ],
   "source": [
    "num = int(input(\"Enter a number: \"))\n",
    "\n",
    "if num%2 == 0:\n",
    "    print(num, \"is an even number\")\n",
    "else:\n",
    "    print(num, \"is an odd number\")"
   ]
  },
  {
   "cell_type": "markdown",
   "metadata": {},
   "source": [
    "#### Asim Raza\n",
    "\n",
    "##### Second Year Student of Mehran University Of Engineering and Technology\n",
    "---\n",
    "\n",
    "\n",
    "#### Table\n",
    "\n",
    "| NAME| FATHER NAME | SEMESTER |\n",
    "|----------|----------|----------|\n",
    "| ASIM RAZA| RAFIQUE AHMED|  4 |\n",
    "| MAHMOOD RASHEED| SHAMS UD DIN  | 8|\n",
    "\n",
    "### Example Image\n",
    "\n",
    "Here is an image displayed using Markdown:\n",
    "\n",
    "(https://www.freepik.com/free-photos-vectors/logo-png)\n",
    "\n",
    "\n",
    "\n"
   ]
  }
 ],
 "metadata": {
  "kernelspec": {
   "display_name": "Python 3",
   "language": "python",
   "name": "python3"
  },
  "language_info": {
   "codemirror_mode": {
    "name": "ipython",
    "version": 3
   },
   "file_extension": ".py",
   "mimetype": "text/x-python",
   "name": "python",
   "nbconvert_exporter": "python",
   "pygments_lexer": "ipython3",
   "version": "3.11.4"
  }
 },
 "nbformat": 4,
 "nbformat_minor": 2
}
