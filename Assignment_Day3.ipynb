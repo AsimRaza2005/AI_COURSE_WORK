{
 "cells": [
  {
   "cell_type": "markdown",
   "id": "d15c80dc",
   "metadata": {},
   "source": [
    "# Asim Raza\n",
    "## Assignment Day-3\n",
    "\n",
    "### Conditional Statement"
   ]
  },
  {
   "cell_type": "markdown",
   "id": "e429ecdf",
   "metadata": {},
   "source": [
    "# Get user input using input(“Enter your age: ”). If user is 18 or older, give feedback: You are old enough to drive. \\\n",
    "If below 18 give feedback to wait for the missing amount of years. Output:"
   ]
  },
  {
   "cell_type": "code",
   "execution_count": 1,
   "id": "a0aa1d6c",
   "metadata": {},
   "outputs": [
    {
     "name": "stdout",
     "output_type": "stream",
     "text": [
      "Enter Your age:19\n",
      "you are old Enough to drive\n"
     ]
    }
   ],
   "source": [
    "age = int(input(\"Enter Your age:\"))\n",
    "\n",
    "if age >= 18 :\n",
    "    print(\"you are old Enough to drive\")\n",
    "\n",
    "\n",
    "else:\n",
    "    \n",
    "    wait_for_years = 18 - age\n",
    "    \n",
    "    print(f\"You need {wait_for_years} more years to learn drive\")\n",
    "    \n",
    "    "
   ]
  },
  {
   "cell_type": "code",
   "execution_count": null,
   "id": "a4d15cfc",
   "metadata": {},
   "outputs": [],
   "source": []
  },
  {
   "cell_type": "markdown",
   "id": "12fe1962",
   "metadata": {},
   "source": [
    "# Compare the values of my_age and your_age using if … else. Who is older (me or you)? Use input(“Enter your age: ”) to get the age as input.You can use a nested condition to print 'year' for 1 year difference in age, 'years' for bigger differences, and a custom text if my_age = your_age. Output:"
   ]
  },
  {
   "cell_type": "code",
   "id": "c5600119",
   "metadata": {},
   "source": [
    "my_age = 20\n",
    "\n",
    "your_age = int(input(\"Enter your age:\"))\n",
    "\n",
    "if your_age > my_age:\n",
    "    \n",
    "    age_difference = your_age - my_age\n",
    "    \n",
    "    if age_difference == 1:\n",
    "        \n",
    "        print(f\"You are {age_diffrence} year older then me\")\n",
    "              \n",
    "    else:\n",
    "              print(f\"You are {age_difference} year older then me\")\n",
    "              \n",
    "elif your_age < my_age:\n",
    "    \n",
    "    age_difference = my_age - your_age\n",
    "    \n",
    "    if age_difference == 1:\n",
    "        \n",
    "        print(f\"I am {age_difference} year older than you.\")\n",
    "        \n",
    "    else:\n",
    "        \n",
    "        print(f\"I am {age_difference} years older than you.\")\n",
    "else:\n",
    "    \n",
    "    print(\"We are the same age!\")              \n",
    "    \n",
    "\n"
   ]
  },
  {
   "cell_type": "markdown",
   "id": "c134eddb",
   "metadata": {},
   "source": [
    "# Get two numbers from the user using input prompt. If a is greater than b return a is greater than b, if a is less b return a is smaller than b, else a is equal to b."
   ]
  },
  {
   "cell_type": "code",
   "execution_count": 2,
   "id": "ec1c74ca",
   "metadata": {},
   "outputs": [
    {
     "name": "stdout",
     "output_type": "stream",
     "text": [
      "Enter Number one: 20\n",
      "Enter Number two: 20\n",
      "Both are Equal\n"
     ]
    }
   ],
   "source": [
    "num1 = int(input(\"Enter Number one: \"))\n",
    "num2 = int(input(\"Enter Number two: \"))\n",
    "\n",
    "if num1 > num2:\n",
    "    print(\"Number one is Greater then Number Two : \",num1)\n",
    "    \n",
    "elif num1 < num2 :\n",
    "        print(\"Number two is greater then one : \", num2)\n",
    "        \n",
    "    \n",
    "else:        \n",
    "    print(\"Both are Equal\")"
   ]
  },
  {
   "cell_type": "code",
   "execution_count": null,
   "id": "ea17ec8e",
   "metadata": {},
   "outputs": [],
   "source": []
  },
  {
   "cell_type": "markdown",
   "id": "2d62bb0e",
   "metadata": {},
   "source": [
    "# Write a code which gives grade to students according to theirs scores:\n",
    "\n",
    "80-100, A\n",
    "70-89, B\n",
    "60-69, C\n",
    "50-59, D\n",
    "0-49, F"
   ]
  },
  {
   "cell_type": "code",
   "execution_count": 3,
   "id": "a2b7ee9a",
   "metadata": {},
   "outputs": [
    {
     "name": "stdout",
     "output_type": "stream",
     "text": [
      "Enter Students Marks:80\n",
      "You Secured A Grade\n"
     ]
    }
   ],
   "source": [
    "marks = int(input(\"Enter Students Marks:\"))\n",
    "\n",
    "if marks >= 80:\n",
    "    print(\"You Secured A Grade\")\n",
    "    \n",
    "elif marks >=70 and marks <=79:\n",
    "    print(\"You Secure B Grade\")\n",
    "    \n",
    "elif marks >=60 and marks <= 69:\n",
    "    print(\"You Secured C Grade\")\n",
    "    \n",
    "elif marks >=50 and marks <=59:\n",
    "    print(\"You Secured D Grade\")\n",
    "    \n",
    "else:\n",
    "    print(\"You are Fail\")\n",
    "    \n",
    "    "
   ]
  },
  {
   "cell_type": "markdown",
   "id": "bdf028c2",
   "metadata": {},
   "source": [
    "# Check if the season is Autumn, Winter, Spring or Summer. If the user input is: September, October or November, the season is Autumn. December, January or February, the season is Winter. March, April or May, the season is Spring June, July or August,\n",
    "    the season is Summer"
   ]
  },
  {
   "cell_type": "code",
   "execution_count": 4,
   "id": "79b57615",
   "metadata": {},
   "outputs": [
    {
     "name": "stdout",
     "output_type": "stream",
     "text": [
      "Enter name of months:December\n",
      "Season is winter\n"
     ]
    }
   ],
   "source": [
    "month = input(\"Enter name of months:\")\n",
    "\n",
    "if month in [\"September\",\"October\",\"November\"]:\n",
    "    \n",
    "    print(\"Season is Autumn\")\n",
    "    \n",
    "elif month in [\"December\",\"January\",\"Febuary\"] :\n",
    "    \n",
    "    print(\"Season is winter\")\n",
    "    \n",
    "elif month in [\"March\",\"April\",\"May\"] :\n",
    "    \n",
    "    print(\"Season is Spring\")\n",
    "    \n",
    "elif month in [\"June\",\"July\",\"August\"]:\n",
    "    \n",
    "    print(\"Season is summer\")\n",
    "    "
   ]
  },
  {
   "cell_type": "code",
   "execution_count": null,
   "id": "9227a278",
   "metadata": {},
   "outputs": [],
   "source": []
  },
  {
   "cell_type": "code",
   "execution_count": 5,
   "id": "5b83fa6e",
   "metadata": {},
   "outputs": [
    {
     "name": "stdout",
     "output_type": "stream",
     "text": [
      "Modify List ['Lemon', 'banana', 'Mango', 'Orange', 'Apple']\n"
     ]
    }
   ],
   "source": [
    "Fruits = [\"Lemon\",\"banana\",\"Mango\",\"Orange\"]\n",
    "\n",
    "fruit_to_add = \"Apple\"\n",
    "\n",
    "if fruit_to_add in Fruits:\n",
    "    print(\"It already exist\")\n",
    "    \n",
    "else:\n",
    "    Fruits.append(\"Apple\")\n",
    "    \n",
    "    print(\"Modify List\",Fruits)\n",
    "    "
   ]
  },
  {
   "cell_type": "code",
   "execution_count": null,
   "id": "6389113d",
   "metadata": {},
   "outputs": [],
   "source": []
  },
  {
   "cell_type": "code",
   "execution_count": 30,
   "id": "acc2dffc",
   "metadata": {},
   "outputs": [
    {
     "name": "stdout",
     "output_type": "stream",
     "text": [
      "{'first_name': 'Asabeneh', 'last_name': 'Yetayeh', 'age': 250, 'country': 'Finland', 'is_marred': True, 'skills': ['JavaScript', 'React', 'Node', 'MongoDB', 'Python'], 'address': {'street': 'Space street', 'zipcode': '02210'}}\n",
      "The middle skill is: Node\n",
      "The person has Python skill.\n",
      "Unknown Tittle\n"
     ]
    }
   ],
   "source": [
    "person = {\n",
    "    \n",
    "    'first_name': 'Asabeneh',\n",
    "    'last_name': 'Yetayeh',\n",
    "    'age': 250,\n",
    "    'country': 'Finland',\n",
    "    'is_marred': True,\n",
    "    'skills': ['JavaScript', 'React', 'Node', 'MongoDB', 'Python'],\n",
    "    'address': {\n",
    "        'street': 'Space street',\n",
    "        'zipcode': '02210'\n",
    "    }\n",
    "    \n",
    "}\n",
    "\n",
    "print(person)\n",
    "\n",
    "#Check if the person dictionary has skills key, if so print out the middle skill in the skills list\n",
    "\n",
    "if 'skills' in person and person['skills']:\n",
    "    skills = person['skills']\n",
    "    middle_index = len(skills) // 2\n",
    "    \n",
    "    print(f'The middle skill is: {skills[middle_index]}')\n",
    "    \n",
    "#Check if the person dictionary has skills key, if so check if the person has 'Python' skill and print out the result. \n",
    "if 'Python' in skills:\n",
    "        print('The person has Python skill.')\n",
    "        \n",
    "if skills == ['JavaScript', 'React']:\n",
    "        print('He is a front end developer')\n",
    "\n",
    "elif set(skills) == {'Node', 'Python', 'MongoDB'}:\n",
    "        print('He is a backend developer')   \n",
    "        \n",
    "elif set(skills) == {\"Node\",\"React\",\"MongoDB\"}:\n",
    "    \n",
    "    print(\"He is FullStack Developer\")\n",
    "\n",
    "else:\n",
    "    print(\"Unknown Tittle\")\n",
    "    \n",
    "    \n",
    "    \n",
    "# Check if married and lives in Finland\n",
    "if person.get('Married') and person.get('country') == 'Finland':\n",
    "    print(f\"{person['name']} is married  and live in Finland\")"
   ]
  },
  {
   "cell_type": "code",
   "execution_count": null,
   "id": "ca8032db",
   "metadata": {},
   "outputs": [],
   "source": []
  },
  {
   "cell_type": "code",
   "execution_count": null,
   "id": "94f1857c",
   "metadata": {},
   "outputs": [],
   "source": []
  }
 ],
 "metadata": {
  "kernelspec": {
   "display_name": "Python 3 (ipykernel)",
   "language": "python",
   "name": "python3"
  },
  "language_info": {
   "codemirror_mode": {
    "name": "ipython",
    "version": 3
   },
   "file_extension": ".py",
   "mimetype": "text/x-python",
   "name": "python",
   "nbconvert_exporter": "python",
   "pygments_lexer": "ipython3",
   "version": "3.10.9"
  }
 },
 "nbformat": 4,
 "nbformat_minor": 5
}
