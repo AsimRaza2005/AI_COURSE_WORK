{
 "cells": [
  {
   "cell_type": "markdown",
   "metadata": {},
   "source": [
    "### Data Cleaning\n"
   ]
  },
  {
   "cell_type": "markdown",
   "metadata": {},
   "source": [
    "#### importing the library"
   ]
  },
  {
   "cell_type": "code",
   "execution_count": 797,
   "metadata": {},
   "outputs": [],
   "source": [
    "import numpy as np\n",
    "import pandas as pd\n",
    "import seaborn as sns\n",
    "import matplotlib.pyplot as plt"
   ]
  },
  {
   "cell_type": "markdown",
   "metadata": {},
   "source": [
    "#### loading the data"
   ]
  },
  {
   "cell_type": "code",
   "execution_count": 798,
   "metadata": {},
   "outputs": [],
   "source": [
    "df = pd.read_csv('Flipkart_mobile_brands_scraped_data.csv')"
   ]
  },
  {
   "cell_type": "markdown",
   "metadata": {},
   "source": [
    "#### Print the data"
   ]
  },
  {
   "cell_type": "code",
   "execution_count": 799,
   "metadata": {},
   "outputs": [
    {
     "data": {
      "text/html": [
       "<div>\n",
       "<style scoped>\n",
       "    .dataframe tbody tr th:only-of-type {\n",
       "        vertical-align: middle;\n",
       "    }\n",
       "\n",
       "    .dataframe tbody tr th {\n",
       "        vertical-align: top;\n",
       "    }\n",
       "\n",
       "    .dataframe thead th {\n",
       "        text-align: right;\n",
       "    }\n",
       "</style>\n",
       "<table border=\"1\" class=\"dataframe\">\n",
       "  <thead>\n",
       "    <tr style=\"text-align: right;\">\n",
       "      <th></th>\n",
       "      <th>Brand</th>\n",
       "      <th>Model</th>\n",
       "      <th>Color</th>\n",
       "      <th>Memory</th>\n",
       "      <th>Storage</th>\n",
       "      <th>Rating</th>\n",
       "      <th>Selling Price</th>\n",
       "      <th>Original Price</th>\n",
       "    </tr>\n",
       "  </thead>\n",
       "  <tbody>\n",
       "    <tr>\n",
       "      <th>0</th>\n",
       "      <td>OPPO</td>\n",
       "      <td>A53</td>\n",
       "      <td>Moonlight Black</td>\n",
       "      <td>4 GB</td>\n",
       "      <td>64 GB</td>\n",
       "      <td>4.5</td>\n",
       "      <td>11990.0</td>\n",
       "      <td>15990.0</td>\n",
       "    </tr>\n",
       "    <tr>\n",
       "      <th>1</th>\n",
       "      <td>OPPO</td>\n",
       "      <td>A53</td>\n",
       "      <td>Mint Cream</td>\n",
       "      <td>4 GB</td>\n",
       "      <td>64 GB</td>\n",
       "      <td>4.5</td>\n",
       "      <td>11990.0</td>\n",
       "      <td>15990.0</td>\n",
       "    </tr>\n",
       "    <tr>\n",
       "      <th>2</th>\n",
       "      <td>OPPO</td>\n",
       "      <td>A53</td>\n",
       "      <td>Moonlight Black</td>\n",
       "      <td>6 GB</td>\n",
       "      <td>128 GB</td>\n",
       "      <td>4.3</td>\n",
       "      <td>13990.0</td>\n",
       "      <td>17990.0</td>\n",
       "    </tr>\n",
       "    <tr>\n",
       "      <th>3</th>\n",
       "      <td>OPPO</td>\n",
       "      <td>A53</td>\n",
       "      <td>Mint Cream</td>\n",
       "      <td>6 GB</td>\n",
       "      <td>128 GB</td>\n",
       "      <td>4.3</td>\n",
       "      <td>13990.0</td>\n",
       "      <td>17990.0</td>\n",
       "    </tr>\n",
       "    <tr>\n",
       "      <th>4</th>\n",
       "      <td>OPPO</td>\n",
       "      <td>A53</td>\n",
       "      <td>Electric Black</td>\n",
       "      <td>4 GB</td>\n",
       "      <td>64 GB</td>\n",
       "      <td>4.5</td>\n",
       "      <td>11990.0</td>\n",
       "      <td>15990.0</td>\n",
       "    </tr>\n",
       "    <tr>\n",
       "      <th>...</th>\n",
       "      <td>...</td>\n",
       "      <td>...</td>\n",
       "      <td>...</td>\n",
       "      <td>...</td>\n",
       "      <td>...</td>\n",
       "      <td>...</td>\n",
       "      <td>...</td>\n",
       "      <td>...</td>\n",
       "    </tr>\n",
       "    <tr>\n",
       "      <th>2642</th>\n",
       "      <td>Xiaomi</td>\n",
       "      <td>Redmi Y3</td>\n",
       "      <td>Bold Red</td>\n",
       "      <td>4 GB</td>\n",
       "      <td>64 GB</td>\n",
       "      <td>4.3</td>\n",
       "      <td>12999.0</td>\n",
       "      <td>13999.0</td>\n",
       "    </tr>\n",
       "    <tr>\n",
       "      <th>2643</th>\n",
       "      <td>Xiaomi</td>\n",
       "      <td>Redmi Y3</td>\n",
       "      <td>Elegant Blue</td>\n",
       "      <td>3 GB</td>\n",
       "      <td>32 GB</td>\n",
       "      <td>4.3</td>\n",
       "      <td>9450.0</td>\n",
       "      <td>NaN</td>\n",
       "    </tr>\n",
       "    <tr>\n",
       "      <th>2644</th>\n",
       "      <td>Xiaomi</td>\n",
       "      <td>Redmi Y3</td>\n",
       "      <td>Elegant Blue</td>\n",
       "      <td>4 GB</td>\n",
       "      <td>64 GB</td>\n",
       "      <td>4.2</td>\n",
       "      <td>12999.0</td>\n",
       "      <td>NaN</td>\n",
       "    </tr>\n",
       "    <tr>\n",
       "      <th>2645</th>\n",
       "      <td>Xiaomi</td>\n",
       "      <td>Redmi Y3</td>\n",
       "      <td>Prime Black</td>\n",
       "      <td>3 GB</td>\n",
       "      <td>32 GB</td>\n",
       "      <td>4.2</td>\n",
       "      <td>9950.0</td>\n",
       "      <td>NaN</td>\n",
       "    </tr>\n",
       "    <tr>\n",
       "      <th>2646</th>\n",
       "      <td>Xiaomi</td>\n",
       "      <td>Redmi Y3</td>\n",
       "      <td>Prime Black</td>\n",
       "      <td>4 GB</td>\n",
       "      <td>64 GB</td>\n",
       "      <td>4.3</td>\n",
       "      <td>12499.0</td>\n",
       "      <td>13999.0</td>\n",
       "    </tr>\n",
       "  </tbody>\n",
       "</table>\n",
       "<p>2647 rows × 8 columns</p>\n",
       "</div>"
      ],
      "text/plain": [
       "       Brand      Model            Color Memory Storage  Rating  \\\n",
       "0       OPPO        A53  Moonlight Black   4 GB   64 GB     4.5   \n",
       "1       OPPO        A53       Mint Cream   4 GB   64 GB     4.5   \n",
       "2       OPPO        A53  Moonlight Black   6 GB  128 GB     4.3   \n",
       "3       OPPO        A53       Mint Cream   6 GB  128 GB     4.3   \n",
       "4       OPPO        A53   Electric Black   4 GB   64 GB     4.5   \n",
       "...      ...        ...              ...    ...     ...     ...   \n",
       "2642  Xiaomi  Redmi Y3          Bold Red   4 GB   64 GB     4.3   \n",
       "2643  Xiaomi  Redmi Y3      Elegant Blue   3 GB   32 GB     4.3   \n",
       "2644  Xiaomi  Redmi Y3      Elegant Blue   4 GB   64 GB     4.2   \n",
       "2645  Xiaomi  Redmi Y3       Prime Black   3 GB   32 GB     4.2   \n",
       "2646  Xiaomi  Redmi Y3       Prime Black   4 GB   64 GB     4.3   \n",
       "\n",
       "      Selling Price  Original Price  \n",
       "0           11990.0         15990.0  \n",
       "1           11990.0         15990.0  \n",
       "2           13990.0         17990.0  \n",
       "3           13990.0         17990.0  \n",
       "4           11990.0         15990.0  \n",
       "...             ...             ...  \n",
       "2642        12999.0         13999.0  \n",
       "2643         9450.0             NaN  \n",
       "2644        12999.0             NaN  \n",
       "2645         9950.0             NaN  \n",
       "2646        12499.0         13999.0  \n",
       "\n",
       "[2647 rows x 8 columns]"
      ]
     },
     "execution_count": 799,
     "metadata": {},
     "output_type": "execute_result"
    }
   ],
   "source": [
    "df"
   ]
  },
  {
   "cell_type": "markdown",
   "metadata": {},
   "source": [
    "#### initial 5 value from dataset"
   ]
  },
  {
   "cell_type": "code",
   "execution_count": 800,
   "metadata": {},
   "outputs": [
    {
     "data": {
      "text/html": [
       "<div>\n",
       "<style scoped>\n",
       "    .dataframe tbody tr th:only-of-type {\n",
       "        vertical-align: middle;\n",
       "    }\n",
       "\n",
       "    .dataframe tbody tr th {\n",
       "        vertical-align: top;\n",
       "    }\n",
       "\n",
       "    .dataframe thead th {\n",
       "        text-align: right;\n",
       "    }\n",
       "</style>\n",
       "<table border=\"1\" class=\"dataframe\">\n",
       "  <thead>\n",
       "    <tr style=\"text-align: right;\">\n",
       "      <th></th>\n",
       "      <th>Brand</th>\n",
       "      <th>Model</th>\n",
       "      <th>Color</th>\n",
       "      <th>Memory</th>\n",
       "      <th>Storage</th>\n",
       "      <th>Rating</th>\n",
       "      <th>Selling Price</th>\n",
       "      <th>Original Price</th>\n",
       "    </tr>\n",
       "  </thead>\n",
       "  <tbody>\n",
       "    <tr>\n",
       "      <th>0</th>\n",
       "      <td>OPPO</td>\n",
       "      <td>A53</td>\n",
       "      <td>Moonlight Black</td>\n",
       "      <td>4 GB</td>\n",
       "      <td>64 GB</td>\n",
       "      <td>4.5</td>\n",
       "      <td>11990.0</td>\n",
       "      <td>15990.0</td>\n",
       "    </tr>\n",
       "    <tr>\n",
       "      <th>1</th>\n",
       "      <td>OPPO</td>\n",
       "      <td>A53</td>\n",
       "      <td>Mint Cream</td>\n",
       "      <td>4 GB</td>\n",
       "      <td>64 GB</td>\n",
       "      <td>4.5</td>\n",
       "      <td>11990.0</td>\n",
       "      <td>15990.0</td>\n",
       "    </tr>\n",
       "    <tr>\n",
       "      <th>2</th>\n",
       "      <td>OPPO</td>\n",
       "      <td>A53</td>\n",
       "      <td>Moonlight Black</td>\n",
       "      <td>6 GB</td>\n",
       "      <td>128 GB</td>\n",
       "      <td>4.3</td>\n",
       "      <td>13990.0</td>\n",
       "      <td>17990.0</td>\n",
       "    </tr>\n",
       "    <tr>\n",
       "      <th>3</th>\n",
       "      <td>OPPO</td>\n",
       "      <td>A53</td>\n",
       "      <td>Mint Cream</td>\n",
       "      <td>6 GB</td>\n",
       "      <td>128 GB</td>\n",
       "      <td>4.3</td>\n",
       "      <td>13990.0</td>\n",
       "      <td>17990.0</td>\n",
       "    </tr>\n",
       "    <tr>\n",
       "      <th>4</th>\n",
       "      <td>OPPO</td>\n",
       "      <td>A53</td>\n",
       "      <td>Electric Black</td>\n",
       "      <td>4 GB</td>\n",
       "      <td>64 GB</td>\n",
       "      <td>4.5</td>\n",
       "      <td>11990.0</td>\n",
       "      <td>15990.0</td>\n",
       "    </tr>\n",
       "  </tbody>\n",
       "</table>\n",
       "</div>"
      ],
      "text/plain": [
       "  Brand Model            Color Memory Storage  Rating  Selling Price  \\\n",
       "0  OPPO   A53  Moonlight Black   4 GB   64 GB     4.5        11990.0   \n",
       "1  OPPO   A53       Mint Cream   4 GB   64 GB     4.5        11990.0   \n",
       "2  OPPO   A53  Moonlight Black   6 GB  128 GB     4.3        13990.0   \n",
       "3  OPPO   A53       Mint Cream   6 GB  128 GB     4.3        13990.0   \n",
       "4  OPPO   A53   Electric Black   4 GB   64 GB     4.5        11990.0   \n",
       "\n",
       "   Original Price  \n",
       "0         15990.0  \n",
       "1         15990.0  \n",
       "2         17990.0  \n",
       "3         17990.0  \n",
       "4         15990.0  "
      ]
     },
     "execution_count": 800,
     "metadata": {},
     "output_type": "execute_result"
    }
   ],
   "source": [
    "df.head()"
   ]
  },
  {
   "cell_type": "markdown",
   "metadata": {},
   "source": [
    "#### Last 5 values From dataset"
   ]
  },
  {
   "cell_type": "code",
   "execution_count": 801,
   "metadata": {},
   "outputs": [
    {
     "data": {
      "text/html": [
       "<div>\n",
       "<style scoped>\n",
       "    .dataframe tbody tr th:only-of-type {\n",
       "        vertical-align: middle;\n",
       "    }\n",
       "\n",
       "    .dataframe tbody tr th {\n",
       "        vertical-align: top;\n",
       "    }\n",
       "\n",
       "    .dataframe thead th {\n",
       "        text-align: right;\n",
       "    }\n",
       "</style>\n",
       "<table border=\"1\" class=\"dataframe\">\n",
       "  <thead>\n",
       "    <tr style=\"text-align: right;\">\n",
       "      <th></th>\n",
       "      <th>Brand</th>\n",
       "      <th>Model</th>\n",
       "      <th>Color</th>\n",
       "      <th>Memory</th>\n",
       "      <th>Storage</th>\n",
       "      <th>Rating</th>\n",
       "      <th>Selling Price</th>\n",
       "      <th>Original Price</th>\n",
       "    </tr>\n",
       "  </thead>\n",
       "  <tbody>\n",
       "    <tr>\n",
       "      <th>2642</th>\n",
       "      <td>Xiaomi</td>\n",
       "      <td>Redmi Y3</td>\n",
       "      <td>Bold Red</td>\n",
       "      <td>4 GB</td>\n",
       "      <td>64 GB</td>\n",
       "      <td>4.3</td>\n",
       "      <td>12999.0</td>\n",
       "      <td>13999.0</td>\n",
       "    </tr>\n",
       "    <tr>\n",
       "      <th>2643</th>\n",
       "      <td>Xiaomi</td>\n",
       "      <td>Redmi Y3</td>\n",
       "      <td>Elegant Blue</td>\n",
       "      <td>3 GB</td>\n",
       "      <td>32 GB</td>\n",
       "      <td>4.3</td>\n",
       "      <td>9450.0</td>\n",
       "      <td>NaN</td>\n",
       "    </tr>\n",
       "    <tr>\n",
       "      <th>2644</th>\n",
       "      <td>Xiaomi</td>\n",
       "      <td>Redmi Y3</td>\n",
       "      <td>Elegant Blue</td>\n",
       "      <td>4 GB</td>\n",
       "      <td>64 GB</td>\n",
       "      <td>4.2</td>\n",
       "      <td>12999.0</td>\n",
       "      <td>NaN</td>\n",
       "    </tr>\n",
       "    <tr>\n",
       "      <th>2645</th>\n",
       "      <td>Xiaomi</td>\n",
       "      <td>Redmi Y3</td>\n",
       "      <td>Prime Black</td>\n",
       "      <td>3 GB</td>\n",
       "      <td>32 GB</td>\n",
       "      <td>4.2</td>\n",
       "      <td>9950.0</td>\n",
       "      <td>NaN</td>\n",
       "    </tr>\n",
       "    <tr>\n",
       "      <th>2646</th>\n",
       "      <td>Xiaomi</td>\n",
       "      <td>Redmi Y3</td>\n",
       "      <td>Prime Black</td>\n",
       "      <td>4 GB</td>\n",
       "      <td>64 GB</td>\n",
       "      <td>4.3</td>\n",
       "      <td>12499.0</td>\n",
       "      <td>13999.0</td>\n",
       "    </tr>\n",
       "  </tbody>\n",
       "</table>\n",
       "</div>"
      ],
      "text/plain": [
       "       Brand      Model         Color Memory Storage  Rating  Selling Price  \\\n",
       "2642  Xiaomi  Redmi Y3       Bold Red   4 GB   64 GB     4.3        12999.0   \n",
       "2643  Xiaomi  Redmi Y3   Elegant Blue   3 GB   32 GB     4.3         9450.0   \n",
       "2644  Xiaomi  Redmi Y3   Elegant Blue   4 GB   64 GB     4.2        12999.0   \n",
       "2645  Xiaomi  Redmi Y3    Prime Black   3 GB   32 GB     4.2         9950.0   \n",
       "2646  Xiaomi  Redmi Y3    Prime Black   4 GB   64 GB     4.3        12499.0   \n",
       "\n",
       "      Original Price  \n",
       "2642         13999.0  \n",
       "2643             NaN  \n",
       "2644             NaN  \n",
       "2645             NaN  \n",
       "2646         13999.0  "
      ]
     },
     "execution_count": 801,
     "metadata": {},
     "output_type": "execute_result"
    }
   ],
   "source": [
    "df.tail()"
   ]
  },
  {
   "cell_type": "markdown",
   "metadata": {},
   "source": [
    "#### Show The Observation and Attributes"
   ]
  },
  {
   "cell_type": "code",
   "execution_count": 802,
   "metadata": {},
   "outputs": [
    {
     "data": {
      "text/plain": [
       "(2647, 8)"
      ]
     },
     "execution_count": 802,
     "metadata": {},
     "output_type": "execute_result"
    }
   ],
   "source": [
    "df.shape"
   ]
  },
  {
   "cell_type": "markdown",
   "metadata": {},
   "source": [
    "#### Show The Information of data"
   ]
  },
  {
   "cell_type": "code",
   "execution_count": 803,
   "metadata": {},
   "outputs": [
    {
     "name": "stdout",
     "output_type": "stream",
     "text": [
      "<class 'pandas.core.frame.DataFrame'>\n",
      "RangeIndex: 2647 entries, 0 to 2646\n",
      "Data columns (total 8 columns):\n",
      " #   Column          Non-Null Count  Dtype  \n",
      "---  ------          --------------  -----  \n",
      " 0   Brand           2647 non-null   object \n",
      " 1   Model           2645 non-null   object \n",
      " 2   Color           2505 non-null   object \n",
      " 3   Memory          2605 non-null   object \n",
      " 4   Storage         2568 non-null   object \n",
      " 5   Rating          2647 non-null   float64\n",
      " 6   Selling Price   2644 non-null   float64\n",
      " 7   Original Price  969 non-null    float64\n",
      "dtypes: float64(3), object(5)\n",
      "memory usage: 165.6+ KB\n"
     ]
    }
   ],
   "source": [
    "df.info()"
   ]
  },
  {
   "cell_type": "markdown",
   "metadata": {},
   "source": [
    "#### Summarize Statical Form of data"
   ]
  },
  {
   "cell_type": "code",
   "execution_count": 804,
   "metadata": {},
   "outputs": [
    {
     "data": {
      "text/plain": [
       "<bound method NDFrame.describe of        Brand      Model            Color Memory Storage  Rating  \\\n",
       "0       OPPO        A53  Moonlight Black   4 GB   64 GB     4.5   \n",
       "1       OPPO        A53       Mint Cream   4 GB   64 GB     4.5   \n",
       "2       OPPO        A53  Moonlight Black   6 GB  128 GB     4.3   \n",
       "3       OPPO        A53       Mint Cream   6 GB  128 GB     4.3   \n",
       "4       OPPO        A53   Electric Black   4 GB   64 GB     4.5   \n",
       "...      ...        ...              ...    ...     ...     ...   \n",
       "2642  Xiaomi  Redmi Y3          Bold Red   4 GB   64 GB     4.3   \n",
       "2643  Xiaomi  Redmi Y3      Elegant Blue   3 GB   32 GB     4.3   \n",
       "2644  Xiaomi  Redmi Y3      Elegant Blue   4 GB   64 GB     4.2   \n",
       "2645  Xiaomi  Redmi Y3       Prime Black   3 GB   32 GB     4.2   \n",
       "2646  Xiaomi  Redmi Y3       Prime Black   4 GB   64 GB     4.3   \n",
       "\n",
       "      Selling Price  Original Price  \n",
       "0           11990.0         15990.0  \n",
       "1           11990.0         15990.0  \n",
       "2           13990.0         17990.0  \n",
       "3           13990.0         17990.0  \n",
       "4           11990.0         15990.0  \n",
       "...             ...             ...  \n",
       "2642        12999.0         13999.0  \n",
       "2643         9450.0             NaN  \n",
       "2644        12999.0             NaN  \n",
       "2645         9950.0             NaN  \n",
       "2646        12499.0         13999.0  \n",
       "\n",
       "[2647 rows x 8 columns]>"
      ]
     },
     "execution_count": 804,
     "metadata": {},
     "output_type": "execute_result"
    }
   ],
   "source": [
    "df.describe"
   ]
  },
  {
   "cell_type": "markdown",
   "metadata": {},
   "source": [
    "#### To Calculate Number of Null values from each columns"
   ]
  },
  {
   "cell_type": "code",
   "execution_count": 805,
   "metadata": {},
   "outputs": [
    {
     "data": {
      "text/plain": [
       "1946"
      ]
     },
     "execution_count": 805,
     "metadata": {},
     "output_type": "execute_result"
    }
   ],
   "source": [
    "df.isnull().sum().sum()"
   ]
  },
  {
   "cell_type": "markdown",
   "metadata": {},
   "source": [
    "### Percentage of complete missing data from dataset"
   ]
  },
  {
   "cell_type": "code",
   "execution_count": 806,
   "metadata": {},
   "outputs": [
    {
     "data": {
      "text/plain": [
       "26.482810729127316"
      ]
     },
     "execution_count": 806,
     "metadata": {},
     "output_type": "execute_result"
    }
   ],
   "source": [
    "percentage_missing_value = ((2647-1946)/2647) * 100\n",
    "percentage_missing_value"
   ]
  },
  {
   "cell_type": "markdown",
   "metadata": {},
   "source": [
    "#### calculate percentage of missing value from each column"
   ]
  },
  {
   "cell_type": "code",
   "execution_count": 807,
   "metadata": {},
   "outputs": [
    {
     "data": {
      "text/plain": [
       "Brand              0.000000\n",
       "Model              0.075557\n",
       "Color              5.364564\n",
       "Memory             1.586702\n",
       "Storage            2.984511\n",
       "Rating             0.000000\n",
       "Selling Price      0.113336\n",
       "Original Price    63.392520\n",
       "dtype: float64"
      ]
     },
     "execution_count": 807,
     "metadata": {},
     "output_type": "execute_result"
    }
   ],
   "source": [
    "percentage = df.isnull().sum() / len(df) * 100\n",
    "percentage"
   ]
  },
  {
   "cell_type": "markdown",
   "metadata": {},
   "source": [
    "#### here i drop null values from these given columns"
   ]
  },
  {
   "cell_type": "code",
   "execution_count": 808,
   "metadata": {},
   "outputs": [],
   "source": [
    "df.dropna(subset= [ 'Model','Memory','Selling Price'], inplace= True)"
   ]
  },
  {
   "cell_type": "markdown",
   "metadata": {},
   "source": [
    "#### Again Calculate null values from each columns"
   ]
  },
  {
   "cell_type": "code",
   "execution_count": 809,
   "metadata": {},
   "outputs": [
    {
     "data": {
      "text/plain": [
       "Brand                0\n",
       "Model                0\n",
       "Color              117\n",
       "Memory               0\n",
       "Storage             60\n",
       "Rating               0\n",
       "Selling Price        0\n",
       "Original Price    1636\n",
       "dtype: int64"
      ]
     },
     "execution_count": 809,
     "metadata": {},
     "output_type": "execute_result"
    }
   ],
   "source": [
    "df.isnull().sum()"
   ]
  },
  {
   "cell_type": "markdown",
   "metadata": {},
   "source": [
    "#### Here i check Unique value from Storage Columns"
   ]
  },
  {
   "cell_type": "code",
   "execution_count": 810,
   "metadata": {},
   "outputs": [
    {
     "data": {
      "text/plain": [
       "array(['64 GB', '128 GB', '32 GB', '256 GB', '16 GB', '8 GB', '64GB GB',\n",
       "       '4 GB', '512 GB', nan, '16 MB', '128 MB', '4 MB', '48 MB', '8 MB',\n",
       "       'Expandable Upto 32 GB', 'Expandable Upto 16 GB', '10 MB',\n",
       "       '256 MB', '140 MB', '64 MB', '1 TB', '32GB', '2.27 MB', '2 MB',\n",
       "       '153 MB', '512 MB', '2.3 MB', '1 MB', '0 MB', '100 MB'],\n",
       "      dtype=object)"
      ]
     },
     "execution_count": 810,
     "metadata": {},
     "output_type": "execute_result"
    }
   ],
   "source": [
    "df['Storage'].unique()"
   ]
  },
  {
   "cell_type": "markdown",
   "metadata": {},
   "source": [
    "#### Removing inconsistency from data\n",
    "conversion in data GB to MB, TB TO GB, MB TO GB\n",
    "\n",
    "Removing GB Columns"
   ]
  },
  {
   "cell_type": "code",
   "execution_count": 811,
   "metadata": {},
   "outputs": [],
   "source": [
    "df['Storage'].replace('Expandable Upto 32 GB', '32 ', inplace = True)\n",
    "\n",
    "df['Storage'].replace('Expandable Upto 16 GB', '16', inplace = True)\n",
    "\n",
    "df['Storage'].replace('64GB GB', '64 ', inplace = True)\n",
    "\n",
    "df['Storage'].replace('1 TB', '1024', inplace = True)\n",
    "\n",
    "\n",
    "df['Storage'].replace('32GB', '32 GB', inplace = True)\n",
    "\n",
    "df['Storage'].replace('16 MB', ' 0.015 ', inplace = True)\n",
    "\n",
    "df['Storage'].replace('48 MB', '0.046 ', inplace = True)\n",
    "\n",
    "\n",
    "df['Storage'].replace('512 MB', '0.5 ', inplace = True)\n",
    "\n",
    "\n",
    "df['Storage'].replace('153 MB', '0.149 ', inplace = True)\n",
    "\n",
    "\n",
    "df['Storage'].replace('4 MB', '0.003 ', inplace = True)\n",
    "\n",
    "\n",
    "df['Storage'].replace('8 MB', '0.007 ', inplace = True)\n",
    "\n",
    "\n",
    "df['Storage'].replace('64 MB', '0.062 ', inplace = True)\n",
    "\n",
    "\n",
    "df['Storage'].replace('2 MB', '0.001 ', inplace = True)\n",
    "\n",
    "\n",
    "df['Storage'].replace('256 MB', '0.25 ', inplace = True)\n",
    "\n",
    "\n",
    "df['Storage'].replace('10 MB', '0.009 ', inplace = True)\n",
    "\n",
    "\n",
    "df['Storage'].replace('100 MB', '0.097 ', inplace = True)\n",
    "\n",
    "\n",
    "df['Storage'].replace('2.3 MB', '0.002 ', inplace = True)\n",
    "\n",
    "\n",
    "df['Storage'].replace('2.27 MB', '0.002 ', inplace = True)\n",
    "\n",
    "\n",
    "df['Storage'].replace('0 MB', '0 ', inplace = True)\n",
    "\n",
    "\n",
    "df['Storage'].replace('64 GB', '64', inplace = True)\n",
    "\n",
    "\n",
    "df['Storage'].replace('128 GB', '128', inplace = True)\n",
    "\n",
    "\n",
    "df['Storage'].replace('256 GB', '256', inplace = True)\n",
    "\n",
    "\n",
    "df['Storage'].replace('32 GB', '32', inplace = True)\n",
    "\n",
    "\n",
    "df['Storage'].replace('8 GB', '8', inplace = True)\n",
    "\n",
    "df['Storage'].replace('16 GB', '16', inplace = True)\n",
    "\n",
    "\n",
    "df['Storage'].replace('512 GB', '512', inplace = True)\n",
    "\n",
    "\n",
    "df['Storage'].replace('4 GB', '4', inplace = True)\n",
    "\n",
    "df['Storage'].replace('128 MB', '0.125', inplace = True)\n",
    "\n",
    "df['Storage'].replace('140 MB', '0.136', inplace = True)\n",
    "\n",
    "df['Storage'].replace('1 MB', '0.0009', inplace = True)\n",
    "\n"
   ]
  },
  {
   "cell_type": "markdown",
   "metadata": {},
   "source": [
    "#### Again we check Unique values in dataset after removing inconsistency"
   ]
  },
  {
   "cell_type": "code",
   "execution_count": 812,
   "metadata": {},
   "outputs": [
    {
     "data": {
      "text/plain": [
       "array(['64', '128', '32', '256', '16', '8', '64 ', '4', '512', nan,\n",
       "       ' 0.015 ', '0.125', '0.003 ', '0.046 ', '0.007 ', '32 ', '0.009 ',\n",
       "       '0.25 ', '0.136', '0.062 ', '1024', '0.002 ', '0.001 ', '0.149 ',\n",
       "       '0.5 ', '0.0009', '0 ', '0.097 '], dtype=object)"
      ]
     },
     "execution_count": 812,
     "metadata": {},
     "output_type": "execute_result"
    }
   ],
   "source": [
    "df['Storage'].unique()"
   ]
  },
  {
   "cell_type": "markdown",
   "metadata": {},
   "source": [
    "#### Rename The Columns \n",
    "storage to Storage_in_GB"
   ]
  },
  {
   "cell_type": "code",
   "execution_count": 813,
   "metadata": {},
   "outputs": [
    {
     "data": {
      "text/html": [
       "<div>\n",
       "<style scoped>\n",
       "    .dataframe tbody tr th:only-of-type {\n",
       "        vertical-align: middle;\n",
       "    }\n",
       "\n",
       "    .dataframe tbody tr th {\n",
       "        vertical-align: top;\n",
       "    }\n",
       "\n",
       "    .dataframe thead th {\n",
       "        text-align: right;\n",
       "    }\n",
       "</style>\n",
       "<table border=\"1\" class=\"dataframe\">\n",
       "  <thead>\n",
       "    <tr style=\"text-align: right;\">\n",
       "      <th></th>\n",
       "      <th>Brand</th>\n",
       "      <th>Model</th>\n",
       "      <th>Color</th>\n",
       "      <th>Memory</th>\n",
       "      <th>Storage_in_GB</th>\n",
       "      <th>Rating</th>\n",
       "      <th>Selling Price</th>\n",
       "      <th>Original Price</th>\n",
       "    </tr>\n",
       "  </thead>\n",
       "  <tbody>\n",
       "    <tr>\n",
       "      <th>0</th>\n",
       "      <td>OPPO</td>\n",
       "      <td>A53</td>\n",
       "      <td>Moonlight Black</td>\n",
       "      <td>4 GB</td>\n",
       "      <td>64</td>\n",
       "      <td>4.5</td>\n",
       "      <td>11990.0</td>\n",
       "      <td>15990.0</td>\n",
       "    </tr>\n",
       "    <tr>\n",
       "      <th>1</th>\n",
       "      <td>OPPO</td>\n",
       "      <td>A53</td>\n",
       "      <td>Mint Cream</td>\n",
       "      <td>4 GB</td>\n",
       "      <td>64</td>\n",
       "      <td>4.5</td>\n",
       "      <td>11990.0</td>\n",
       "      <td>15990.0</td>\n",
       "    </tr>\n",
       "    <tr>\n",
       "      <th>2</th>\n",
       "      <td>OPPO</td>\n",
       "      <td>A53</td>\n",
       "      <td>Moonlight Black</td>\n",
       "      <td>6 GB</td>\n",
       "      <td>128</td>\n",
       "      <td>4.3</td>\n",
       "      <td>13990.0</td>\n",
       "      <td>17990.0</td>\n",
       "    </tr>\n",
       "    <tr>\n",
       "      <th>3</th>\n",
       "      <td>OPPO</td>\n",
       "      <td>A53</td>\n",
       "      <td>Mint Cream</td>\n",
       "      <td>6 GB</td>\n",
       "      <td>128</td>\n",
       "      <td>4.3</td>\n",
       "      <td>13990.0</td>\n",
       "      <td>17990.0</td>\n",
       "    </tr>\n",
       "    <tr>\n",
       "      <th>4</th>\n",
       "      <td>OPPO</td>\n",
       "      <td>A53</td>\n",
       "      <td>Electric Black</td>\n",
       "      <td>4 GB</td>\n",
       "      <td>64</td>\n",
       "      <td>4.5</td>\n",
       "      <td>11990.0</td>\n",
       "      <td>15990.0</td>\n",
       "    </tr>\n",
       "    <tr>\n",
       "      <th>...</th>\n",
       "      <td>...</td>\n",
       "      <td>...</td>\n",
       "      <td>...</td>\n",
       "      <td>...</td>\n",
       "      <td>...</td>\n",
       "      <td>...</td>\n",
       "      <td>...</td>\n",
       "      <td>...</td>\n",
       "    </tr>\n",
       "    <tr>\n",
       "      <th>2642</th>\n",
       "      <td>Xiaomi</td>\n",
       "      <td>Redmi Y3</td>\n",
       "      <td>Bold Red</td>\n",
       "      <td>4 GB</td>\n",
       "      <td>64</td>\n",
       "      <td>4.3</td>\n",
       "      <td>12999.0</td>\n",
       "      <td>13999.0</td>\n",
       "    </tr>\n",
       "    <tr>\n",
       "      <th>2643</th>\n",
       "      <td>Xiaomi</td>\n",
       "      <td>Redmi Y3</td>\n",
       "      <td>Elegant Blue</td>\n",
       "      <td>3 GB</td>\n",
       "      <td>32</td>\n",
       "      <td>4.3</td>\n",
       "      <td>9450.0</td>\n",
       "      <td>NaN</td>\n",
       "    </tr>\n",
       "    <tr>\n",
       "      <th>2644</th>\n",
       "      <td>Xiaomi</td>\n",
       "      <td>Redmi Y3</td>\n",
       "      <td>Elegant Blue</td>\n",
       "      <td>4 GB</td>\n",
       "      <td>64</td>\n",
       "      <td>4.2</td>\n",
       "      <td>12999.0</td>\n",
       "      <td>NaN</td>\n",
       "    </tr>\n",
       "    <tr>\n",
       "      <th>2645</th>\n",
       "      <td>Xiaomi</td>\n",
       "      <td>Redmi Y3</td>\n",
       "      <td>Prime Black</td>\n",
       "      <td>3 GB</td>\n",
       "      <td>32</td>\n",
       "      <td>4.2</td>\n",
       "      <td>9950.0</td>\n",
       "      <td>NaN</td>\n",
       "    </tr>\n",
       "    <tr>\n",
       "      <th>2646</th>\n",
       "      <td>Xiaomi</td>\n",
       "      <td>Redmi Y3</td>\n",
       "      <td>Prime Black</td>\n",
       "      <td>4 GB</td>\n",
       "      <td>64</td>\n",
       "      <td>4.3</td>\n",
       "      <td>12499.0</td>\n",
       "      <td>13999.0</td>\n",
       "    </tr>\n",
       "  </tbody>\n",
       "</table>\n",
       "<p>2600 rows × 8 columns</p>\n",
       "</div>"
      ],
      "text/plain": [
       "       Brand      Model            Color Memory Storage_in_GB  Rating  \\\n",
       "0       OPPO        A53  Moonlight Black   4 GB            64     4.5   \n",
       "1       OPPO        A53       Mint Cream   4 GB            64     4.5   \n",
       "2       OPPO        A53  Moonlight Black   6 GB           128     4.3   \n",
       "3       OPPO        A53       Mint Cream   6 GB           128     4.3   \n",
       "4       OPPO        A53   Electric Black   4 GB            64     4.5   \n",
       "...      ...        ...              ...    ...           ...     ...   \n",
       "2642  Xiaomi  Redmi Y3          Bold Red   4 GB            64     4.3   \n",
       "2643  Xiaomi  Redmi Y3      Elegant Blue   3 GB            32     4.3   \n",
       "2644  Xiaomi  Redmi Y3      Elegant Blue   4 GB            64     4.2   \n",
       "2645  Xiaomi  Redmi Y3       Prime Black   3 GB            32     4.2   \n",
       "2646  Xiaomi  Redmi Y3       Prime Black   4 GB            64     4.3   \n",
       "\n",
       "      Selling Price  Original Price  \n",
       "0           11990.0         15990.0  \n",
       "1           11990.0         15990.0  \n",
       "2           13990.0         17990.0  \n",
       "3           13990.0         17990.0  \n",
       "4           11990.0         15990.0  \n",
       "...             ...             ...  \n",
       "2642        12999.0         13999.0  \n",
       "2643         9450.0             NaN  \n",
       "2644        12999.0             NaN  \n",
       "2645         9950.0             NaN  \n",
       "2646        12499.0         13999.0  \n",
       "\n",
       "[2600 rows x 8 columns]"
      ]
     },
     "execution_count": 813,
     "metadata": {},
     "output_type": "execute_result"
    }
   ],
   "source": [
    "# Correctly renaming columns\n",
    "df.rename(columns={'Storage':'Storage_in_GB'}, inplace=True)\n",
    "df"
   ]
  },
  {
   "cell_type": "markdown",
   "metadata": {},
   "source": [
    "#### Then we  do imputation with mean where our data is not fill "
   ]
  },
  {
   "cell_type": "code",
   "execution_count": 815,
   "metadata": {},
   "outputs": [],
   "source": [
    "mode_value = df['Storage_in_GB'].mode()[0]\n",
    "\n",
    "df['Storage_in_GB'].fillna(mode_value, inplace = True)"
   ]
  },
  {
   "cell_type": "markdown",
   "metadata": {},
   "source": [
    "#### After do imputation we check our data"
   ]
  },
  {
   "cell_type": "code",
   "execution_count": 816,
   "metadata": {},
   "outputs": [
    {
     "data": {
      "text/plain": [
       "0        64\n",
       "1        64\n",
       "2       128\n",
       "3       128\n",
       "4        64\n",
       "       ... \n",
       "2642     64\n",
       "2643     32\n",
       "2644     64\n",
       "2645     32\n",
       "2646     64\n",
       "Name: Storage_in_GB, Length: 2600, dtype: object"
      ]
     },
     "execution_count": 816,
     "metadata": {},
     "output_type": "execute_result"
    }
   ],
   "source": [
    "df['Storage_in_GB']"
   ]
  },
  {
   "cell_type": "markdown",
   "metadata": {},
   "source": [
    "#### we change the data type of given Columns \n",
    "From object to Float to detect outliers"
   ]
  },
  {
   "cell_type": "code",
   "execution_count": 817,
   "metadata": {},
   "outputs": [],
   "source": [
    "df['Storage_in_GB'] = df['Storage_in_GB'].astype('float')\n"
   ]
  },
  {
   "cell_type": "markdown",
   "metadata": {},
   "source": [
    "#### After changing data type"
   ]
  },
  {
   "cell_type": "code",
   "execution_count": 818,
   "metadata": {},
   "outputs": [
    {
     "name": "stdout",
     "output_type": "stream",
     "text": [
      "<class 'pandas.core.frame.DataFrame'>\n",
      "Int64Index: 2600 entries, 0 to 2646\n",
      "Data columns (total 8 columns):\n",
      " #   Column          Non-Null Count  Dtype  \n",
      "---  ------          --------------  -----  \n",
      " 0   Brand           2600 non-null   object \n",
      " 1   Model           2600 non-null   object \n",
      " 2   Color           2483 non-null   object \n",
      " 3   Memory          2600 non-null   object \n",
      " 4   Storage_in_GB   2600 non-null   float64\n",
      " 5   Rating          2600 non-null   float64\n",
      " 6   Selling Price   2600 non-null   float64\n",
      " 7   Original Price  964 non-null    float64\n",
      "dtypes: float64(4), object(4)\n",
      "memory usage: 182.8+ KB\n"
     ]
    }
   ],
   "source": [
    "\n",
    "df.info()"
   ]
  },
  {
   "cell_type": "markdown",
   "metadata": {},
   "source": [
    "#### here we detect outliers in data with help of Z_Score method"
   ]
  },
  {
   "cell_type": "code",
   "execution_count": 819,
   "metadata": {},
   "outputs": [],
   "source": [
    "def detect_outliers(df, threshold = 3):\n",
    "    \n",
    "    outliers = []\n",
    "    \n",
    "    means = np.mean(df)\n",
    "    std = np.std(df)\n",
    "    \n",
    "    for i in df:\n",
    "        \n",
    "        z_score = (i - means)/df\n",
    "        \n",
    "        if np.abs(z_score) > threshold :\n",
    "            \n",
    "            outliers.append(i)\n",
    "            \n",
    "        return outliers\n",
    "    \n",
    "    df['Storage_in_GB']\n",
    "    \n",
    "    detect_outliers()    "
   ]
  },
  {
   "cell_type": "markdown",
   "metadata": {},
   "source": [
    "#### Showing Outliers with help of graph"
   ]
  },
  {
   "cell_type": "code",
   "execution_count": 820,
   "metadata": {},
   "outputs": [
    {
     "data": {
      "image/png": "[encoded data removed]",
      "text/plain": [
       "<Figure size 640x480 with 1 Axes>"
      ]
     },
     "metadata": {},
     "output_type": "display_data"
    }
   ],
   "source": [
    "sns.boxplot(df['Storage_in_GB'])\n",
    "plt.show()"
   ]
  },
  {
   "cell_type": "markdown",
   "metadata": {},
   "source": [
    "#### This Method is used to remove Outliers from dataset"
   ]
  },
  {
   "cell_type": "code",
   "execution_count": 821,
   "metadata": {},
   "outputs": [
    {
     "name": "stdout",
     "output_type": "stream",
     "text": [
      "Filtered DataFrame without 512 and 1024:\n"
     ]
    },
    {
     "data": {
      "text/html": [
       "<div>\n",
       "<style scoped>\n",
       "    .dataframe tbody tr th:only-of-type {\n",
       "        vertical-align: middle;\n",
       "    }\n",
       "\n",
       "    .dataframe tbody tr th {\n",
       "        vertical-align: top;\n",
       "    }\n",
       "\n",
       "    .dataframe thead th {\n",
       "        text-align: right;\n",
       "    }\n",
       "</style>\n",
       "<table border=\"1\" class=\"dataframe\">\n",
       "  <thead>\n",
       "    <tr style=\"text-align: right;\">\n",
       "      <th></th>\n",
       "      <th>Brand</th>\n",
       "      <th>Model</th>\n",
       "      <th>Color</th>\n",
       "      <th>Memory</th>\n",
       "      <th>Storage_in_GB</th>\n",
       "      <th>Rating</th>\n",
       "      <th>Selling Price</th>\n",
       "      <th>Original Price</th>\n",
       "    </tr>\n",
       "  </thead>\n",
       "  <tbody>\n",
       "    <tr>\n",
       "      <th>0</th>\n",
       "      <td>OPPO</td>\n",
       "      <td>A53</td>\n",
       "      <td>Moonlight Black</td>\n",
       "      <td>4 GB</td>\n",
       "      <td>64.0</td>\n",
       "      <td>4.5</td>\n",
       "      <td>11990.0</td>\n",
       "      <td>15990.0</td>\n",
       "    </tr>\n",
       "    <tr>\n",
       "      <th>1</th>\n",
       "      <td>OPPO</td>\n",
       "      <td>A53</td>\n",
       "      <td>Mint Cream</td>\n",
       "      <td>4 GB</td>\n",
       "      <td>64.0</td>\n",
       "      <td>4.5</td>\n",
       "      <td>11990.0</td>\n",
       "      <td>15990.0</td>\n",
       "    </tr>\n",
       "    <tr>\n",
       "      <th>2</th>\n",
       "      <td>OPPO</td>\n",
       "      <td>A53</td>\n",
       "      <td>Moonlight Black</td>\n",
       "      <td>6 GB</td>\n",
       "      <td>128.0</td>\n",
       "      <td>4.3</td>\n",
       "      <td>13990.0</td>\n",
       "      <td>17990.0</td>\n",
       "    </tr>\n",
       "    <tr>\n",
       "      <th>3</th>\n",
       "      <td>OPPO</td>\n",
       "      <td>A53</td>\n",
       "      <td>Mint Cream</td>\n",
       "      <td>6 GB</td>\n",
       "      <td>128.0</td>\n",
       "      <td>4.3</td>\n",
       "      <td>13990.0</td>\n",
       "      <td>17990.0</td>\n",
       "    </tr>\n",
       "    <tr>\n",
       "      <th>4</th>\n",
       "      <td>OPPO</td>\n",
       "      <td>A53</td>\n",
       "      <td>Electric Black</td>\n",
       "      <td>4 GB</td>\n",
       "      <td>64.0</td>\n",
       "      <td>4.5</td>\n",
       "      <td>11990.0</td>\n",
       "      <td>15990.0</td>\n",
       "    </tr>\n",
       "    <tr>\n",
       "      <th>...</th>\n",
       "      <td>...</td>\n",
       "      <td>...</td>\n",
       "      <td>...</td>\n",
       "      <td>...</td>\n",
       "      <td>...</td>\n",
       "      <td>...</td>\n",
       "      <td>...</td>\n",
       "      <td>...</td>\n",
       "    </tr>\n",
       "    <tr>\n",
       "      <th>2642</th>\n",
       "      <td>Xiaomi</td>\n",
       "      <td>Redmi Y3</td>\n",
       "      <td>Bold Red</td>\n",
       "      <td>4 GB</td>\n",
       "      <td>64.0</td>\n",
       "      <td>4.3</td>\n",
       "      <td>12999.0</td>\n",
       "      <td>13999.0</td>\n",
       "    </tr>\n",
       "    <tr>\n",
       "      <th>2643</th>\n",
       "      <td>Xiaomi</td>\n",
       "      <td>Redmi Y3</td>\n",
       "      <td>Elegant Blue</td>\n",
       "      <td>3 GB</td>\n",
       "      <td>32.0</td>\n",
       "      <td>4.3</td>\n",
       "      <td>9450.0</td>\n",
       "      <td>NaN</td>\n",
       "    </tr>\n",
       "    <tr>\n",
       "      <th>2644</th>\n",
       "      <td>Xiaomi</td>\n",
       "      <td>Redmi Y3</td>\n",
       "      <td>Elegant Blue</td>\n",
       "      <td>4 GB</td>\n",
       "      <td>64.0</td>\n",
       "      <td>4.2</td>\n",
       "      <td>12999.0</td>\n",
       "      <td>NaN</td>\n",
       "    </tr>\n",
       "    <tr>\n",
       "      <th>2645</th>\n",
       "      <td>Xiaomi</td>\n",
       "      <td>Redmi Y3</td>\n",
       "      <td>Prime Black</td>\n",
       "      <td>3 GB</td>\n",
       "      <td>32.0</td>\n",
       "      <td>4.2</td>\n",
       "      <td>9950.0</td>\n",
       "      <td>NaN</td>\n",
       "    </tr>\n",
       "    <tr>\n",
       "      <th>2646</th>\n",
       "      <td>Xiaomi</td>\n",
       "      <td>Redmi Y3</td>\n",
       "      <td>Prime Black</td>\n",
       "      <td>4 GB</td>\n",
       "      <td>64.0</td>\n",
       "      <td>4.3</td>\n",
       "      <td>12499.0</td>\n",
       "      <td>13999.0</td>\n",
       "    </tr>\n",
       "  </tbody>\n",
       "</table>\n",
       "<p>2537 rows × 8 columns</p>\n",
       "</div>"
      ],
      "text/plain": [
       "       Brand      Model            Color Memory  Storage_in_GB  Rating  \\\n",
       "0       OPPO        A53  Moonlight Black   4 GB           64.0     4.5   \n",
       "1       OPPO        A53       Mint Cream   4 GB           64.0     4.5   \n",
       "2       OPPO        A53  Moonlight Black   6 GB          128.0     4.3   \n",
       "3       OPPO        A53       Mint Cream   6 GB          128.0     4.3   \n",
       "4       OPPO        A53   Electric Black   4 GB           64.0     4.5   \n",
       "...      ...        ...              ...    ...            ...     ...   \n",
       "2642  Xiaomi  Redmi Y3          Bold Red   4 GB           64.0     4.3   \n",
       "2643  Xiaomi  Redmi Y3      Elegant Blue   3 GB           32.0     4.3   \n",
       "2644  Xiaomi  Redmi Y3      Elegant Blue   4 GB           64.0     4.2   \n",
       "2645  Xiaomi  Redmi Y3       Prime Black   3 GB           32.0     4.2   \n",
       "2646  Xiaomi  Redmi Y3       Prime Black   4 GB           64.0     4.3   \n",
       "\n",
       "      Selling Price  Original Price  \n",
       "0           11990.0         15990.0  \n",
       "1           11990.0         15990.0  \n",
       "2           13990.0         17990.0  \n",
       "3           13990.0         17990.0  \n",
       "4           11990.0         15990.0  \n",
       "...             ...             ...  \n",
       "2642        12999.0         13999.0  \n",
       "2643         9450.0             NaN  \n",
       "2644        12999.0             NaN  \n",
       "2645         9950.0             NaN  \n",
       "2646        12499.0         13999.0  \n",
       "\n",
       "[2537 rows x 8 columns]"
      ]
     },
     "execution_count": 821,
     "metadata": {},
     "output_type": "execute_result"
    }
   ],
   "source": [
    "df_filtered = df[(df['Storage_in_GB'] != 512) & (df['Storage_in_GB'] != 1024)]\n",
    "\n",
    "# Print the updated DataFrame to verify\n",
    "print(\"Filtered DataFrame without 512 and 1024:\")\n",
    "\n",
    "df_filtered\n"
   ]
  },
  {
   "cell_type": "markdown",
   "metadata": {},
   "source": [
    "#### After Removing outlier Result shown in Graph"
   ]
  },
  {
   "cell_type": "code",
   "execution_count": 822,
   "metadata": {},
   "outputs": [
    {
     "data": {
      "image/png": "[encoded data removed]",
      "text/plain": [
       "<Figure size 640x480 with 1 Axes>"
      ]
     },
     "metadata": {},
     "output_type": "display_data"
    }
   ],
   "source": [
    "sns.boxplot(y=df_filtered['Storage_in_GB'])\n",
    "\n",
    "plt.title('Boxplot of Storage in GB (Excluding 512 and 1024)')\n",
    "\n",
    "plt.show()"
   ]
  },
  {
   "cell_type": "markdown",
   "metadata": {},
   "source": [
    "#### we check number of unique values"
   ]
  },
  {
   "cell_type": "code",
   "execution_count": 823,
   "metadata": {},
   "outputs": [
    {
     "data": {
      "text/plain": [
       "529"
      ]
     },
     "execution_count": 823,
     "metadata": {},
     "output_type": "execute_result"
    }
   ],
   "source": [
    "df['Color'].nunique()"
   ]
  },
  {
   "cell_type": "markdown",
   "metadata": {},
   "source": [
    "#### convert all colors in lowerCase"
   ]
  },
  {
   "cell_type": "code",
   "execution_count": 824,
   "metadata": {},
   "outputs": [],
   "source": [
    "df['Color'] = df['Color'].str.lower()"
   ]
  },
  {
   "cell_type": "markdown",
   "metadata": {},
   "source": [
    "#### again check number of unique values"
   ]
  },
  {
   "cell_type": "code",
   "execution_count": 825,
   "metadata": {},
   "outputs": [
    {
     "data": {
      "text/plain": [
       "507"
      ]
     },
     "execution_count": 825,
     "metadata": {},
     "output_type": "execute_result"
    }
   ],
   "source": [
    "df['Color'].nunique()"
   ]
  },
  {
   "cell_type": "code",
   "execution_count": 826,
   "metadata": {},
   "outputs": [],
   "source": [
    "## Corect spelling mistakes of color Grey\n",
    "\n",
    "df['Color'].replace('grey / silver', 'silver grey', inplace = True)\n",
    "df['Color'].replace('grey/dark grey', 'dark grey', inplace = True)\n",
    "df['Color'].replace('grey / dark grey', 'dark grey', inplace = True)\n",
    "df['Color'].replace('grey/graphite grey', 'graphite grey', inplace = True)\n",
    "df['Color'].replace('grey / graphite grey', 'graphite grey', inplace = True)\n",
    "df['Color'].replace('grey/black', 'grey & black', inplace = True)\n",
    "df['Color'].replace('grey/flash gray', 'flash grey', inplace = True)\n",
    "df['Color'].replace('lunar gray', 'lunar gray', inplace = True)\n",
    "df['Color'].replace('gray', 'grey', inplace = True)\n",
    "df['Color'].replace('smokey gray', 'smokey grey', inplace = True)\n",
    "df['Color'].replace('aurora gray', 'aurora grey', inplace = True)\n",
    "df['Color'].replace('metallic gray', 'metallic grey', inplace = True)\n",
    "df['Color'].replace('phantom gray', 'phantom grey', inplace = True)\n",
    "df['Color'].replace('cosmic gray', 'cosmic grey', inplace = True)\n",
    "df['Color'].replace('dark gray', 'dark grey', inplace = True)\n",
    "df['Color'].replace('charcoal gray', 'charcoal grey', inplace = True)\n",
    "df['Color'].replace('titan gray', 'titan grey', inplace = True)\n",
    "df['Color'].replace('space gray', 'space grey', inplace = True)\n",
    "\n",
    "df['Color'].replace('blue mb', 'blue', inplace = True)\n",
    "\n",
    "df['Color'].replace('so white', 'white', inplace = True)\n",
    "df['Color'].replace('that green', 'green', inplace = True)\n",
    "df['Color'].replace('that white', 'white', inplace = True)\n",
    "df['Color'].replace('so blue', 'blue', inplace = True)\n",
    "df['Color'].replace('that blue', 'blue', inplace = True)\n",
    "df['Color'].replace('black and gold', 'black & gold', inplace = True)\n",
    "df['Color'].replace('night | dark blue', 'dark blue', inplace = True)\n",
    "df['Color'].replace('dusk | purple', 'dusk purple', inplace = True)\n",
    "df['Color'].replace('blue&copper', 'blue & copper', inplace = True)\n",
    "df['Color'].replace('copper/black', 'copper & black', inplace = True)\n",
    "df['Color'].replace('blue/copper', 'blue & copper', inplace = True)\n",
    "df['Color'].replace('black&blue', 'black & blue', inplace = True)\n",
    "df['Color'].replace('pewter / white', 'pewter white', inplace = True)\n",
    "df['Color'].replace('black/tuxedo black ', 'tuxedo black', inplace = True)\n",
    "df['Color'].replace('kind of grey', 'grey', inplace = True)\n",
    "df['Color'].replace('more than white', 'white', inplace = True)\n",
    "df['Color'].replace(' tornado black', 'tornado black', inplace = True)\n",
    "df['Color'].replace('just black', 'black', inplace = True)\n",
    "df['Color'].replace('clearly white', 'white', inplace = True)\n",
    "df['Color'].replace('very silver', 'silver', inplace = True)\n",
    "df['Color'].replace('mostly blue', 'blue', inplace = True)\n",
    "df['Color'].replace('pure white', 'white', inplace = True)\n",
    "\n",
    "## Replace ambiguous valu with UnKnown\n",
    "df['Color'].replace('concrete', 'unknown', inplace = True)\n",
    "df['Color'].replace('not pink', 'unknown', inplace = True)\n",
    "df['Color'].replace('not just blue', 'unknown', inplace = True)\n",
    "df['Color'].replace('100 mb', 'unknown', inplace = True)"
   ]
  },
  {
   "cell_type": "markdown",
   "metadata": {},
   "source": [
    "#### Again Check Null values"
   ]
  },
  {
   "cell_type": "code",
   "execution_count": 827,
   "metadata": {},
   "outputs": [
    {
     "data": {
      "text/plain": [
       "Brand                0\n",
       "Model                0\n",
       "Color              117\n",
       "Memory               0\n",
       "Storage_in_GB        0\n",
       "Rating               0\n",
       "Selling Price        0\n",
       "Original Price    1636\n",
       "dtype: int64"
      ]
     },
     "execution_count": 827,
     "metadata": {},
     "output_type": "execute_result"
    }
   ],
   "source": [
    "df.isnull().sum()"
   ]
  },
  {
   "cell_type": "markdown",
   "metadata": {},
   "source": [
    "#### Removing All Null values"
   ]
  },
  {
   "cell_type": "code",
   "execution_count": 828,
   "metadata": {},
   "outputs": [
    {
     "data": {
      "text/html": [
       "<div>\n",
       "<style scoped>\n",
       "    .dataframe tbody tr th:only-of-type {\n",
       "        vertical-align: middle;\n",
       "    }\n",
       "\n",
       "    .dataframe tbody tr th {\n",
       "        vertical-align: top;\n",
       "    }\n",
       "\n",
       "    .dataframe thead th {\n",
       "        text-align: right;\n",
       "    }\n",
       "</style>\n",
       "<table border=\"1\" class=\"dataframe\">\n",
       "  <thead>\n",
       "    <tr style=\"text-align: right;\">\n",
       "      <th></th>\n",
       "      <th>Brand</th>\n",
       "      <th>Model</th>\n",
       "      <th>Color</th>\n",
       "      <th>Memory</th>\n",
       "      <th>Storage_in_GB</th>\n",
       "      <th>Rating</th>\n",
       "      <th>Selling Price</th>\n",
       "      <th>Original Price</th>\n",
       "    </tr>\n",
       "  </thead>\n",
       "  <tbody>\n",
       "    <tr>\n",
       "      <th>0</th>\n",
       "      <td>OPPO</td>\n",
       "      <td>A53</td>\n",
       "      <td>moonlight black</td>\n",
       "      <td>4 GB</td>\n",
       "      <td>64.0</td>\n",
       "      <td>4.5</td>\n",
       "      <td>11990.0</td>\n",
       "      <td>15990.0</td>\n",
       "    </tr>\n",
       "    <tr>\n",
       "      <th>1</th>\n",
       "      <td>OPPO</td>\n",
       "      <td>A53</td>\n",
       "      <td>mint cream</td>\n",
       "      <td>4 GB</td>\n",
       "      <td>64.0</td>\n",
       "      <td>4.5</td>\n",
       "      <td>11990.0</td>\n",
       "      <td>15990.0</td>\n",
       "    </tr>\n",
       "    <tr>\n",
       "      <th>2</th>\n",
       "      <td>OPPO</td>\n",
       "      <td>A53</td>\n",
       "      <td>moonlight black</td>\n",
       "      <td>6 GB</td>\n",
       "      <td>128.0</td>\n",
       "      <td>4.3</td>\n",
       "      <td>13990.0</td>\n",
       "      <td>17990.0</td>\n",
       "    </tr>\n",
       "    <tr>\n",
       "      <th>3</th>\n",
       "      <td>OPPO</td>\n",
       "      <td>A53</td>\n",
       "      <td>mint cream</td>\n",
       "      <td>6 GB</td>\n",
       "      <td>128.0</td>\n",
       "      <td>4.3</td>\n",
       "      <td>13990.0</td>\n",
       "      <td>17990.0</td>\n",
       "    </tr>\n",
       "    <tr>\n",
       "      <th>4</th>\n",
       "      <td>OPPO</td>\n",
       "      <td>A53</td>\n",
       "      <td>electric black</td>\n",
       "      <td>4 GB</td>\n",
       "      <td>64.0</td>\n",
       "      <td>4.5</td>\n",
       "      <td>11990.0</td>\n",
       "      <td>15990.0</td>\n",
       "    </tr>\n",
       "    <tr>\n",
       "      <th>...</th>\n",
       "      <td>...</td>\n",
       "      <td>...</td>\n",
       "      <td>...</td>\n",
       "      <td>...</td>\n",
       "      <td>...</td>\n",
       "      <td>...</td>\n",
       "      <td>...</td>\n",
       "      <td>...</td>\n",
       "    </tr>\n",
       "    <tr>\n",
       "      <th>2642</th>\n",
       "      <td>Xiaomi</td>\n",
       "      <td>Redmi Y3</td>\n",
       "      <td>bold red</td>\n",
       "      <td>4 GB</td>\n",
       "      <td>64.0</td>\n",
       "      <td>4.3</td>\n",
       "      <td>12999.0</td>\n",
       "      <td>13999.0</td>\n",
       "    </tr>\n",
       "    <tr>\n",
       "      <th>2643</th>\n",
       "      <td>Xiaomi</td>\n",
       "      <td>Redmi Y3</td>\n",
       "      <td>elegant blue</td>\n",
       "      <td>3 GB</td>\n",
       "      <td>32.0</td>\n",
       "      <td>4.3</td>\n",
       "      <td>9450.0</td>\n",
       "      <td>NaN</td>\n",
       "    </tr>\n",
       "    <tr>\n",
       "      <th>2644</th>\n",
       "      <td>Xiaomi</td>\n",
       "      <td>Redmi Y3</td>\n",
       "      <td>elegant blue</td>\n",
       "      <td>4 GB</td>\n",
       "      <td>64.0</td>\n",
       "      <td>4.2</td>\n",
       "      <td>12999.0</td>\n",
       "      <td>NaN</td>\n",
       "    </tr>\n",
       "    <tr>\n",
       "      <th>2645</th>\n",
       "      <td>Xiaomi</td>\n",
       "      <td>Redmi Y3</td>\n",
       "      <td>prime black</td>\n",
       "      <td>3 GB</td>\n",
       "      <td>32.0</td>\n",
       "      <td>4.2</td>\n",
       "      <td>9950.0</td>\n",
       "      <td>NaN</td>\n",
       "    </tr>\n",
       "    <tr>\n",
       "      <th>2646</th>\n",
       "      <td>Xiaomi</td>\n",
       "      <td>Redmi Y3</td>\n",
       "      <td>prime black</td>\n",
       "      <td>4 GB</td>\n",
       "      <td>64.0</td>\n",
       "      <td>4.3</td>\n",
       "      <td>12499.0</td>\n",
       "      <td>13999.0</td>\n",
       "    </tr>\n",
       "  </tbody>\n",
       "</table>\n",
       "<p>2593 rows × 8 columns</p>\n",
       "</div>"
      ],
      "text/plain": [
       "       Brand      Model            Color Memory  Storage_in_GB  Rating  \\\n",
       "0       OPPO        A53  moonlight black   4 GB           64.0     4.5   \n",
       "1       OPPO        A53       mint cream   4 GB           64.0     4.5   \n",
       "2       OPPO        A53  moonlight black   6 GB          128.0     4.3   \n",
       "3       OPPO        A53       mint cream   6 GB          128.0     4.3   \n",
       "4       OPPO        A53   electric black   4 GB           64.0     4.5   \n",
       "...      ...        ...              ...    ...            ...     ...   \n",
       "2642  Xiaomi  Redmi Y3          bold red   4 GB           64.0     4.3   \n",
       "2643  Xiaomi  Redmi Y3      elegant blue   3 GB           32.0     4.3   \n",
       "2644  Xiaomi  Redmi Y3      elegant blue   4 GB           64.0     4.2   \n",
       "2645  Xiaomi  Redmi Y3       prime black   3 GB           32.0     4.2   \n",
       "2646  Xiaomi  Redmi Y3       prime black   4 GB           64.0     4.3   \n",
       "\n",
       "      Selling Price  Original Price  \n",
       "0           11990.0         15990.0  \n",
       "1           11990.0         15990.0  \n",
       "2           13990.0         17990.0  \n",
       "3           13990.0         17990.0  \n",
       "4           11990.0         15990.0  \n",
       "...             ...             ...  \n",
       "2642        12999.0         13999.0  \n",
       "2643         9450.0             NaN  \n",
       "2644        12999.0             NaN  \n",
       "2645         9950.0             NaN  \n",
       "2646        12499.0         13999.0  \n",
       "\n",
       "[2593 rows x 8 columns]"
      ]
     },
     "execution_count": 828,
     "metadata": {},
     "output_type": "execute_result"
    }
   ],
   "source": [
    "df = df[df['Color'] != 'unknown']\n",
    "df"
   ]
  },
  {
   "cell_type": "markdown",
   "metadata": {},
   "source": [
    "#### imputing the null values with mode"
   ]
  },
  {
   "cell_type": "code",
   "execution_count": 829,
   "metadata": {},
   "outputs": [
    {
     "name": "stderr",
     "output_type": "stream",
     "text": [
      "C:\\Users\\h\\AppData\\Local\\Temp\\ipykernel_9236\\33286400.py:3: SettingWithCopyWarning: \n",
      "A value is trying to be set on a copy of a slice from a DataFrame\n",
      "\n",
      "See the caveats in the documentation: https://pandas.pydata.org/pandas-docs/stable/user_guide/indexing.html#returning-a-view-versus-a-copy\n",
      "  df['Color'].fillna(mode_value, inplace = True)\n"
     ]
    },
    {
     "data": {
      "text/html": [
       "<div>\n",
       "<style scoped>\n",
       "    .dataframe tbody tr th:only-of-type {\n",
       "        vertical-align: middle;\n",
       "    }\n",
       "\n",
       "    .dataframe tbody tr th {\n",
       "        vertical-align: top;\n",
       "    }\n",
       "\n",
       "    .dataframe thead th {\n",
       "        text-align: right;\n",
       "    }\n",
       "</style>\n",
       "<table border=\"1\" class=\"dataframe\">\n",
       "  <thead>\n",
       "    <tr style=\"text-align: right;\">\n",
       "      <th></th>\n",
       "      <th>Brand</th>\n",
       "      <th>Model</th>\n",
       "      <th>Color</th>\n",
       "      <th>Memory</th>\n",
       "      <th>Storage_in_GB</th>\n",
       "      <th>Rating</th>\n",
       "      <th>Selling Price</th>\n",
       "      <th>Original Price</th>\n",
       "    </tr>\n",
       "  </thead>\n",
       "  <tbody>\n",
       "    <tr>\n",
       "      <th>0</th>\n",
       "      <td>OPPO</td>\n",
       "      <td>A53</td>\n",
       "      <td>moonlight black</td>\n",
       "      <td>4 GB</td>\n",
       "      <td>64.0</td>\n",
       "      <td>4.5</td>\n",
       "      <td>11990.0</td>\n",
       "      <td>15990.0</td>\n",
       "    </tr>\n",
       "    <tr>\n",
       "      <th>1</th>\n",
       "      <td>OPPO</td>\n",
       "      <td>A53</td>\n",
       "      <td>mint cream</td>\n",
       "      <td>4 GB</td>\n",
       "      <td>64.0</td>\n",
       "      <td>4.5</td>\n",
       "      <td>11990.0</td>\n",
       "      <td>15990.0</td>\n",
       "    </tr>\n",
       "    <tr>\n",
       "      <th>2</th>\n",
       "      <td>OPPO</td>\n",
       "      <td>A53</td>\n",
       "      <td>moonlight black</td>\n",
       "      <td>6 GB</td>\n",
       "      <td>128.0</td>\n",
       "      <td>4.3</td>\n",
       "      <td>13990.0</td>\n",
       "      <td>17990.0</td>\n",
       "    </tr>\n",
       "    <tr>\n",
       "      <th>3</th>\n",
       "      <td>OPPO</td>\n",
       "      <td>A53</td>\n",
       "      <td>mint cream</td>\n",
       "      <td>6 GB</td>\n",
       "      <td>128.0</td>\n",
       "      <td>4.3</td>\n",
       "      <td>13990.0</td>\n",
       "      <td>17990.0</td>\n",
       "    </tr>\n",
       "    <tr>\n",
       "      <th>4</th>\n",
       "      <td>OPPO</td>\n",
       "      <td>A53</td>\n",
       "      <td>electric black</td>\n",
       "      <td>4 GB</td>\n",
       "      <td>64.0</td>\n",
       "      <td>4.5</td>\n",
       "      <td>11990.0</td>\n",
       "      <td>15990.0</td>\n",
       "    </tr>\n",
       "    <tr>\n",
       "      <th>...</th>\n",
       "      <td>...</td>\n",
       "      <td>...</td>\n",
       "      <td>...</td>\n",
       "      <td>...</td>\n",
       "      <td>...</td>\n",
       "      <td>...</td>\n",
       "      <td>...</td>\n",
       "      <td>...</td>\n",
       "    </tr>\n",
       "    <tr>\n",
       "      <th>2642</th>\n",
       "      <td>Xiaomi</td>\n",
       "      <td>Redmi Y3</td>\n",
       "      <td>bold red</td>\n",
       "      <td>4 GB</td>\n",
       "      <td>64.0</td>\n",
       "      <td>4.3</td>\n",
       "      <td>12999.0</td>\n",
       "      <td>13999.0</td>\n",
       "    </tr>\n",
       "    <tr>\n",
       "      <th>2643</th>\n",
       "      <td>Xiaomi</td>\n",
       "      <td>Redmi Y3</td>\n",
       "      <td>elegant blue</td>\n",
       "      <td>3 GB</td>\n",
       "      <td>32.0</td>\n",
       "      <td>4.3</td>\n",
       "      <td>9450.0</td>\n",
       "      <td>NaN</td>\n",
       "    </tr>\n",
       "    <tr>\n",
       "      <th>2644</th>\n",
       "      <td>Xiaomi</td>\n",
       "      <td>Redmi Y3</td>\n",
       "      <td>elegant blue</td>\n",
       "      <td>4 GB</td>\n",
       "      <td>64.0</td>\n",
       "      <td>4.2</td>\n",
       "      <td>12999.0</td>\n",
       "      <td>NaN</td>\n",
       "    </tr>\n",
       "    <tr>\n",
       "      <th>2645</th>\n",
       "      <td>Xiaomi</td>\n",
       "      <td>Redmi Y3</td>\n",
       "      <td>prime black</td>\n",
       "      <td>3 GB</td>\n",
       "      <td>32.0</td>\n",
       "      <td>4.2</td>\n",
       "      <td>9950.0</td>\n",
       "      <td>NaN</td>\n",
       "    </tr>\n",
       "    <tr>\n",
       "      <th>2646</th>\n",
       "      <td>Xiaomi</td>\n",
       "      <td>Redmi Y3</td>\n",
       "      <td>prime black</td>\n",
       "      <td>4 GB</td>\n",
       "      <td>64.0</td>\n",
       "      <td>4.3</td>\n",
       "      <td>12499.0</td>\n",
       "      <td>13999.0</td>\n",
       "    </tr>\n",
       "  </tbody>\n",
       "</table>\n",
       "<p>2593 rows × 8 columns</p>\n",
       "</div>"
      ],
      "text/plain": [
       "       Brand      Model            Color Memory  Storage_in_GB  Rating  \\\n",
       "0       OPPO        A53  moonlight black   4 GB           64.0     4.5   \n",
       "1       OPPO        A53       mint cream   4 GB           64.0     4.5   \n",
       "2       OPPO        A53  moonlight black   6 GB          128.0     4.3   \n",
       "3       OPPO        A53       mint cream   6 GB          128.0     4.3   \n",
       "4       OPPO        A53   electric black   4 GB           64.0     4.5   \n",
       "...      ...        ...              ...    ...            ...     ...   \n",
       "2642  Xiaomi  Redmi Y3          bold red   4 GB           64.0     4.3   \n",
       "2643  Xiaomi  Redmi Y3      elegant blue   3 GB           32.0     4.3   \n",
       "2644  Xiaomi  Redmi Y3      elegant blue   4 GB           64.0     4.2   \n",
       "2645  Xiaomi  Redmi Y3       prime black   3 GB           32.0     4.2   \n",
       "2646  Xiaomi  Redmi Y3       prime black   4 GB           64.0     4.3   \n",
       "\n",
       "      Selling Price  Original Price  \n",
       "0           11990.0         15990.0  \n",
       "1           11990.0         15990.0  \n",
       "2           13990.0         17990.0  \n",
       "3           13990.0         17990.0  \n",
       "4           11990.0         15990.0  \n",
       "...             ...             ...  \n",
       "2642        12999.0         13999.0  \n",
       "2643         9450.0             NaN  \n",
       "2644        12999.0             NaN  \n",
       "2645         9950.0             NaN  \n",
       "2646        12499.0         13999.0  \n",
       "\n",
       "[2593 rows x 8 columns]"
      ]
     },
     "execution_count": 829,
     "metadata": {},
     "output_type": "execute_result"
    }
   ],
   "source": [
    "mode_value = df['Color'].mode()[0]\n",
    "\n",
    "df['Color'].fillna(mode_value, inplace = True)\n",
    "df"
   ]
  },
  {
   "cell_type": "markdown",
   "metadata": {},
   "source": [
    "#### Again check null values"
   ]
  },
  {
   "cell_type": "code",
   "execution_count": 830,
   "metadata": {},
   "outputs": [
    {
     "data": {
      "text/plain": [
       "Brand                0\n",
       "Model                0\n",
       "Color                0\n",
       "Memory               0\n",
       "Storage_in_GB        0\n",
       "Rating               0\n",
       "Selling Price        0\n",
       "Original Price    1630\n",
       "dtype: int64"
      ]
     },
     "execution_count": 830,
     "metadata": {},
     "output_type": "execute_result"
    }
   ],
   "source": [
    "df.isnull().sum()"
   ]
  },
  {
   "cell_type": "markdown",
   "metadata": {},
   "source": [
    "#### Imputing null values in Original Price with mean"
   ]
  },
  {
   "cell_type": "code",
   "execution_count": 831,
   "metadata": {},
   "outputs": [
    {
     "data": {
      "text/plain": [
       "29808.665975103733"
      ]
     },
     "execution_count": 831,
     "metadata": {},
     "output_type": "execute_result"
    }
   ],
   "source": [
    "mean_value = df['Original Price'].mean()\n",
    "mean_vlue"
   ]
  },
  {
   "cell_type": "code",
   "execution_count": 832,
   "metadata": {},
   "outputs": [
    {
     "name": "stderr",
     "output_type": "stream",
     "text": [
      "C:\\Users\\h\\AppData\\Local\\Temp\\ipykernel_9236\\3056690608.py:1: SettingWithCopyWarning: \n",
      "A value is trying to be set on a copy of a slice from a DataFrame\n",
      "\n",
      "See the caveats in the documentation: https://pandas.pydata.org/pandas-docs/stable/user_guide/indexing.html#returning-a-view-versus-a-copy\n",
      "  df['Original Price'].fillna(mean_value, inplace = True)\n"
     ]
    },
    {
     "data": {
      "text/html": [
       "<div>\n",
       "<style scoped>\n",
       "    .dataframe tbody tr th:only-of-type {\n",
       "        vertical-align: middle;\n",
       "    }\n",
       "\n",
       "    .dataframe tbody tr th {\n",
       "        vertical-align: top;\n",
       "    }\n",
       "\n",
       "    .dataframe thead th {\n",
       "        text-align: right;\n",
       "    }\n",
       "</style>\n",
       "<table border=\"1\" class=\"dataframe\">\n",
       "  <thead>\n",
       "    <tr style=\"text-align: right;\">\n",
       "      <th></th>\n",
       "      <th>Brand</th>\n",
       "      <th>Model</th>\n",
       "      <th>Color</th>\n",
       "      <th>Memory</th>\n",
       "      <th>Storage_in_GB</th>\n",
       "      <th>Rating</th>\n",
       "      <th>Selling Price</th>\n",
       "      <th>Original Price</th>\n",
       "    </tr>\n",
       "  </thead>\n",
       "  <tbody>\n",
       "    <tr>\n",
       "      <th>0</th>\n",
       "      <td>OPPO</td>\n",
       "      <td>A53</td>\n",
       "      <td>moonlight black</td>\n",
       "      <td>4 GB</td>\n",
       "      <td>64.0</td>\n",
       "      <td>4.5</td>\n",
       "      <td>11990.0</td>\n",
       "      <td>15990.000000</td>\n",
       "    </tr>\n",
       "    <tr>\n",
       "      <th>1</th>\n",
       "      <td>OPPO</td>\n",
       "      <td>A53</td>\n",
       "      <td>mint cream</td>\n",
       "      <td>4 GB</td>\n",
       "      <td>64.0</td>\n",
       "      <td>4.5</td>\n",
       "      <td>11990.0</td>\n",
       "      <td>15990.000000</td>\n",
       "    </tr>\n",
       "    <tr>\n",
       "      <th>2</th>\n",
       "      <td>OPPO</td>\n",
       "      <td>A53</td>\n",
       "      <td>moonlight black</td>\n",
       "      <td>6 GB</td>\n",
       "      <td>128.0</td>\n",
       "      <td>4.3</td>\n",
       "      <td>13990.0</td>\n",
       "      <td>17990.000000</td>\n",
       "    </tr>\n",
       "    <tr>\n",
       "      <th>3</th>\n",
       "      <td>OPPO</td>\n",
       "      <td>A53</td>\n",
       "      <td>mint cream</td>\n",
       "      <td>6 GB</td>\n",
       "      <td>128.0</td>\n",
       "      <td>4.3</td>\n",
       "      <td>13990.0</td>\n",
       "      <td>17990.000000</td>\n",
       "    </tr>\n",
       "    <tr>\n",
       "      <th>4</th>\n",
       "      <td>OPPO</td>\n",
       "      <td>A53</td>\n",
       "      <td>electric black</td>\n",
       "      <td>4 GB</td>\n",
       "      <td>64.0</td>\n",
       "      <td>4.5</td>\n",
       "      <td>11990.0</td>\n",
       "      <td>15990.000000</td>\n",
       "    </tr>\n",
       "    <tr>\n",
       "      <th>...</th>\n",
       "      <td>...</td>\n",
       "      <td>...</td>\n",
       "      <td>...</td>\n",
       "      <td>...</td>\n",
       "      <td>...</td>\n",
       "      <td>...</td>\n",
       "      <td>...</td>\n",
       "      <td>...</td>\n",
       "    </tr>\n",
       "    <tr>\n",
       "      <th>2642</th>\n",
       "      <td>Xiaomi</td>\n",
       "      <td>Redmi Y3</td>\n",
       "      <td>bold red</td>\n",
       "      <td>4 GB</td>\n",
       "      <td>64.0</td>\n",
       "      <td>4.3</td>\n",
       "      <td>12999.0</td>\n",
       "      <td>13999.000000</td>\n",
       "    </tr>\n",
       "    <tr>\n",
       "      <th>2643</th>\n",
       "      <td>Xiaomi</td>\n",
       "      <td>Redmi Y3</td>\n",
       "      <td>elegant blue</td>\n",
       "      <td>3 GB</td>\n",
       "      <td>32.0</td>\n",
       "      <td>4.3</td>\n",
       "      <td>9450.0</td>\n",
       "      <td>29824.055036</td>\n",
       "    </tr>\n",
       "    <tr>\n",
       "      <th>2644</th>\n",
       "      <td>Xiaomi</td>\n",
       "      <td>Redmi Y3</td>\n",
       "      <td>elegant blue</td>\n",
       "      <td>4 GB</td>\n",
       "      <td>64.0</td>\n",
       "      <td>4.2</td>\n",
       "      <td>12999.0</td>\n",
       "      <td>29824.055036</td>\n",
       "    </tr>\n",
       "    <tr>\n",
       "      <th>2645</th>\n",
       "      <td>Xiaomi</td>\n",
       "      <td>Redmi Y3</td>\n",
       "      <td>prime black</td>\n",
       "      <td>3 GB</td>\n",
       "      <td>32.0</td>\n",
       "      <td>4.2</td>\n",
       "      <td>9950.0</td>\n",
       "      <td>29824.055036</td>\n",
       "    </tr>\n",
       "    <tr>\n",
       "      <th>2646</th>\n",
       "      <td>Xiaomi</td>\n",
       "      <td>Redmi Y3</td>\n",
       "      <td>prime black</td>\n",
       "      <td>4 GB</td>\n",
       "      <td>64.0</td>\n",
       "      <td>4.3</td>\n",
       "      <td>12499.0</td>\n",
       "      <td>13999.000000</td>\n",
       "    </tr>\n",
       "  </tbody>\n",
       "</table>\n",
       "<p>2593 rows × 8 columns</p>\n",
       "</div>"
      ],
      "text/plain": [
       "       Brand      Model            Color Memory  Storage_in_GB  Rating  \\\n",
       "0       OPPO        A53  moonlight black   4 GB           64.0     4.5   \n",
       "1       OPPO        A53       mint cream   4 GB           64.0     4.5   \n",
       "2       OPPO        A53  moonlight black   6 GB          128.0     4.3   \n",
       "3       OPPO        A53       mint cream   6 GB          128.0     4.3   \n",
       "4       OPPO        A53   electric black   4 GB           64.0     4.5   \n",
       "...      ...        ...              ...    ...            ...     ...   \n",
       "2642  Xiaomi  Redmi Y3          bold red   4 GB           64.0     4.3   \n",
       "2643  Xiaomi  Redmi Y3      elegant blue   3 GB           32.0     4.3   \n",
       "2644  Xiaomi  Redmi Y3      elegant blue   4 GB           64.0     4.2   \n",
       "2645  Xiaomi  Redmi Y3       prime black   3 GB           32.0     4.2   \n",
       "2646  Xiaomi  Redmi Y3       prime black   4 GB           64.0     4.3   \n",
       "\n",
       "      Selling Price  Original Price  \n",
       "0           11990.0    15990.000000  \n",
       "1           11990.0    15990.000000  \n",
       "2           13990.0    17990.000000  \n",
       "3           13990.0    17990.000000  \n",
       "4           11990.0    15990.000000  \n",
       "...             ...             ...  \n",
       "2642        12999.0    13999.000000  \n",
       "2643         9450.0    29824.055036  \n",
       "2644        12999.0    29824.055036  \n",
       "2645         9950.0    29824.055036  \n",
       "2646        12499.0    13999.000000  \n",
       "\n",
       "[2593 rows x 8 columns]"
      ]
     },
     "execution_count": 832,
     "metadata": {},
     "output_type": "execute_result"
    }
   ],
   "source": [
    "df['Original Price'].fillna(mean_value, inplace = True)\n",
    "df"
   ]
  },
  {
   "cell_type": "markdown",
   "metadata": {},
   "source": [
    "#### Again check null values"
   ]
  },
  {
   "cell_type": "code",
   "execution_count": 833,
   "metadata": {},
   "outputs": [
    {
     "data": {
      "text/plain": [
       "Brand             0\n",
       "Model             0\n",
       "Color             0\n",
       "Memory            0\n",
       "Storage_in_GB     0\n",
       "Rating            0\n",
       "Selling Price     0\n",
       "Original Price    0\n",
       "dtype: int64"
      ]
     },
     "execution_count": 833,
     "metadata": {},
     "output_type": "execute_result"
    }
   ],
   "source": [
    "df.isnull().sum()"
   ]
  },
  {
   "cell_type": "markdown",
   "metadata": {},
   "source": [
    "### Conclusion\n",
    "\n",
    "Data Is Cleaned \n",
    "\n",
    "Now no any Null value are Present in Given dataSet\n"
   ]
  },
  {
   "cell_type": "markdown",
   "metadata": {},
   "source": []
  }
 ],
 "metadata": {
  "kernelspec": {
   "display_name": "base",
   "language": "python",
   "name": "python3"
  },
  "language_info": {
   "codemirror_mode": {
    "name": "ipython",
    "version": 3
   },
   "file_extension": ".py",
   "mimetype": "text/x-python",
   "name": "python",
   "nbconvert_exporter": "python",
   "pygments_lexer": "ipython3",
   "version": "3.10.9"
  }
 },
 "nbformat": 4,
 "nbformat_minor": 2
}
