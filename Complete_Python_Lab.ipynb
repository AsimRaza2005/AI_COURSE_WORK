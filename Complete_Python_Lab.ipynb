{
 "cells": [
  {
   "cell_type": "markdown",
   "id": "fba7f24a",
   "metadata": {},
   "source": [
    "### **Variables and Data-type**"
   ]
  },
  {
   "cell_type": "markdown",
   "id": "4faf81a2",
   "metadata": {},
   "source": [
    "### 1. Declare a variable called myName & assign to it a string that represents your Full Name"
   ]
  },
  {
   "cell_type": "code",
   "execution_count": 1,
   "id": "509170c6",
   "metadata": {},
   "outputs": [
    {
     "data": {
      "text/plain": [
       "'Asim Raza Abbasi'"
      ]
     },
     "execution_count": 1,
     "metadata": {},
     "output_type": "execute_result"
    }
   ],
   "source": [
    "myName = \"Asim Raza Abbasi\"\n",
    "myName"
   ]
  },
  {
   "cell_type": "markdown",
   "id": "7508a462",
   "metadata": {},
   "source": [
    "#### 2. **Declare a variable, titled `message` and assign “Hello World” to the variable `message` and print the message.**"
   ]
  },
  {
   "cell_type": "code",
   "execution_count": 2,
   "id": "ad15c22f",
   "metadata": {},
   "outputs": [
    {
     "data": {
      "text/plain": [
       "'Hello World'"
      ]
     },
     "execution_count": 2,
     "metadata": {},
     "output_type": "execute_result"
    }
   ],
   "source": [
    "massage = \"Hello World\"\n",
    "massage"
   ]
  },
  {
   "cell_type": "markdown",
   "id": "b2f52cc0",
   "metadata": {},
   "source": [
    "#### 3. **Declare a variable called `email` & assign to it a string that represents your Email Address (e.g. abc@xyz.com).**"
   ]
  },
  {
   "cell_type": "code",
   "execution_count": 3,
   "id": "5806385b",
   "metadata": {},
   "outputs": [
    {
     "name": "stdout",
     "output_type": "stream",
     "text": [
      "My Email Address is :  asim6464@gmail.com\n"
     ]
    }
   ],
   "source": [
    "email = \"asim6464@gmail.com\"\n",
    "print(\"My Email Address is : \" , email)"
   ]
  },
  {
   "cell_type": "markdown",
   "id": "e023ec8c",
   "metadata": {},
   "source": [
    "#### 4. **Declare a variable called `book` & give it the value “Think Python”. Print the following message:**, <br>\n",
    "I am trying to learn from the book ‘Think Python’"
   ]
  },
  {
   "cell_type": "code",
   "execution_count": 4,
   "id": "02fe7be5",
   "metadata": {},
   "outputs": [
    {
     "name": "stdout",
     "output_type": "stream",
     "text": [
      "I am trying to learn from the book Think Python\n"
     ]
    }
   ],
   "source": [
    "book= \"Think Python\"\n",
    "print(\"I am trying to learn from the book\",book)"
   ]
  },
  {
   "cell_type": "markdown",
   "id": "3ff085e4",
   "metadata": {},
   "source": [
    "#### *5. Declare the variables & show the details giving meaning to data.**\n",
    "\n",
    "**Student Bio Data**\n",
    "\n",
    "    Please Enter Your Name: Aisha Batool  \n",
    "    Please Enter Your Age: 17  \n",
    "    Please Enter Your University Name: Habib University  \n",
    "    Please Enter Your Course Name: Computational Thinking-1  \n",
    "\n",
    "**Expected Output:**\n",
    "\n",
    "    My name is Aisha Batool\n",
    "    I am 17 Years Old\n",
    "    I study in Habib University\n",
    "    I am enrolled in Computational Thinking-1 Course."
   ]
  },
  {
   "cell_type": "code",
   "execution_count": 5,
   "id": "5bcf2f22",
   "metadata": {},
   "outputs": [
    {
     "name": "stdout",
     "output_type": "stream",
     "text": [
      "Students Bio Data\n",
      "Enter Your Name:Asim Raza\n",
      "Input Your Age:19\n",
      "Enter Your University Name:Muet Jamshoro\n",
      "Enter You Course Name:data science\n",
      "Excepeted Output\n",
      "My Name is Asim Raza\n",
      "I am 19 Years Old\n",
      "I am Studying in Muet Jamshoro\n",
      "I am Enrolled in data science\n"
     ]
    }
   ],
   "source": [
    "print(\"Students Bio Data\")\n",
    "name = input(\"Enter Your Name:\")\n",
    "\n",
    "age = int(input(\"Input Your Age:\"))\n",
    "\n",
    "uni_name = input(\"Enter Your University Name:\")\n",
    "\n",
    "course_name = input(\"Enter You Course Name:\")\n",
    "\n",
    "print(\"Excepeted Output\")\n",
    "\n",
    "print(\"My Name is\",name)\n",
    "print(f\"I am {age} Years Old\")\n",
    "print(\"I am Studying in\" ,uni_name)\n",
    "print(\"I am Enrolled in\", course_name)\n",
    "\n"
   ]
  },
  {
   "cell_type": "markdown",
   "id": "d54aa9fa",
   "metadata": {},
   "source": [
    "#### **6.  A visitor visits an online clothing store `www.xyzClothing.com`. Write a python script to store in variables the following information:**<br>\n",
    "    `a) Visitor’s name`<br>\n",
    "    `b) Product title`<br>\n",
    "    `c) Quantity i.e. how many products a visitor wants to order`<br>\n",
    "**Show the following message in your browser:**<br> `“John Doe ordered 5 T-shirt(s) on XYZ Clothing store”.`"
   ]
  },
  {
   "cell_type": "code",
   "execution_count": 6,
   "id": "071624ed",
   "metadata": {},
   "outputs": [
    {
     "name": "stdout",
     "output_type": "stream",
     "text": [
      "Input your name:Asim Raza\n",
      "Enter Quantity of products:5\n",
      "Enter Product name:T-Shirts\n",
      "Asim Raza ordered 5 T-Shirts on Gul Ahmed Clothing Store\n"
     ]
    }
   ],
   "source": [
    "shop_name = \"Gul Ahmed Clothing Store\"\n",
    "\n",
    "visitor_name = input(\"Input your name:\")\n",
    "\n",
    "order_quantity = int(input(\"Enter Quantity of products:\"))\n",
    "\n",
    "product_name = input(\"Enter Product name:\")\n",
    "\n",
    "print(visitor_name,\"ordered\", order_quantity, product_name, \"on\", shop_name)\n"
   ]
  },
  {
   "cell_type": "markdown",
   "id": "dc9de0a4",
   "metadata": {},
   "source": [
    "#### **7. Write a program that obtains four integer values from the user and displays the sum & the product. <br>**\n",
    "`Insert 1st number:` 2 <br>\n",
    "`Insert 2nd number:` 5 <br>\n",
    "`Insert 3rd number:` 7 <br>\n",
    "`Insert 4th number:` 9<br>\n",
    "`Sum:` 23 <br>\n",
    "`Product:` 630 <br>"
   ]
  },
  {
   "cell_type": "code",
   "execution_count": 7,
   "id": "d1e25be3",
   "metadata": {},
   "outputs": [
    {
     "name": "stdout",
     "output_type": "stream",
     "text": [
      "Enter Number one:9\n",
      "Enter Number Two:4\n",
      "Enter Number Three:3\n",
      "Enter Number Four:8\n",
      "Sum is: 24\n",
      "Product : 864\n"
     ]
    }
   ],
   "source": [
    "num1 = eval(input(\"Enter Number one:\"))\n",
    "num2 = eval(input(\"Enter Number Two:\"))\n",
    "num3 = eval(input(\"Enter Number Three:\"))\n",
    "num4 = eval(input(\"Enter Number Four:\"))\n",
    "\n",
    "Result = num1 + num2 + num3 + num4\n",
    "print(\"Sum is:\",Result)\n",
    "\n",
    "Result = num1 * num2 * num3 * num4\n",
    "print(\"Product :\" , Result)"
   ]
  },
  {
   "cell_type": "markdown",
   "id": "f7d56926",
   "metadata": {},
   "source": [
    "### **8. Write a program that obtains `four` float values from the user and displays the `sum` & the `product`.**"
   ]
  },
  {
   "cell_type": "code",
   "execution_count": 8,
   "id": "48c2a82a",
   "metadata": {},
   "outputs": [
    {
     "name": "stdout",
     "output_type": "stream",
     "text": [
      "Enter Number one:5.6\n",
      "Enter Number Two:4.9\n",
      "Enter Number Three:3\n",
      "Enter Number Four:2.5\n",
      "Sum is: 16.0\n",
      "Product : 205.8\n"
     ]
    }
   ],
   "source": [
    "num1 = float(input(\"Enter Number one:\"))\n",
    "num2 = float(input(\"Enter Number Two:\"))\n",
    "num3 = float(input(\"Enter Number Three:\"))\n",
    "num4 = float(input(\"Enter Number Four:\"))\n",
    "\n",
    "Result = num1 + num2 + num3 + num4\n",
    "print(\"Sum is:\",Result)\n",
    "\n",
    "Result = num1 * num2 * num3 * num4\n",
    "print(\"Product :\" , Result)\n"
   ]
  },
  {
   "cell_type": "markdown",
   "id": "ad2054b4",
   "metadata": {},
   "source": [
    "#### **9. Declare a variable called birthYear & assign to it your birth year. Also Print the type of your variable using type(). Print the following message:**"
   ]
  },
  {
   "cell_type": "code",
   "execution_count": 9,
   "id": "5216792d",
   "metadata": {},
   "outputs": [
    {
     "name": "stdout",
     "output_type": "stream",
     "text": [
      "Enter Your Birth Year:2005\n",
      "My Birth Year is 2005\n",
      "<class 'int'>\n"
     ]
    }
   ],
   "source": [
    "birthYear = eval(input(\"Enter Your Birth Year:\"))\n",
    "print(f\"My Birth Year is {birthYear}\")\n",
    "print(type(birthYear))"
   ]
  },
  {
   "cell_type": "markdown",
   "id": "311116a2",
   "metadata": {},
   "source": [
    "### **10. Print the following by using one variable name only:**\n",
    "\n",
    "**PIZZA**  \n",
    "**PIZZ**  \n",
    "**PIZ**  \n",
    "**PI**  \n",
    "**P**\n"
   ]
  },
  {
   "cell_type": "code",
   "execution_count": 10,
   "id": "af1dcd3f",
   "metadata": {},
   "outputs": [
    {
     "name": "stdout",
     "output_type": "stream",
     "text": [
      "\n",
      "pizza\n",
      "pizz\n",
      "piz\n",
      "pi\n",
      "p\n",
      "     \n"
     ]
    }
   ],
   "source": [
    "pizza = \"\"\"\n",
    "pizza\n",
    "pizz\n",
    "piz\n",
    "pi\n",
    "p\n",
    "     \"\"\"\n",
    "print(pizza)"
   ]
  },
  {
   "cell_type": "markdown",
   "id": "0b7a21d5",
   "metadata": {},
   "source": [
    "### Operators"
   ]
  },
  {
   "cell_type": "markdown",
   "id": "2d3e0d5c",
   "metadata": {},
   "source": [
    "### **1. Write a program that takes two numbers & adds them in a new variable. Print the result.**\n",
    "\n",
    "Input Number 1: 13  \n",
    "Input Number 2: 9  \n",
    "Sum: 22\n"
   ]
  },
  {
   "cell_type": "code",
   "execution_count": 11,
   "id": "cfcc76f8",
   "metadata": {},
   "outputs": [
    {
     "name": "stdout",
     "output_type": "stream",
     "text": [
      "Enter Number one:7\n",
      "Enter Number Two:3\n",
      "Sum is : 10\n"
     ]
    }
   ],
   "source": [
    "num1 = eval(input(\"Enter Number one:\"))\n",
    "num2 = eval(input(\"Enter Number Two:\"))\n",
    "\n",
    "result = num1 + num2\n",
    "\n",
    "print(f\"Sum is : {result}\")"
   ]
  },
  {
   "cell_type": "markdown",
   "id": "8cb4c462",
   "metadata": {},
   "source": [
    "### **2. Repeat Q1 for subtraction, multiplication, division & modulus.**\n",
    "\n",
    "Input Number 1: 13  \n",
    "Input Number 2: 9  \n",
    "Sum: 22  \n",
    "Subtract: 4  \n",
    "Multiply: 117  \n",
    "Divide: 1.44  \n",
    "Modulus: 4"
   ]
  },
  {
   "cell_type": "code",
   "execution_count": 12,
   "id": "9d74183f",
   "metadata": {},
   "outputs": [
    {
     "name": "stdout",
     "output_type": "stream",
     "text": [
      "Enter Number one:9\n",
      "Enter Number Two:4\n",
      "Sum is: 13\n",
      "Subtract is: 5\n",
      "Multiply is: 36\n",
      "Divide is: 2.25\n",
      "modulus is: 1\n"
     ]
    }
   ],
   "source": [
    "num1 = eval(input(\"Enter Number one:\"))\n",
    "num2 = eval(input(\"Enter Number Two:\"))\n",
    "\n",
    "result1 = num1 + num2\n",
    "result2 = num1 - num2\n",
    "result3 = num1 * num2\n",
    "result4 = num1 / num2\n",
    "result5 = num1 % num2\n",
    "\n",
    "print(f\"Sum is: {result1}\")\n",
    "print(f\"Subtract is: {result2}\")\n",
    "print(f\"Multiply is: {result3}\")\n",
    "print(f\"Divide is: {result4}\")\n",
    "print(f\"modulus is: {result5}\")\n"
   ]
  },
  {
   "cell_type": "markdown",
   "id": "8c8b87e5",
   "metadata": {},
   "source": [
    "### **3. Do the following using Mathematic Expressions**\n",
    "\n",
    "a) Declare a variable & Initialize the variable with some number.  \n",
    "b) Show the value of variable in your browser like “Initial value: 3”.  \n",
    "c) Add 7 to the variable.  \n",
    "d) Show the value of variable in your browser like “Value after addition is: 10”.  \n",
    "e) Show the remainder after dividing the variable’s value by 3. Output: “The remainder is: 1”."
   ]
  },
  {
   "cell_type": "code",
   "execution_count": 13,
   "id": "0550e88c",
   "metadata": {},
   "outputs": [
    {
     "name": "stdout",
     "output_type": "stream",
     "text": [
      "Initial value is: 3\n",
      "Value after addition : 10\n",
      "Remainder is: 1\n"
     ]
    }
   ],
   "source": [
    "num = 3\n",
    "print(f\"Initial value is: {num}\")\n",
    "\n",
    "after = num + 7\n",
    "print(f\"Value after addition : {after}\")\n",
    "\n",
    "remainder = after % 3\n",
    "print(f\"Remainder is: {remainder}\")"
   ]
  },
  {
   "cell_type": "markdown",
   "id": "b5ffff25",
   "metadata": {},
   "source": [
    "### **4. Cost of one movie ticket is 600 PKR. Store ticket price in a variable & calculate the cost of buying 5 tickets to a movie.**\n",
    "\n",
    "Total Cost to buy 5 tickets to a movie is 3000 PKR"
   ]
  },
  {
   "cell_type": "code",
   "execution_count": 14,
   "id": "2e9a979b",
   "metadata": {},
   "outputs": [
    {
     "name": "stdout",
     "output_type": "stream",
     "text": [
      "Enter How many Tickets you take:5\n",
      "Total Cost to buy 5 tickets to a movie is 3000 PKR\n"
     ]
    }
   ],
   "source": [
    "cost_one_movie = 600\n",
    "quantity = eval(input(\"Enter How many Tickets you take:\"))\n",
    "\n",
    "Result = cost_one_movie * quantity\n",
    "\n",
    "print(f\"Total Cost to buy {quantity} tickets to a movie is {Result} PKR\")"
   ]
  },
  {
   "cell_type": "markdown",
   "id": "33bd0833",
   "metadata": {},
   "source": [
    "### **5. Take input total marks & marks obtained by a student. Compute the percentage & print the result.**\n",
    "\n",
    "Marks Sheet  \n",
    "Total Marks: 1200  \n",
    "Marks Obtained: 900  \n",
    "Percentage: 75%"
   ]
  },
  {
   "cell_type": "code",
   "execution_count": 15,
   "id": "420e3fac",
   "metadata": {},
   "outputs": [
    {
     "name": "stdout",
     "output_type": "stream",
     "text": [
      "Marks Sheet\n",
      "Enter Total Marks:900\n",
      "Enter Obtained Marks:700\n",
      "Percentage is: 77.77777777777779\n"
     ]
    }
   ],
   "source": [
    "print(\"Marks Sheet\")\n",
    "\n",
    "total_marks = eval(input(\"Enter Total Marks:\"))\n",
    "obt_marks = eval(input(\"Enter Obtained Marks:\"))\n",
    "\n",
    "percentage = (obt_marks/total_marks)*100\n",
    "print(f\"Percentage is: {percentage}\")"
   ]
  },
  {
   "cell_type": "markdown",
   "id": "c3053e62",
   "metadata": {},
   "source": [
    "### **6. Write a program to implement the checkout process of a shopping cart system for an e-commerce website. Store the following in variables:**\n",
    "\n",
    "a) Price of item 1  \n",
    "b) Price of item 2  \n",
    "c) Ordered quantity of item 1  \n",
    "d) Ordered quantity of item 2  \n",
    "e) Shipping charges  \n",
    "\n",
    "Compute the total cost & print the receipt.  \n",
    "\n",
    "**Shopping Cart**\n",
    "\n",
    "Price of Item#1 is 560  \n",
    "Quantity of Item#1 is 2  \n",
    "Price of Item#2 is 200  \n",
    "Quantity of Item#2 is 5  \n",
    "Shipping Charges: 150  \n",
    "\n",
    "**Total Cost of your order is 2270 PKR*"
   ]
  },
  {
   "cell_type": "code",
   "execution_count": 16,
   "id": "2c27c2bf",
   "metadata": {},
   "outputs": [
    {
     "name": "stdout",
     "output_type": "stream",
     "text": [
      "Enter Price of item1: 550\n",
      "Enter quantity of item1: 4\n",
      "Enter Price of item2: 670\n",
      "Enter Quantity of item2: 8\n",
      "Enter Shipping charges: 200\n",
      "Total cost of your order is 7760.0 PKR\n"
     ]
    }
   ],
   "source": [
    "item1_price = float(input(\"Enter Price of item1: \"))\n",
    "item1_quantity = int(input(\"Enter quantity of item1: \"))\n",
    "\n",
    "item2_price = float(input(\"Enter Price of item2: \"))\n",
    "item2_quantity = int(input(\"Enter Quantity of item2: \"))\n",
    "\n",
    "shipping_charge = float(input(\"Enter Shipping charges: \"))\n",
    "\n",
    "total_cost = item1_price * item1_quantity + item2_price * item2_quantity + shipping_charge\n",
    "\n",
    "print(f\"Total cost of your order is {total_cost} PKR\")\n",
    "\n",
    "\n"
   ]
  },
  {
   "cell_type": "markdown",
   "id": "ca99f771",
   "metadata": {},
   "source": [
    "# **Control Structure**\n"
   ]
  },
  {
   "cell_type": "markdown",
   "id": "aca62a29",
   "metadata": {},
   "source": [
    "### **Conditional Statements**"
   ]
  },
  {
   "cell_type": "markdown",
   "id": "92c05a32",
   "metadata": {},
   "source": [
    "### **1. Write a program to check whether the given input number\n",
    "is divisible by 3 or else show a message “Number is not divisible by 3”.**"
   ]
  },
  {
   "cell_type": "code",
   "execution_count": 17,
   "id": "3e5a601e",
   "metadata": {},
   "outputs": [
    {
     "name": "stdout",
     "output_type": "stream",
     "text": [
      "Enter a Number:6\n",
      "Divisible\n"
     ]
    }
   ],
   "source": [
    "num = eval(input(\"Enter a Number:\"))\n",
    "if num % 3 == 0:\n",
    "    print(\"Divisible\")\n",
    "    \n",
    "else:\n",
    "    print(\"Not Divisible by 3\")"
   ]
  },
  {
   "cell_type": "markdown",
   "id": "3bcbe640",
   "metadata": {},
   "source": [
    "### **2. Write a program that checks whether the given input is an even number or an odd number.**"
   ]
  },
  {
   "cell_type": "code",
   "execution_count": 18,
   "id": "f87c4ea1",
   "metadata": {},
   "outputs": [
    {
     "name": "stdout",
     "output_type": "stream",
     "text": [
      "Enter a Number:7\n",
      "odd Number\n"
     ]
    }
   ],
   "source": [
    "num = eval(input(\"Enter a Number:\"))\n",
    "\n",
    "if num % 2 == 0:\n",
    "    print(\"Even Number\")\n",
    "    \n",
    "    \n",
    "else:\n",
    "    print(\"odd Number\")"
   ]
  },
  {
   "cell_type": "markdown",
   "id": "f5cd2d5d",
   "metadata": {},
   "source": [
    "### **3. Write an if/else statement with the following condition:**\n",
    "\n",
    "If the variable `age` is greater than 18, output \"Old enough\", otherwise output \"Too young\"."
   ]
  },
  {
   "cell_type": "code",
   "execution_count": 19,
   "id": "e1489eb3",
   "metadata": {},
   "outputs": [
    {
     "name": "stdout",
     "output_type": "stream",
     "text": [
      "Enter Your age:19\n",
      "old enough\n"
     ]
    }
   ],
   "source": [
    "age = int(input(\"Enter Your age:\"))\n",
    "\n",
    "if age > 18:\n",
    "    print(\"old enough\")\n",
    "    \n",
    "else:\n",
    "    print(\"Too Young\")"
   ]
  },
  {
   "cell_type": "markdown",
   "id": "39a348aa",
   "metadata": {},
   "source": [
    "#### **4. Write a program that prompts the user for their name, and then displays a special greeting to that person if their name is the same as yours. If the name entered by the user is anything other than your name, \n",
    "your code should not produce any output.**"
   ]
  },
  {
   "cell_type": "code",
   "execution_count": 20,
   "id": "bb23291f",
   "metadata": {},
   "outputs": [
    {
     "name": "stdout",
     "output_type": "stream",
     "text": [
      "Enter your Name:Asim Raza\n",
      "Greeting Asim Raza\n"
     ]
    }
   ],
   "source": [
    "name = input(\"Enter your Name:\")\n",
    "\n",
    "if name == \"Asim Raza\":\n",
    "    \n",
    "    print(f\"Greeting {name}\")\n",
    "\n",
    "\n",
    "else:\n",
    "    print(\"Do Not Match\")\n",
    "    "
   ]
  },
  {
   "cell_type": "markdown",
   "id": "5282cc21",
   "metadata": {},
   "source": [
    "### **5. Write a program that takes a calendar year in YYYY format in a variable. Check & notify the user\n",
    "whether it is a leap year or not.**"
   ]
  },
  {
   "cell_type": "code",
   "execution_count": 21,
   "id": "0bdd6d4f",
   "metadata": {},
   "outputs": [
    {
     "name": "stdout",
     "output_type": "stream",
     "text": [
      "Enter Year in format(YYYY):2016\n",
      "Leap Year\n"
     ]
    }
   ],
   "source": [
    "year = eval(input(\"Enter Year in format(YYYY):\"))\n",
    "\n",
    "if year % 4 == 0 and year % 100 !=0  or year % 400 == 0:\n",
    "    \n",
    "    print(\"Leap Year\")\n",
    "    \n",
    "else:\n",
    "    print(\"Not Leap Year\")"
   ]
  },
  {
   "cell_type": "markdown",
   "id": "9d29f24d",
   "metadata": {},
   "source": [
    "### *6. Write a Python program that accepts two integers and displays the larger. Also, show if the two integers are equal.**"
   ]
  },
  {
   "cell_type": "code",
   "execution_count": 22,
   "id": "14162dae",
   "metadata": {},
   "outputs": [
    {
     "name": "stdout",
     "output_type": "stream",
     "text": [
      "Enter Number one:9\n",
      "Enter Number Two:6\n",
      "Large Number is : 9\n"
     ]
    }
   ],
   "source": [
    "num1 = eval(input(\"Enter Number one:\"))\n",
    "num2 = eval(input(\"Enter Number Two:\"))\n",
    "\n",
    "if num1 > num2:\n",
    "    \n",
    "    print(f\"Large Number is : {num1}\")\n",
    "    \n",
    "elif num1 < num2:\n",
    "    \n",
    "    print(f\"Large Number is: {num2}\")\n",
    "    \n",
    "else:\n",
    "    \n",
    "    print(\"Both Are Equal\")"
   ]
  },
  {
   "cell_type": "markdown",
   "id": "ae9fdc6c",
   "metadata": {},
   "source": [
    "### **7. Write a program that takes a character (i.e., string of length 1) and returns true if it is a vowel, false otherwise.**"
   ]
  },
  {
   "cell_type": "code",
   "execution_count": 23,
   "id": "48bf0d4e",
   "metadata": {},
   "outputs": [
    {
     "name": "stdout",
     "output_type": "stream",
     "text": [
      "Enter Alphabet:u\n",
      "it is a Vowel: u\n"
     ]
    }
   ],
   "source": [
    "char = input(\"Enter Alphabet:\").lower()\n",
    "\n",
    "if char in  ['a','e','i','o','u']:\n",
    "    \n",
    "    print(f\"it is a Vowel: {char}\")\n",
    "    \n",
    "else:\n",
    "    print(\"They are consonent\")\n",
    "    "
   ]
  },
  {
   "cell_type": "markdown",
   "id": "5f521794",
   "metadata": {},
   "source": [
    "### *8. Write a program that**\n",
    "\n",
    "a) Stores the correct password in a variable.  \n",
    "b) Asks the user to enter his/her password.  \n",
    "c) Validates the two passwords:  \n",
    "            i. Check if the user has entered a password. If not, then give the message `\"Please enter your password\".`<br>\n",
    "            ii. Check if both passwords are the same. If they are the same, show the message `\"Correct! The password you entered matches the original password\".`<br>\n",
    "            iii. Show `\"Incorrect password\"` otherwise."
   ]
  },
  {
   "cell_type": "code",
   "execution_count": 24,
   "id": "cf315412",
   "metadata": {},
   "outputs": [
    {
     "name": "stdout",
     "output_type": "stream",
     "text": [
      "Enter password: asimraza128\n",
      "Correct! The password you entered matches the original password\n"
     ]
    }
   ],
   "source": [
    "# Store the correct password in a variable\n",
    "password = \"asimraza128\"\n",
    "\n",
    "# Ask the user to enter his/her password\n",
    "user_input = input(\"Enter password: \")\n",
    "\n",
    "# Check if the user has entered a password\n",
    "if user_input == \"\":\n",
    "    print(\"Please enter your password\")\n",
    "    \n",
    "# Check if both passwords are the same\n",
    "elif user_input == password:\n",
    "    print(\"Correct! The password you entered matches the original password\")\n",
    "    \n",
    "# Show \"Incorrect password\" otherwise\n",
    "else:\n",
    "    print(\"Incorrect password\")\n"
   ]
  },
  {
   "cell_type": "markdown",
   "id": "e010572f",
   "metadata": {},
   "source": [
    "### **9. Write a program to display the message “Hello World” 5 times in your browser using while and for loop.**"
   ]
  },
  {
   "cell_type": "markdown",
   "id": "42d7580b",
   "metadata": {},
   "source": [
    "### For Loop"
   ]
  },
  {
   "cell_type": "code",
   "execution_count": 25,
   "id": "825dd2ec",
   "metadata": {},
   "outputs": [
    {
     "name": "stdout",
     "output_type": "stream",
     "text": [
      "Hello World\n",
      "Hello World\n",
      "Hello World\n",
      "Hello World\n",
      "Hello World\n"
     ]
    }
   ],
   "source": [
    "for i in range(5):\n",
    "    print(\"Hello World\")"
   ]
  },
  {
   "cell_type": "markdown",
   "id": "61ccb897",
   "metadata": {},
   "source": [
    "### While Loop"
   ]
  },
  {
   "cell_type": "code",
   "execution_count": 26,
   "id": "f5949a01",
   "metadata": {},
   "outputs": [
    {
     "name": "stdout",
     "output_type": "stream",
     "text": [
      "Hello World\n",
      "Hello World\n",
      "Hello World\n",
      "Hello World\n",
      "Hello World\n"
     ]
    }
   ],
   "source": [
    "i = 5\n",
    "while i > 0:\n",
    "    \n",
    "    print(\"Hello World\")\n",
    "    \n",
    "    i-= 1\n",
    "    "
   ]
  },
  {
   "cell_type": "markdown",
   "id": "ef8f7ccc",
   "metadata": {},
   "source": [
    "### **10. Display numbers from a list using a for loop.**"
   ]
  },
  {
   "cell_type": "code",
   "execution_count": 27,
   "id": "84a449f2",
   "metadata": {},
   "outputs": [
    {
     "name": "stdout",
     "output_type": "stream",
     "text": [
      "List Of Numbers\n",
      "1 2 3 4 5 6 7 8 9 "
     ]
    }
   ],
   "source": [
    "print(\"List Of Numbers\")\n",
    "\n",
    "l = [1,2,3,4,5,6,7,8,9]\n",
    "\n",
    "for i in l:\n",
    "    print(i, end = \" \")"
   ]
  },
  {
   "cell_type": "markdown",
   "id": "a13d7c07",
   "metadata": {},
   "source": [
    "### *11. Print a list in reverse order using a loop.**"
   ]
  },
  {
   "cell_type": "code",
   "execution_count": 28,
   "id": "a3a8d000",
   "metadata": {},
   "outputs": [
    {
     "name": "stdout",
     "output_type": "stream",
     "text": [
      "Reversed List is :  [9, 8, 7, 6, 5, 4, 3, 2, 1]\n"
     ]
    }
   ],
   "source": [
    "l = [1,2,3,4,5,6,7,8,9]\n",
    "\n",
    "l_reversed = []\n",
    "\n",
    "for i in range(len(l) -1,-1,-1):\n",
    "    \n",
    "    l_reversed.append(l[i])\n",
    "    \n",
    "print(\"Reversed List is : \" , l_reversed)    \n"
   ]
  },
  {
   "cell_type": "markdown",
   "id": "240d95ff",
   "metadata": {},
   "source": [
    "### **12. Display the Fibonacci series up to 10 terms using a loop.**"
   ]
  },
  {
   "cell_type": "code",
   "execution_count": 29,
   "id": "b9eecbeb",
   "metadata": {},
   "outputs": [
    {
     "name": "stdout",
     "output_type": "stream",
     "text": [
      "Fibonacci Series\n",
      "0\n",
      "1\n",
      "1\n",
      "2\n",
      "3\n",
      "5\n",
      "8\n",
      "13\n",
      "21\n",
      "34\n"
     ]
    }
   ],
   "source": [
    "n1 = 0\n",
    "n2 = 1\n",
    "\n",
    "print(\"Fibonacci Series\")\n",
    "\n",
    "for i in range(10):\n",
    "    \n",
    "    print(n1)\n",
    "    \n",
    "    nth = n1 + n2\n",
    "    \n",
    "    n1 = n2\n",
    "    n2 = nth"
   ]
  },
  {
   "cell_type": "markdown",
   "id": "79cd6593",
   "metadata": {},
   "source": [
    "### **13. Use a loop to display elements from a given list present at odd index positions.**"
   ]
  },
  {
   "cell_type": "code",
   "execution_count": 30,
   "id": "87e762bd",
   "metadata": {},
   "outputs": [
    {
     "name": "stdout",
     "output_type": "stream",
     "text": [
      "Element at odd index 1 is 20\n",
      "Element at odd index 3 is 40\n",
      "Element at odd index 5 is 60\n",
      "Element at odd index 7 is 80\n",
      "Element at odd index 9 is 100\n"
     ]
    }
   ],
   "source": [
    "# Sample list\n",
    "my_list = [10, 20, 30, 40, 50, 60, 70, 80, 90, 100]\n",
    "\n",
    "# Loop through the list using range with step 2 to get odd index positions\n",
    "for i in range(1, len(my_list), 2):\n",
    "    print(f\"Element at odd index {i} is {my_list[i]}\")\n"
   ]
  },
  {
   "cell_type": "markdown",
   "id": "a2492b99",
   "metadata": {},
   "source": [
    "### *14. Write a program to enter numbers until the user enters zero, and at the end,\n",
    "display the count of positive and negative numbers entered.**"
   ]
  },
  {
   "cell_type": "code",
   "execution_count": 31,
   "id": "72040149",
   "metadata": {},
   "outputs": [
    {
     "name": "stdout",
     "output_type": "stream",
     "text": [
      "Enter a Number:5\n",
      "Enter a Number:3\n",
      "Enter a Number:2\n",
      "Enter a Number:9\n",
      "Enter a Number:-5\n",
      "Enter a Number:-5\n",
      "Enter a Number:0\n",
      "Positive Number Entered By User: 4\n",
      "Negetive Number Entered by user : 2\n"
     ]
    }
   ],
   "source": [
    "positive_num = 0\n",
    "negetive_num = 0\n",
    "\n",
    "while True:\n",
    "    \n",
    "    num = int(input(\"Enter a Number:\"))\n",
    "    \n",
    "    if num == 0:\n",
    "        break\n",
    "        \n",
    "    if num > 0:\n",
    "        \n",
    "        positive_num += 1\n",
    "        \n",
    "    if num < 0 :\n",
    "        \n",
    "        negetive_num += 1\n",
    "        \n",
    "print(f\"Positive Number Entered By User: {positive_num}\") \n",
    "\n",
    "print(f\"Negetive Number Entered by user : {negetive_num}\")"
   ]
  },
  {
   "cell_type": "markdown",
   "id": "cc42f248",
   "metadata": {},
   "source": [
    "### **15. Write a program to print all the characters in the string 'PYTHON' using a loop.**"
   ]
  },
  {
   "cell_type": "code",
   "execution_count": 32,
   "id": "9ce51278",
   "metadata": {},
   "outputs": [
    {
     "name": "stdout",
     "output_type": "stream",
     "text": [
      "Characters are P\n",
      "Characters are Y\n",
      "Characters are T\n",
      "Characters are H\n",
      "Characters are O\n",
      "Characters are N\n"
     ]
    }
   ],
   "source": [
    "name = \"PYTHON\"\n",
    "\n",
    "for char in name:\n",
    "\n",
    "    print(f\"Characters are {char}\")"
   ]
  },
  {
   "cell_type": "markdown",
   "id": "f573b835",
   "metadata": {},
   "source": [
    "#### **16. Write a program to repeatedly print the value of the variable num which is input by the user. Value should be decreasing by 0.5 each time, as long as the value remains positive.**\n",
    "\n",
    "Enter a number: 5  \n",
    "5, 4.5, 4, 3.5, 3, 2.5, 2, 1.5, 1, 0.5, 0\n"
   ]
  },
  {
   "cell_type": "code",
   "execution_count": 33,
   "id": "6cd58bde",
   "metadata": {},
   "outputs": [
    {
     "name": "stdout",
     "output_type": "stream",
     "text": [
      "Enter a Number:6\n",
      "6, 5.5 5.0 4.5 4.0 3.5 3.0 2.5 2.0 1.5 1.0 0.5 0.0 \n"
     ]
    }
   ],
   "source": [
    "num = int(input(\"Enter a Number:\"))\n",
    "\n",
    "print(f\"{num}\", end=\", \")\n",
    "\n",
    "while num > 0:\n",
    "    \n",
    "    num -= 0.5\n",
    "    \n",
    "    if num >= 0:\n",
    "    \n",
    "        print(f\"{num}\" , end = \" \")\n",
    "                \n",
    "            \n",
    "print()"
   ]
  },
  {
   "cell_type": "markdown",
   "id": "5b84dba7",
   "metadata": {},
   "source": [
    "### **Functions**"
   ]
  },
  {
   "cell_type": "markdown",
   "id": "d6e81048",
   "metadata": {},
   "source": [
    "### **1. Write a function that adds two numbers `(input by user)` and returns the sum of two numbers.**"
   ]
  },
  {
   "cell_type": "code",
   "execution_count": 34,
   "id": "730a4f7c",
   "metadata": {},
   "outputs": [
    {
     "name": "stdout",
     "output_type": "stream",
     "text": [
      "Enter Number one:8\n",
      "Enter Number Two:3\n",
      "Sum is: 11\n"
     ]
    }
   ],
   "source": [
    "def addition(num1,num2):\n",
    "    \n",
    "    result = num1 + num2\n",
    "    return result\n",
    "\n",
    "num1 = eval(input(\"Enter Number one:\"))\n",
    "num2 = eval(input(\"Enter Number Two:\"))\n",
    "\n",
    "print(f\"Sum is: {addition(num1, num2)}\")"
   ]
  },
  {
   "cell_type": "markdown",
   "id": "273a267a",
   "metadata": {},
   "source": [
    "### Write a function that takes three arguments `num1`, `num2`, and `operator` and computes the desired operation.\n",
    "Return and show the desired result on your screen"
   ]
  },
  {
   "cell_type": "code",
   "execution_count": 35,
   "id": "9fbb30f0",
   "metadata": {},
   "outputs": [
    {
     "name": "stdout",
     "output_type": "stream",
     "text": [
      "Enter Number one:9\n",
      "Enter Number Two:5\n",
      "Enter Operator(+,-,*,/):*\n",
      "Result is : 45\n"
     ]
    }
   ],
   "source": [
    "def calculator(num1, num2, operator):\n",
    "    \n",
    "    if operator == '+':\n",
    "         return  num1 + num2\n",
    "        \n",
    "    elif operator == '-':\n",
    "        return num1 - num2\n",
    "        \n",
    "    elif operator == '*':\n",
    "        return  num1 * num2\n",
    "        \n",
    "    elif operator == '/':\n",
    "        return num1 / num2\n",
    "        \n",
    "        \n",
    "num1 = eval(input(\"Enter Number one:\"))\n",
    "num2 = eval(input(\"Enter Number Two:\")) \n",
    "\n",
    "operator = input(\"Enter Operator(+,-,*,/):\")\n",
    "\n",
    "result = calculator(num1, num2, operator)\n",
    "\n",
    "print(f\"Result is : {result}\")\n",
    "        \n",
    "        "
   ]
  },
  {
   "cell_type": "markdown",
   "id": "198aa568",
   "metadata": {},
   "source": [
    "### **3. Write a function that squares its argument.**"
   ]
  },
  {
   "cell_type": "code",
   "execution_count": 36,
   "id": "3b01c8b0",
   "metadata": {},
   "outputs": [
    {
     "name": "stdout",
     "output_type": "stream",
     "text": [
      "Enter a Number:9\n",
      "Square Of Given Number is: 81\n"
     ]
    }
   ],
   "source": [
    "def square(num):\n",
    "    \n",
    "    result = num **2\n",
    "    return result\n",
    "\n",
    "num = int(input(\"Enter a Number:\"))\n",
    "\n",
    "print(f\"Square Of Given Number is: {square(num)}\")"
   ]
  },
  {
   "cell_type": "markdown",
   "id": "9a5a2858",
   "metadata": {},
   "source": [
    "### **4. Write a function that calculates the area of a rectangle.**\n",
    "\n",
    "*A = width * height*\n",
    "\n",
    "`Pass width and height in the following manner:`<br>\n",
    "``a) Arguments as values``<br>\n",
    "``b) Arguments as variables``<br>\n"
   ]
  },
  {
   "cell_type": "code",
   "execution_count": 37,
   "id": "1dcf6b35",
   "metadata": {},
   "outputs": [
    {
     "name": "stdout",
     "output_type": "stream",
     "text": [
      "Area Of Rectangle is: 100\n"
     ]
    }
   ],
   "source": [
    "def area_rectangle(height, width = 10):\n",
    "    \n",
    "    area = width * height\n",
    "    return area\n",
    "\n",
    "\n",
    "print(f\"Area Of Rectangle is: {area_rectangle(10)}\")"
   ]
  },
  {
   "cell_type": "markdown",
   "id": "82e6e84a",
   "metadata": {},
   "source": [
    "### **5. Create 2 functions that calculate properties of a circle, using the definitions here.**\n",
    "\n",
    "a) Create a function called `calcCircumference`:\n",
    "   * Pass the radius to the function.\n",
    "   * Calculate the circumference based on the radius, and output \"The circumference is NN\".\n",
    "\n",
    "b) Create a function called `calcArea`:\n",
    "   * Pass the radius to the function.\n",
    "   * Calculate the area based on the radius, and output \"The area is NN\".\n"
   ]
  },
  {
   "cell_type": "code",
   "execution_count": 38,
   "id": "cb7602a5",
   "metadata": {},
   "outputs": [
    {
     "name": "stdout",
     "output_type": "stream",
     "text": [
      "The Circumferance is : 25.132741228718345\n",
      "Area is : 50.26548245743669\n"
     ]
    }
   ],
   "source": [
    "import math\n",
    "\n",
    "def calCircumference(radius):\n",
    "    \n",
    "    result = 2 * math.pi * radius\n",
    "    return result\n",
    "\n",
    "print(f\"The Circumferance is : {calCircumference(4)}\")\n",
    "\n",
    "def calcArea(radius):\n",
    "    \n",
    "    area = math.pi * radius **2\n",
    "    return area\n",
    "\n",
    "print(f\"Area is : {calcArea(4)}\")"
   ]
  },
  {
   "cell_type": "markdown",
   "id": "edd10fd8",
   "metadata": {},
   "source": [
    "### **6. Write a Python program to create a lambda function that adds 15 to a given number passed in as an argument. Also, create a lambda function that multiplies argument x with argument y and prints the resul.**"
   ]
  },
  {
   "cell_type": "code",
   "execution_count": 39,
   "id": "609c0bb6",
   "metadata": {},
   "outputs": [
    {
     "name": "stdout",
     "output_type": "stream",
     "text": [
      "Enter a Number:8\n",
      "Result after adding 15 to: 8 is : 23\n",
      "Enter Value Of x:3\n",
      "Enter value of y:9\n",
      "Multiplication of x and y is 27.0\n"
     ]
    }
   ],
   "source": [
    "# Lambda function to add 15 to a given number\n",
    "add = lambda a : a + 15\n",
    "\n",
    "product = lambda x,y : x*y\n",
    "\n",
    "num = int(input(\"Enter a Number:\"))\n",
    "\n",
    "result = add(num)\n",
    "\n",
    "print(f\"Result after adding 15 to: {num} is : {result}\")\n",
    "\n",
    "x = float(input(\"Enter Value Of x:\"))\n",
    "y= float(input(\"Enter value of y:\"))\n",
    "\n",
    "result = product(x,y)\n",
    "\n",
    "print(f\"Multiplication of x and y is {result}\")\n",
    "\n"
   ]
  },
  {
   "cell_type": "markdown",
   "id": "5e429060",
   "metadata": {},
   "source": [
    "### *7. Write a Python program to sort a list of tuples using Lambda.**"
   ]
  },
  {
   "cell_type": "code",
   "execution_count": 40,
   "id": "927d859a",
   "metadata": {},
   "outputs": [
    {
     "name": "stdout",
     "output_type": "stream",
     "text": [
      "[(1, 2, 3), (2, 3, 1), (3, 2, 1)]\n"
     ]
    }
   ],
   "source": [
    "# Example list of tuples\n",
    "tuple_list = [(3, 2, 1), (1, 2, 3), (2, 3, 1)]\n",
    "\n",
    "# Sort the list of tuples based on the first element of each tuple\n",
    "sorted_list = sorted(tuple_list, key=lambda x: x[0])\n",
    "\n",
    "print(sorted_list)\n",
    "\n"
   ]
  },
  {
   "cell_type": "markdown",
   "id": "6edfdd4a",
   "metadata": {},
   "source": [
    "### **8. Check if a number is even or odd using a lambda function.**"
   ]
  },
  {
   "cell_type": "code",
   "execution_count": 43,
   "id": "a21b6b72",
   "metadata": {},
   "outputs": [
    {
     "name": "stdout",
     "output_type": "stream",
     "text": [
      "Enter a Number4\n",
      "4 is even: True\n",
      "4 is odd: False\n"
     ]
    }
   ],
   "source": [
    "is_even = lambda num : num % 2 == 0\n",
    "is_odd = lambda num : num % 2 != 0\n",
    "\n",
    "number = int(input(\"Enter a Number\"))\n",
    "\n",
    "print(f\"{number} is even: {is_even(num)}\")\n",
    "print(f\"{number} is odd: {is_odd(num)}\")"
   ]
  },
  {
   "cell_type": "markdown",
   "id": "1beb2e5c",
   "metadata": {},
   "source": [
    "### **9. Given a list of numbers, find all numbers divisible by 13 using `filter()` and a lambda function.**"
   ]
  },
  {
   "cell_type": "code",
   "execution_count": 44,
   "id": "dc7fe247",
   "metadata": {},
   "outputs": [
    {
     "name": "stdout",
     "output_type": "stream",
     "text": [
      "Divisible by 13 is: [13, 26, 39, 65, 78, 91, 117]\n"
     ]
    }
   ],
   "source": [
    "# Example list of numbers\n",
    "numbers = [13, 26, 39, 50, 65, 78, 91, 100, 117]\n",
    "\n",
    "# Use filter() with a lambda function to find numbers divisible by 13\n",
    "divisible_by_13 = list(filter(lambda x: x % 13 == 0, numbers))\n",
    "\n",
    "print(f\"Divisible by 13 is: {divisible_by_13}\")\n"
   ]
  },
  {
   "cell_type": "markdown",
   "id": "b49a5760",
   "metadata": {},
   "source": [
    "### **10. Print Fibonacci series using recursion.**"
   ]
  },
  {
   "cell_type": "code",
   "execution_count": 45,
   "id": "f0e87aa7",
   "metadata": {},
   "outputs": [
    {
     "name": "stdout",
     "output_type": "stream",
     "text": [
      "Fibonacci Series\n",
      "1 1 2 3 5 8 13 21 34 55 89 "
     ]
    }
   ],
   "source": [
    "def fibonacci(n, n1=1, n2=1):\n",
    "    \n",
    "    if n < 0 :\n",
    "        return \n",
    "    \n",
    "    print(n1, end = \" \")\n",
    "    \n",
    "    return fibonacci(n-1, n2, n1 + n2)\n",
    "\n",
    "print(\"Fibonacci Series\")\n",
    "\n",
    "fibonacci(10)\n"
   ]
  },
  {
   "cell_type": "markdown",
   "id": "62e43430",
   "metadata": {},
   "source": [
    "### **OOPS**"
   ]
  },
  {
   "cell_type": "markdown",
   "id": "6f5e5025",
   "metadata": {},
   "source": [
    "**1. Write a Python program to create a Vehicle class with max_speed and mileage instance attributes.**"
   ]
  },
  {
   "cell_type": "code",
   "execution_count": 46,
   "id": "2a358471",
   "metadata": {},
   "outputs": [
    {
     "name": "stdout",
     "output_type": "stream",
     "text": [
      "Max Speed: 180 km/h\n",
      "Mileage: 15000 km\n"
     ]
    }
   ],
   "source": [
    "class Vehicle:\n",
    "    def __init__(self, max_speed, mileage):\n",
    "        self.max_speed = max_speed\n",
    "        self.mileage = mileage\n",
    "\n",
    "    def display_info(self):\n",
    "        print(f\"Max Speed: {self.max_speed} km/h\")\n",
    "        print(f\"Mileage: {self.mileage} km\")\n",
    "\n",
    "# Example usage\n",
    "car = Vehicle(180, 15000)\n",
    "car.display_info()\n",
    "\n",
    "        \n",
    "        \n",
    "        "
   ]
  },
  {
   "cell_type": "markdown",
   "id": "580ef727",
   "metadata": {},
   "source": [
    "**2. Create a child class Bus that will inherit all of the variables and methods of the Vehicle class.**"
   ]
  },
  {
   "cell_type": "code",
   "execution_count": 47,
   "id": "684c13ca",
   "metadata": {},
   "outputs": [
    {
     "name": "stdout",
     "output_type": "stream",
     "text": [
      "Max Speed: 100 km/h\n",
      "Mileage: 6 km\n"
     ]
    }
   ],
   "source": [
    "class Vehicle:\n",
    "    def __init__(self, max_speed, mileage):\n",
    "        self.max_speed = max_speed\n",
    "        self.mileage = mileage\n",
    "\n",
    "class Bus(Vehicle):\n",
    "    def __init__(self, max_speed, mileage):\n",
    "        super().__init__(max_speed, mileage)  # Call the parent class's initializer\n",
    "\n",
    "    def display_info(self):\n",
    "        print(f\"Max Speed: {self.max_speed} km/h\")\n",
    "        print(f\"Mileage: {self.mileage} km\")\n",
    "\n",
    "# Create an instance of Bus\n",
    "bus = Bus(100, 6)\n",
    "\n",
    "# Display the information\n",
    "bus.display_info()\n",
    "\n",
    "                \n",
    "    "
   ]
  },
  {
   "cell_type": "markdown",
   "id": "756a608a",
   "metadata": {},
   "source": [
    "**3. Write a Python program to create a class representing a shopping cart. Include methods for adding and removing items, and calculating the total price.**\n"
   ]
  },
  {
   "cell_type": "code",
   "execution_count": 67,
   "id": "fd094e7b",
   "metadata": {},
   "outputs": [
    {
     "name": "stdout",
     "output_type": "stream",
     "text": [
      "Added 3 Apple(s) to the cart.\n",
      "Added 2 Banana(s) to the cart.\n",
      "Shopping Cart:\n",
      "3 of Apple at $0.99 each\n",
      "2 of Banana at $0.59 each\n",
      "Total: $4.15\n",
      "Removed Apple from the cart.\n",
      "Shopping Cart:\n",
      "2 of Banana at $0.59 each\n",
      "Total: $1.18\n"
     ]
    }
   ],
   "source": [
    "class ShoppingCart:\n",
    "    def __init__(self):\n",
    "        self.items = []\n",
    "    \n",
    "    def add_item(self, name, price, quantity):\n",
    "        self.items.append({\n",
    "            \"name\": name,\n",
    "            \"price\": price,\n",
    "            \"quantity\": quantity\n",
    "        })\n",
    "        print(f\"Added {quantity} {name}(s) to the cart.\")\n",
    "    \n",
    "    def remove_item(self, name):\n",
    "        for item in self.items:\n",
    "            if item['name'] == name:\n",
    "                self.items.remove(item)\n",
    "                print(f\"Removed {name} from the cart.\")\n",
    "                return\n",
    "        print(f\"{name} not found in the cart.\")\n",
    "    \n",
    "    def display_cart(self):\n",
    "        if not self.items:\n",
    "            print(\"Your cart is empty.\")\n",
    "        else:\n",
    "            print(\"Shopping Cart:\")\n",
    "            for item in self.items:\n",
    "                print(f\"{item['quantity']} of {item['name']} at ${item['price']} each\")\n",
    "            print(f\"Total: ${self.calculate_total():.2f}\")\n",
    "    \n",
    "    def calculate_total(self):\n",
    "        total = 0\n",
    "        for item in self.items:\n",
    "            total += item['price'] * item['quantity']\n",
    "        return total\n",
    "\n",
    "# Example usage:\n",
    "cart = ShoppingCart()\n",
    "\n",
    "# Adding items to the cart\n",
    "cart.add_item(\"Apple\", 0.99, 3)\n",
    "cart.add_item(\"Banana\", 0.59, 2)\n",
    "\n",
    "# Displaying the cart\n",
    "cart.display_cart()\n",
    "\n",
    "# Removing an item from the cart\n",
    "cart.remove_item(\"Apple\")\n",
    "\n",
    "# Displaying the updated cart\n",
    "cart.display_cart()\n",
    "         \n",
    "   "
   ]
  },
  {
   "cell_type": "markdown",
   "id": "cca95caf",
   "metadata": {},
   "source": [
    "**4. Write a Python program to create a class representing a bank. Include methods for managing customer accounts and transactions.**\n"
   ]
  },
  {
   "cell_type": "code",
   "execution_count": 51,
   "id": "da96f982",
   "metadata": {},
   "outputs": [
    {
     "name": "stdout",
     "output_type": "stream",
     "text": [
      "\n",
      "Bank Menu\n",
      "1. Create account\n",
      "2. Deposit money\n",
      "3. Withdraw money\n",
      "4. Check balance\n",
      "5. Exit\n",
      "Enter your choice: 1\n",
      "Enter account number: HBL-123\n",
      "Enter initial balance: 1000\n",
      "Account created successfully.\n",
      "\n",
      "Bank Menu\n",
      "1. Create account\n",
      "2. Deposit money\n",
      "3. Withdraw money\n",
      "4. Check balance\n",
      "5. Exit\n",
      "Enter your choice: 2\n",
      "Enter account number: HBL-123\n",
      "Enter deposit amount: 5000\n",
      "Deposit successful.\n",
      "\n",
      "Bank Menu\n",
      "1. Create account\n",
      "2. Deposit money\n",
      "3. Withdraw money\n",
      "4. Check balance\n",
      "5. Exit\n",
      "Enter your choice: 3\n",
      "Enter account number: HBL-123\n",
      "Enter withdrawal amount: 4000\n",
      "Withdrawal successful.\n",
      "\n",
      "Bank Menu\n",
      "1. Create account\n",
      "2. Deposit money\n",
      "3. Withdraw money\n",
      "4. Check balance\n",
      "5. Exit\n",
      "Enter your choice: 4\n",
      "Enter account number: HBL-123\n",
      "Account balance: 2000.0\n",
      "\n",
      "Bank Menu\n",
      "1. Create account\n",
      "2. Deposit money\n",
      "3. Withdraw money\n",
      "4. Check balance\n",
      "5. Exit\n",
      "Enter your choice: 5\n",
      "Exiting...\n"
     ]
    }
   ],
   "source": [
    "class Bank:\n",
    "    def __init__(self):\n",
    "        self.customers = {}\n",
    "                \n",
    "    def create_account(self, account_number, balance=0):\n",
    "        if account_number in self.customers:\n",
    "            print(\"Account number already exists.\")\n",
    "        else:\n",
    "            self.customers[account_number] = balance\n",
    "            print(\"Account created successfully.\")\n",
    "                \n",
    "    def deposit(self, account_number, amount):\n",
    "        if account_number in self.customers:\n",
    "            self.customers[account_number] += amount\n",
    "            print(\"Deposit successful.\")\n",
    "        else:\n",
    "            print(\"Account number does not exist.\")\n",
    "                 \n",
    "    def withdraw(self, account_number, amount):\n",
    "        if account_number in self.customers:\n",
    "            if self.customers[account_number] >= amount:\n",
    "                self.customers[account_number] -= amount\n",
    "                print(\"Withdrawal successful.\")\n",
    "            else:\n",
    "                print(\"Insufficient funds.\")\n",
    "        else:\n",
    "            print(\"Account number does not exist.\")\n",
    "            \n",
    "    def check_balance(self, account_number):\n",
    "        if account_number in self.customers:\n",
    "            balance = self.customers[account_number]\n",
    "            print(f\"Account balance: {balance}\")\n",
    "        else:\n",
    "            print(\"Account number does not exist.\")   \n",
    "\n",
    "def main():\n",
    "    bank = Bank()\n",
    "    while True:\n",
    "        print(\"\\nBank Menu\")\n",
    "        print(\"1. Create account\")\n",
    "        print(\"2. Deposit money\")\n",
    "        print(\"3. Withdraw money\")\n",
    "        print(\"4. Check balance\")\n",
    "        print(\"5. Exit\")\n",
    "        \n",
    "        choice = input(\"Enter your choice: \")\n",
    "        \n",
    "        if choice == '1':\n",
    "            account_number = input(\"Enter account number: \")\n",
    "            initial_balance = float(input(\"Enter initial balance: \"))\n",
    "            bank.create_account(account_number, initial_balance)\n",
    "            \n",
    "        elif choice == '2':\n",
    "            account_number = input(\"Enter account number: \")\n",
    "            amount = float(input(\"Enter deposit amount: \"))\n",
    "            bank.deposit(account_number, amount)\n",
    "            \n",
    "        elif choice == '3':\n",
    "            account_number = input(\"Enter account number: \")\n",
    "            amount = float(input(\"Enter withdrawal amount: \"))\n",
    "            bank.withdraw(account_number, amount)\n",
    "            \n",
    "        elif choice == '4':\n",
    "            account_number = input(\"Enter account number: \")\n",
    "            bank.check_balance(account_number)\n",
    "            \n",
    "        elif choice == '5':\n",
    "            print(\"Exiting...\")\n",
    "            break\n",
    "        \n",
    "        else:\n",
    "            print(\"Invalid choice. Please try again.\")\n",
    "\n",
    "if __name__ == \"__main__\":\n",
    "    main()\n"
   ]
  },
  {
   "cell_type": "markdown",
   "id": "ffc091f7",
   "metadata": {},
   "source": [
    "### **File Handling**"
   ]
  },
  {
   "cell_type": "markdown",
   "id": "efbdda69",
   "metadata": {},
   "source": [
    "**1. Write a function in Python to read the content from a text file \"your_file.txt\" line by line and display the same on the screen.**"
   ]
  },
  {
   "cell_type": "code",
   "execution_count": 52,
   "id": "05aeddf8",
   "metadata": {},
   "outputs": [
    {
     "name": "stdout",
     "output_type": "stream",
     "text": [
      "Hello Everyone iam Asim Raza\n",
      "\n",
      "Currently enrolled in Ai BootCamp\n",
      "\n",
      "At SainCube Software solutions\n"
     ]
    }
   ],
   "source": [
    "def file_read():\n",
    "    \n",
    "    f = open(\"your_file.txt\", \"r\")\n",
    "    \n",
    "    for line in f:\n",
    "        print(line)\n",
    "        \n",
    "    f.close()\n",
    "\n",
    "file_read()\n",
    "  "
   ]
  },
  {
   "cell_type": "code",
   "execution_count": null,
   "id": "c0a89b59",
   "metadata": {},
   "outputs": [],
   "source": []
  },
  {
   "cell_type": "markdown",
   "id": "1fce1794",
   "metadata": {},
   "source": [
    "**2. Write a function in Python to count the number of lines from a text file \"story.txt\" which do not start with an alphabet \"T\".**"
   ]
  },
  {
   "cell_type": "code",
   "execution_count": 53,
   "id": "f5ea061d",
   "metadata": {},
   "outputs": [
    {
     "name": "stdout",
     "output_type": "stream",
     "text": [
      "Number of lines not starting with 'T': 1\n"
     ]
    }
   ],
   "source": [
    "def count_lines_not_starting_with_T():\n",
    "    count = 0\n",
    "    with open(\"story.txt\", \"r\") as f:\n",
    "        \n",
    "        for line in f:\n",
    "            if not line.startswith('T'):\n",
    "                count += 1\n",
    "    return count\n",
    "\n",
    "# Example usage:\n",
    "number_of_lines = count_lines_not_starting_with_T()\n",
    "print(f\"Number of lines not starting with 'T': {number_of_lines}\")\n"
   ]
  },
  {
   "cell_type": "markdown",
   "id": "9457873c",
   "metadata": {},
   "source": [
    "**3. Write a function in Python to count and display the total number of words in a text file.**"
   ]
  },
  {
   "cell_type": "code",
   "execution_count": 54,
   "id": "ee03ccce",
   "metadata": {},
   "outputs": [
    {
     "name": "stdout",
     "output_type": "stream",
     "text": [
      "Total number of words in story.txt: 25\n"
     ]
    }
   ],
   "source": [
    "def count_words():\n",
    "    count = 0\n",
    "    \n",
    "    with open(\"story.txt\", \"r\") as f:\n",
    "        for line in f:\n",
    "            words = line.split()\n",
    "            count += len(words)\n",
    "            \n",
    "    return count\n",
    "\n",
    "total_words = count_words()\n",
    "print(f\"Total number of words in story.txt: {total_words}\")\n",
    "   "
   ]
  },
  {
   "cell_type": "markdown",
   "id": "ac639a76",
   "metadata": {},
   "source": [
    "**4. Write a function in Python to read lines from a text file \"notes.txt\". Your function should find and display the occurrence of the word \"the\".**"
   ]
  },
  {
   "cell_type": "code",
   "execution_count": 55,
   "id": "bc5d0353",
   "metadata": {},
   "outputs": [
    {
     "name": "stdout",
     "output_type": "stream",
     "text": [
      "Occurrences of the word 'the': 2\n"
     ]
    }
   ],
   "source": [
    "def count_occurrences_of_the():\n",
    "    count = 0\n",
    "    \n",
    "    with open(\"notes.txt\", \"r\") as f:\n",
    "        for line in f:\n",
    "            words = line.lower().split()\n",
    "            count += words.count('the')\n",
    "    return count\n",
    "\n",
    "# Example usage:\n",
    "occurrences_of_the = count_occurrences_of_the()\n",
    "print(f\"Occurrences of the word 'the': {occurrences_of_the}\")\n"
   ]
  },
  {
   "cell_type": "markdown",
   "id": "f2aa1256",
   "metadata": {},
   "source": [
    "**5. A text file named \"matter.txt\" contains some text, which needs to be displayed such that every next character is separated by a symbol \"#\". Write a function definition for `hash_display()` in Python that would display the entire content of the file matter.txt in the desired format.**"
   ]
  },
  {
   "cell_type": "code",
   "execution_count": 56,
   "id": "f02895a1",
   "metadata": {},
   "outputs": [
    {
     "name": "stdout",
     "output_type": "stream",
     "text": [
      "\n",
      "#M#a#t#t#e#r# #i#s# #a#n#y#t#h#i#n#g# #t#h#a#t# #h#a#s# #m#a#s#s# #a#n#d# #o#c#c#u#p#i#e#s# #s#p#a#c#e#.# #I#t# #i#s# #m#a#d#e# #u#p# #o#f# #a#t#o#m#s# #a#n#d# #m#o#l#e#c#u#l#e#s# #a#n#d# #e#x#i#s#t#s# #i#n# #v#a#r#i#o#u#s# #s#t#a#t#e#s#,#\n",
      "# #s#u#c#h# #a#s# #s#o#l#i#d#,# #l#i#q#u#i#d#,# #g#a#s#,# #a#n#d# #p#l#a#s#m#a#.# #M#a#t#t#e#r# #f#o#r#m#s# #t#h#e# #p#h#y#s#i#c#a#l# #s#u#b#s#t#a#n#c#e# #o#f# #t#h#e# #u#n#i#v#e#r#s#e#,#\n",
      "#i#n#c#l#u#d#i#n#g# #a#l#l# #o#b#j#e#c#t#s# #a#n#d# #l#i#v#i#n#g# #o#r#g#a#n#i#s#m#s\n"
     ]
    }
   ],
   "source": [
    "def hash_display():\n",
    "    \n",
    "    with open(\"matter.txt\", \"r\") as f:\n",
    "        print('#'.join(f.read()))\n",
    "\n",
    "# Example usage:\n",
    "hash_display()\n"
   ]
  },
  {
   "cell_type": "markdown",
   "id": "32a2d847",
   "metadata": {},
   "source": [
    "**6. Write a Python program that reads content from one file and writes it into another file.**"
   ]
  },
  {
   "cell_type": "code",
   "execution_count": 57,
   "id": "59a0bf34",
   "metadata": {},
   "outputs": [
    {
     "name": "stdout",
     "output_type": "stream",
     "text": [
      "Contents of notes.txt:\n",
      "Thar is one The Largest Desert in sindh\n",
      "why you use Gaming PC instead of using Mobile \n",
      "This is The Person who Read book daily\n"
     ]
    }
   ],
   "source": [
    "def copy_content(source_file, destination_file):\n",
    "    with open(\"story.txt\", \"r\") as src:\n",
    "        content = src.read()\n",
    "    \n",
    "    with open(\"notes.txt\", \"w\") as dest:\n",
    "        dest.write(content)\n",
    "\n",
    "# Example usage:\n",
    "source_file = \"story.txt\"         # Replace with your source file name\n",
    "destination_file = \"notes.txt\"    # Replace with your destination file name\n",
    "\n",
    "copy_content(source_file, destination_file)\n",
    "\n",
    "with open(destination_file, \"r\") as f:\n",
    "    copied_content = f.read()\n",
    "\n",
    "print(\"Contents of notes.txt:\")\n",
    "print(copied_content)\n"
   ]
  },
  {
   "cell_type": "markdown",
   "id": "3de522d7",
   "metadata": {},
   "source": [
    "**7. Write a Python program to find the most repeated word in a text file.**"
   ]
  },
  {
   "cell_type": "code",
   "execution_count": 58,
   "id": "9ad029f1",
   "metadata": {},
   "outputs": [
    {
     "name": "stdout",
     "output_type": "stream",
     "text": [
      "The most repeated word in notes.txt is 'is'.\n"
     ]
    }
   ],
   "source": [
    "def most_repeated_word(filename):\n",
    "    # Initialize an empty dictionary to store word counts\n",
    "    word_count = {}\n",
    "\n",
    "    # Open the file and read its contents\n",
    "    with open(filename, \"r\") as file:\n",
    "        content = file.read()\n",
    "\n",
    "    # Split the content into words (assuming words are separated by whitespace)\n",
    "    words = content.split()\n",
    "\n",
    "    # Count the occurrences of each word\n",
    "    for word in words:\n",
    "        if word in word_count:\n",
    "            word_count[word] += 1\n",
    "        else:\n",
    "            word_count[word] = 1\n",
    "\n",
    "    # Find the word with the maximum count\n",
    "    most_repeated_word = max(word_count, key=word_count.get)\n",
    "\n",
    "    return most_repeated_word\n",
    "\n",
    "# Example usage:\n",
    "filename = \"notes.txt\"  # Replace with your file name\n",
    "word = most_repeated_word(filename)\n",
    "print(f\"The most repeated word in {filename} is '{word}'.\")\n"
   ]
  },
  {
   "cell_type": "markdown",
   "id": "f2ba25d8",
   "metadata": {},
   "source": [
    "**8. Write a Python program to read specific lines from a file in Python.**"
   ]
  },
  {
   "cell_type": "code",
   "execution_count": 59,
   "id": "9fab975b",
   "metadata": {},
   "outputs": [
    {
     "name": "stdout",
     "output_type": "stream",
     "text": [
      "Line 1: \n",
      "Line 3: such as solid, liquid, gas, and plasma. Matter forms the physical substance of the universe,\n"
     ]
    }
   ],
   "source": [
    "def read_specific_lines(file_path, line_numbers):\n",
    "    with open(file_path, 'r') as file:\n",
    "        \n",
    "        for current_line_number, line in enumerate(file, start=1):\n",
    "            if current_line_number in line_numbers:\n",
    "                print(f\"Line {current_line_number}: {line.strip()}\")\n",
    "\n",
    "# Example usage:\n",
    "file_path = 'matter.txt'  # Replace with your file path\n",
    "line_numbers = [1, 3, 5]  # Replace with the line numbers you want to read\n",
    "\n",
    "read_specific_lines(file_path, line_numbers)\n"
   ]
  },
  {
   "cell_type": "markdown",
   "id": "52780ed7",
   "metadata": {},
   "source": [
    "**9. A binary file \"Book.dat\" has the structure [BookNo, Book_Name, Author, Price].**\n",
    "\n",
    "i. Write a user-defined function `createFile()` to input data for a record and add it to Book.dat.  \n",
    "ii. Write a function `countRec(Author)` in Python which accepts the Author name as a parameter and counts and returns the number of books by the given Author stored in the binary file \"Book.dat\"."
   ]
  },
  {
   "cell_type": "code",
   "execution_count": 60,
   "id": "a8b186f4",
   "metadata": {},
   "outputs": [
    {
     "name": "stdout",
     "output_type": "stream",
     "text": [
      "Enter Book Number: 1\n",
      "Enter Book Name: Money\n",
      "Enter Author: John\n",
      "Enter Price: 500\n",
      "Enter Author name to count their books: John\n",
      "Number of books by John: 3\n"
     ]
    }
   ],
   "source": [
    "import pickle\n",
    "\n",
    "def createFile():\n",
    "    with open('Book.dat', 'ab') as file:\n",
    "        book_no = input(\"Enter Book Number: \")\n",
    "        book_name = input(\"Enter Book Name: \")\n",
    "        author = input(\"Enter Author: \")\n",
    "        price = float(input(\"Enter Price: \"))\n",
    "        record = [book_no, book_name, author, price]\n",
    "        pickle.dump(record, file)\n",
    "\n",
    "# Example usage:\n",
    "createFile()\n",
    "\n",
    "\n",
    "def countRec(author):\n",
    "    count = 0\n",
    "    try:\n",
    "        with open('Book.dat', 'rb') as file:\n",
    "            while True:\n",
    "                try:\n",
    "                    record = pickle.load(file)\n",
    "                    if record[2] == author:\n",
    "                        count += 1\n",
    "                except EOFError:\n",
    "                    break\n",
    "    except FileNotFoundError:\n",
    "        print(\"The file 'Book.dat' was not found.\")\n",
    "    \n",
    "    return count\n",
    "\n",
    "# Example usage:\n",
    "author_name = input(\"Enter Author name to count their books: \")\n",
    "print(f\"Number of books by {author_name}: {countRec(author_name)}\")\n",
    "\n"
   ]
  },
  {
   "cell_type": "markdown",
   "id": "112f6f6e",
   "metadata": {},
   "source": [
    "### **Exception Handling**\n",
    "---"
   ]
  },
  {
   "cell_type": "markdown",
   "id": "0238918f",
   "metadata": {},
   "source": [
    "**1. Write a Python program to handle a ZeroDivisionError exception when dividing a number by zero.**"
   ]
  },
  {
   "cell_type": "code",
   "execution_count": 61,
   "id": "203ba1dc",
   "metadata": {},
   "outputs": [
    {
     "name": "stdout",
     "output_type": "stream",
     "text": [
      "Enter the Number one: 10\n",
      "Enter the Number Two: 0\n",
      "Error: Division by zero is not allowed.\n"
     ]
    }
   ],
   "source": [
    "def divide_numbers(a, b):\n",
    "    try:\n",
    "        result = a / b\n",
    "        \n",
    "    except ZeroDivisionError:\n",
    "        return \"Error: Division by zero is not allowed.\"\n",
    "    \n",
    "    return result\n",
    "\n",
    "# Example usage:\n",
    "number_one = float(input(\"Enter the Number one: \"))\n",
    "number_two = float(input(\"Enter the Number Two: \"))\n",
    "\n",
    "result = divide_numbers(number_one, number_two)\n",
    "print(result)\n"
   ]
  },
  {
   "cell_type": "markdown",
   "id": "412b6bb6",
   "metadata": {},
   "source": [
    "**2. Write a Python program that prompts the user to input an integer and raises a ValueError exception if the input is not a valid integer.**"
   ]
  },
  {
   "cell_type": "code",
   "execution_count": 62,
   "id": "5f2e5ad5",
   "metadata": {},
   "outputs": [
    {
     "name": "stdout",
     "output_type": "stream",
     "text": [
      "Enter an integer: 'a'\n",
      "Invalid input. Please enter a valid integer.\n"
     ]
    }
   ],
   "source": [
    "def get_integer():\n",
    "    \n",
    "    user_input = input(\"Enter an integer: \")\n",
    "    \n",
    "    try:\n",
    "        number = int(user_input)\n",
    "        return number\n",
    "    \n",
    "    except ValueError:\n",
    "        raise ValueError(\"Invalid input. Please enter a valid integer.\")\n",
    "\n",
    "# Example usage:\n",
    "try:\n",
    "    result = get_integer()\n",
    "    print(f\"You entered the integer: {result}\")\n",
    "    \n",
    "    # Further processing with the valid integer can be done here\n",
    "except ValueError as e:\n",
    "    print(e)\n"
   ]
  },
  {
   "cell_type": "markdown",
   "id": "4eaa9ca8",
   "metadata": {},
   "source": [
    "**3. Write a Python program that opens a file and handles a FileNotFoundError exception if the file does not exist.**"
   ]
  },
  {
   "cell_type": "code",
   "execution_count": 63,
   "id": "f89f7799",
   "metadata": {},
   "outputs": [
    {
     "name": "stdout",
     "output_type": "stream",
     "text": [
      "Enter the path to the file you want to read: story.txt\n",
      "Thar is one The Largest Desert in sindh\n",
      "why you use Gaming PC instead of using Mobile \n",
      "This is The Person who Read book daily\n"
     ]
    }
   ],
   "source": [
    "def read_file(file_path):\n",
    "    try:\n",
    "        with open(file_path, 'r') as file:\n",
    "            content = file.read()\n",
    "        return content\n",
    "    \n",
    "    except FileNotFoundError:\n",
    "        return f\"Error: The file '{file_path}' does not exist.\"\n",
    "\n",
    "# Example usage:\n",
    "file_path = input(\"Enter the path to the file you want to read: \")\n",
    "content = read_file(file_path)\n",
    "print(content)\n"
   ]
  },
  {
   "cell_type": "markdown",
   "id": "a299c8c0",
   "metadata": {},
   "source": [
    "**4. Write a Python program that prompts the user to input two numbers and raises a TypeError exception if the inputs are not numerical.**"
   ]
  },
  {
   "cell_type": "code",
   "execution_count": 64,
   "id": "ba13c27d",
   "metadata": {},
   "outputs": [
    {
     "name": "stdout",
     "output_type": "stream",
     "text": [
      "enter Number one:5\n",
      "enter Number two:'a'\n",
      "Typer Error is shown unsupported operand type(s) for +: 'int' and 'str'\n"
     ]
    }
   ],
   "source": [
    "try:\n",
    "    num1 = eval(input(\"enter Number one:\"))\n",
    "    num2 = eval(input(\"enter Number two:\"))\n",
    "    \n",
    "    result = num1 + num2\n",
    "    \n",
    "except TypeError as e:\n",
    "    \n",
    "    print(\"Typer Error is shown\", e)"
   ]
  },
  {
   "cell_type": "markdown",
   "id": "9dfa02fa",
   "metadata": {},
   "source": [
    "**5. Write a Python program that executes an operation on a list and handles an IndexError exception if the index is out of range.**"
   ]
  },
  {
   "cell_type": "code",
   "execution_count": 65,
   "id": "1689c818",
   "metadata": {},
   "outputs": [
    {
     "name": "stdout",
     "output_type": "stream",
     "text": [
      "Enter an index (0 to 3): 4\n",
      "Error: Index is out of range for the list. Enter an index between 0 and 3.\n"
     ]
    }
   ],
   "source": [
    "my_list = [3, 7, 12, 5]\n",
    "\n",
    "try:\n",
    "    index = int(input(f\"Enter an index (0 to {len(my_list)-1}): \"))\n",
    "    value = my_list[index]\n",
    "    print(value)\n",
    "\n",
    "except IndexError:\n",
    "    print(f\"Error: Index is out of range for the list. Enter an index between 0 and {len(my_list)-1}.\")\n"
   ]
  },
  {
   "cell_type": "markdown",
   "id": "87512c48",
   "metadata": {},
   "source": [
    "**6. Define a custom exception called NegativeNumberError. Write a program that asks the user for a positive number and raises this exception if the user inputs a negative number.**"
   ]
  },
  {
   "cell_type": "code",
   "execution_count": 66,
   "id": "26236926",
   "metadata": {},
   "outputs": [
    {
     "name": "stdout",
     "output_type": "stream",
     "text": [
      "Enter a positive number: -5\n",
      "Error: Negative numbers are not allowed.\n"
     ]
    }
   ],
   "source": [
    "# Main program\n",
    "# Define custom exception\n",
    "class NegativeNumberError(Exception):\n",
    "    def __init__(self, message=\"Negative numbers are not allowed.\"):\n",
    "        self.message = message\n",
    "        super().__init__(self.message)\n",
    "\n",
    "# Main program\n",
    "try:\n",
    "    number = float(input(\"Enter a positive number: \"))\n",
    "    if number < 0:\n",
    "        raise NegativeNumberError\n",
    "    print(f\"You entered: {number}\")\n",
    "    \n",
    "except NegativeNumberError as e:\n",
    "    print(f\"Error: {e}\")\n"
   ]
  },
  {
   "cell_type": "code",
   "execution_count": null,
   "id": "4998db1b",
   "metadata": {},
   "outputs": [],
   "source": []
  }
 ],
 "metadata": {
  "kernelspec": {
   "display_name": "Python 3 (ipykernel)",
   "language": "python",
   "name": "python3"
  },
  "language_info": {
   "codemirror_mode": {
    "name": "ipython",
    "version": 3
   },
   "file_extension": ".py",
   "mimetype": "text/x-python",
   "name": "python",
   "nbconvert_exporter": "python",
   "pygments_lexer": "ipython3",
   "version": "3.10.9"
  }
 },
 "nbformat": 4,
 "nbformat_minor": 5
}
