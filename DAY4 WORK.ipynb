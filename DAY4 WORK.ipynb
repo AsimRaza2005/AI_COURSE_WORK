{
 "cells": [
  {
   "cell_type": "markdown",
   "id": "73326872",
   "metadata": {},
   "source": [
    "# ASIM RAZA\n",
    "\n",
    "## ASSIGNMENT DAY4\n",
    "\n",
    "### FUNCTION"
   ]
  },
  {
   "cell_type": "markdown",
   "id": "87b4d1c4",
   "metadata": {},
   "source": [
    "# - ## **Assignment for you**\n",
    "- Write a python function to calculate the area of a circle.\n",
    "- Write a python function to calculate the area of a rectangle.\n",
    "- Write a python function to calculate the area of a triangle.\n",
    "- Write a python function to calculate the area of a square.\n",
    "- Find out your best 5 built-in functions in Python and write the use of them.\n",
    "- Write a python function to calculate the sum of all numbers in a list.\n",
    "- Write a python function to calculate the average of all numbers in a list."
   ]
  },
  {
   "cell_type": "markdown",
   "id": "8acc33ff",
   "metadata": {},
   "source": [
    "### Area of circle"
   ]
  },
  {
   "cell_type": "code",
   "execution_count": 1,
   "id": "00ec5837",
   "metadata": {},
   "outputs": [
    {
     "name": "stdout",
     "output_type": "stream",
     "text": [
      "Area Of Circle :  50.26548245743669\n"
     ]
    }
   ],
   "source": [
    "import math\n",
    "def area_circle(radius):\n",
    "    \n",
    "    area = math.pi * (radius **2)\n",
    "    \n",
    "    return area\n",
    "        \n",
    "print(\"Area Of Circle : \",  area_circle(4))  \n",
    "    "
   ]
  },
  {
   "cell_type": "markdown",
   "id": "46a8493e",
   "metadata": {},
   "source": [
    "### Area of Rectangle"
   ]
  },
  {
   "cell_type": "code",
   "execution_count": 2,
   "id": "42b7d446",
   "metadata": {},
   "outputs": [
    {
     "name": "stdout",
     "output_type": "stream",
     "text": [
      "Area Of Rectangle :  20\n"
     ]
    }
   ],
   "source": [
    "def area_rect(length, width):\n",
    "    \n",
    "    area = length * width\n",
    "    \n",
    "    return area\n",
    "\n",
    "print(\"Area Of Rectangle : \" , area_rect(4,5))\n",
    "    "
   ]
  },
  {
   "cell_type": "markdown",
   "id": "2feaa74b",
   "metadata": {},
   "source": [
    "### Area Of Triangle"
   ]
  },
  {
   "cell_type": "code",
   "execution_count": 3,
   "id": "88c03b87",
   "metadata": {},
   "outputs": [
    {
     "name": "stdout",
     "output_type": "stream",
     "text": [
      "Area of Triangle: 10.0\n"
     ]
    }
   ],
   "source": [
    "def area_Triangle(base, height):\n",
    "    \n",
    "    area = 1/2 * (base * height)\n",
    "    \n",
    "    return area\n",
    "\n",
    "print(\"Area of Triangle:\", area_Triangle(4, 5))\n"
   ]
  },
  {
   "cell_type": "markdown",
   "id": "b625d9c4",
   "metadata": {},
   "source": [
    "### Area Of Square"
   ]
  },
  {
   "cell_type": "code",
   "execution_count": 4,
   "id": "a2866aeb",
   "metadata": {},
   "outputs": [
    {
     "name": "stdout",
     "output_type": "stream",
     "text": [
      "Area of square is :  4\n"
     ]
    }
   ],
   "source": [
    "def area_square(a):\n",
    "    \n",
    "    area = a ** 2\n",
    "    \n",
    "    return area\n",
    "\n",
    "print(\"Area of square is : \" , area_square(2))"
   ]
  },
  {
   "cell_type": "markdown",
   "id": "e0ed5fe1",
   "metadata": {},
   "source": [
    "### Find out your best 5 built-in functions in Python and write the use of them."
   ]
  },
  {
   "cell_type": "markdown",
   "id": "4946527d",
   "metadata": {},
   "source": [
    "1-abs()\tReturns the absolute value of a number\n",
    "\n",
    "2-enumerate()\tTakes a collection (e.g. a tuple) and returns it as an enumerate object\n",
    "\n",
    "3-getattr()\tReturns the value of the specified attribute (property or method)\n",
    "\n",
    "4-classmethod()\tConverts a method into a class method\n",
    "\n",
    "5-divmod()\tReturns the quotient and the remainder when argument1 is divided by argu\n"
   ]
  },
  {
   "cell_type": "markdown",
   "id": "9aee0db9",
   "metadata": {},
   "source": [
    "### Write a python function to calculate the sum of all numbers in a list"
   ]
  },
  {
   "cell_type": "code",
   "execution_count": 5,
   "id": "811e1681",
   "metadata": {},
   "outputs": [
    {
     "name": "stdout",
     "output_type": "stream",
     "text": [
      "Sum of Numbers in List :  39\n"
     ]
    }
   ],
   "source": [
    "def sum_of_list():\n",
    "    \n",
    "    list = [2,4,6,8,9,10]\n",
    "    \n",
    "    result = sum(list)\n",
    "    \n",
    "    return result\n",
    "\n",
    "print(\"Sum of Numbers in List : \" , sum_of_list())"
   ]
  },
  {
   "cell_type": "markdown",
   "id": "cffad08e",
   "metadata": {},
   "source": [
    "### Write a python function to calculate the average of all numbers in a list."
   ]
  },
  {
   "cell_type": "code",
   "execution_count": 6,
   "id": "26f9c569",
   "metadata": {},
   "outputs": [
    {
     "name": "stdout",
     "output_type": "stream",
     "text": [
      "Average of all: 6.0\n"
     ]
    }
   ],
   "source": [
    "def average_list():\n",
    "    \n",
    "    l = [2,4,6,8,10]\n",
    "    \n",
    "    result = sum(l)\n",
    "    \n",
    "    count = len(l)\n",
    "    \n",
    "    average = result/count\n",
    "    \n",
    "    return average\n",
    "\n",
    "print(\"Average of all:\", average_list())\n"
   ]
  },
  {
   "cell_type": "markdown",
   "id": "230c8e7a",
   "metadata": {},
   "source": [
    "# **Assignment for you**\n",
    "- Write a Python program that prompts the user to input two numbers and raises a TypeError exception if the inputs are not numerical.\n",
    "- Write a Python program that prompts the user to input a number and handles a KeyboardInterrupt exception if the user cancels the input.\n",
    "- Make a guess the number game. The computer randomly generates a number. The user inputs a number, and the computer will tell you if the number is higher, lower, or correct. The user will keep inputting the number until it is correct. Hint: Use the random module. Also handle the exception if the user inputs a string instead of a number."
   ]
  },
  {
   "cell_type": "markdown",
   "id": "9aedf826",
   "metadata": {},
   "source": [
    "### Exception Handling"
   ]
  },
  {
   "cell_type": "markdown",
   "id": "7346a9d7",
   "metadata": {},
   "source": [
    "### Type Error Exception"
   ]
  },
  {
   "cell_type": "code",
   "execution_count": 7,
   "id": "32c6c616",
   "metadata": {},
   "outputs": [
    {
     "name": "stdout",
     "output_type": "stream",
     "text": [
      "Enter the first number: 4\n",
      "Enter the second number: huh\n"
     ]
    },
    {
     "ename": "TypeError",
     "evalue": "The second input must be a numerical value",
     "output_type": "error",
     "traceback": [
      "\u001b[1;31m---------------------------------------------------------------------------\u001b[0m",
      "\u001b[1;31mValueError\u001b[0m                                Traceback (most recent call last)",
      "Cell \u001b[1;32mIn[7], line 13\u001b[0m\n\u001b[0;32m     11\u001b[0m     num2 \u001b[38;5;241m=\u001b[39m \u001b[38;5;28minput\u001b[39m(\u001b[38;5;124m\"\u001b[39m\u001b[38;5;124mEnter the second number: \u001b[39m\u001b[38;5;124m\"\u001b[39m)\n\u001b[1;32m---> 13\u001b[0m     num2 \u001b[38;5;241m=\u001b[39m \u001b[38;5;28;43mfloat\u001b[39;49m\u001b[43m(\u001b[49m\u001b[43mnum2\u001b[49m\u001b[43m)\u001b[49m\n\u001b[0;32m     15\u001b[0m \u001b[38;5;28;01mexcept\u001b[39;00m \u001b[38;5;167;01mValueError\u001b[39;00m:\n",
      "\u001b[1;31mValueError\u001b[0m: could not convert string to float: 'huh'",
      "\nDuring handling of the above exception, another exception occurred:\n",
      "\u001b[1;31mTypeError\u001b[0m                                 Traceback (most recent call last)",
      "Cell \u001b[1;32mIn[7], line 17\u001b[0m\n\u001b[0;32m     13\u001b[0m     num2 \u001b[38;5;241m=\u001b[39m \u001b[38;5;28mfloat\u001b[39m(num2)\n\u001b[0;32m     15\u001b[0m \u001b[38;5;28;01mexcept\u001b[39;00m \u001b[38;5;167;01mValueError\u001b[39;00m:\n\u001b[1;32m---> 17\u001b[0m     \u001b[38;5;28;01mraise\u001b[39;00m \u001b[38;5;167;01mTypeError\u001b[39;00m(\u001b[38;5;124m\"\u001b[39m\u001b[38;5;124mThe second input must be a numerical value\u001b[39m\u001b[38;5;124m\"\u001b[39m)\n\u001b[0;32m     19\u001b[0m \u001b[38;5;28mprint\u001b[39m(\u001b[38;5;124mf\u001b[39m\u001b[38;5;124m\"\u001b[39m\u001b[38;5;124mThe numbers you entered are \u001b[39m\u001b[38;5;132;01m{\u001b[39;00mnum1\u001b[38;5;132;01m}\u001b[39;00m\u001b[38;5;124m and \u001b[39m\u001b[38;5;132;01m{\u001b[39;00mnum2\u001b[38;5;132;01m}\u001b[39;00m\u001b[38;5;124m\"\u001b[39m)\n",
      "\u001b[1;31mTypeError\u001b[0m: The second input must be a numerical value"
     ]
    }
   ],
   "source": [
    "try:\n",
    "    num1 = input(\"Enter the first number: \")\n",
    "    \n",
    "    num1 = float(num1)\n",
    "    \n",
    "except ValueError:\n",
    "    \n",
    "    raise TypeError(\"The first input must be a numerical value\")\n",
    "\n",
    "try:\n",
    "    num2 = input(\"Enter the second number: \")\n",
    "    \n",
    "    num2 = float(num2)\n",
    "    \n",
    "except ValueError:\n",
    "\n",
    "    raise TypeError(\"The second input must be a numerical value\")\n",
    "\n",
    "print(f\"The numbers you entered are {num1} and {num2}\")\n"
   ]
  },
  {
   "cell_type": "markdown",
   "id": "51ce96ab",
   "metadata": {},
   "source": [
    "### KeyboardInterrupt exception"
   ]
  },
  {
   "cell_type": "code",
   "execution_count": null,
   "id": "145b15e7",
   "metadata": {},
   "outputs": [],
   "source": [
    "try:\n",
    "    num = input(\"Enter a number:\")\n",
    "                \n",
    "    num = float(num)  # Attempt to convert input to a float\n",
    "                \n",
    "    print(f\"You entered: {num}\")\n",
    "                \n",
    "except KeyboardInterrupt:\n",
    "                \n",
    "    print(\"\\nOperation cancelled by user.\")\n",
    "                \n",
    "except ValueError:\n",
    "                \n",
    "    print(\"Invalid input. Please enter a valid number.\")\n"
   ]
  },
  {
   "cell_type": "markdown",
   "id": "b8f8bd83",
   "metadata": {},
   "source": [
    "### Guess Number Game"
   ]
  },
  {
   "cell_type": "code",
   "execution_count": null,
   "id": "13ec9374",
   "metadata": {},
   "outputs": [],
   "source": [
    "import random\n",
    "\n",
    "def guess_game():\n",
    "    computer_number = random.randint(1, 100)\n",
    "    \n",
    "    while True:\n",
    "        try:\n",
    "            guess = int(input(\"Input your number between (1, 100): \"))\n",
    "            \n",
    "            if guess < computer_number:\n",
    "                print(\"User guess is Low.\")\n",
    "            elif guess > computer_number:\n",
    "                print(\"User guess is High.\")\n",
    "            else:\n",
    "                print(f\"Congratulations! {guess} is correct.\")\n",
    "                break\n",
    "                \n",
    "        except ValueError:\n",
    "            print(\"Invalid input. Please enter a valid number.\")\n",
    "\n",
    "if __name__ == \"__main__\":\n",
    "    guess_game()\n",
    "      \n",
    "            \n",
    "            "
   ]
  },
  {
   "cell_type": "code",
   "execution_count": null,
   "id": "90b44e1b",
   "metadata": {},
   "outputs": [],
   "source": []
  },
  {
   "cell_type": "markdown",
   "id": "fcc3019d",
   "metadata": {},
   "source": [
    "# **Assignment for you**\n",
    "- Write a Python program to read a file and print the content of the file.\n",
    "- Write a Python program to read a file and print the first 5 lines of the file.\n",
    "- Write a Python program to read a file and print the first 5 characters of the file.\n",
    "- Write a Python program to read a file and print the last 5 lines of the file.\n",
    "\n"
   ]
  },
  {
   "cell_type": "markdown",
   "id": "2a2f6db8",
   "metadata": {},
   "source": [
    "### Write a Python program to read a file and print the content of the file."
   ]
  },
  {
   "cell_type": "code",
   "execution_count": 9,
   "id": "58aad3cf",
   "metadata": {},
   "outputs": [
    {
     "name": "stdout",
     "output_type": "stream",
     "text": [
      "Hello iam Asim raza\n",
      "Currently Enroll in Ai Bootcamp\n",
      "at SAINCUBE Hyderabad\n"
     ]
    }
   ],
   "source": [
    "# Open the file in read mode\n",
    "f = open(\"demo.txt\", \"r\")\n",
    "\n",
    "# Read the contents of the file\n",
    "content = f.read()\n",
    "\n",
    "print(content)\n",
    "\n",
    "# Close the file\n",
    "f.close()\n",
    "\n",
    "\n"
   ]
  },
  {
   "cell_type": "markdown",
   "id": "ce06e967",
   "metadata": {},
   "source": [
    "### Write a Python program to read a file and print the first 5 lines of the file"
   ]
  },
  {
   "cell_type": "code",
   "execution_count": 11,
   "id": "777cf4ca",
   "metadata": {},
   "outputs": [
    {
     "name": "stdout",
     "output_type": "stream",
     "text": [
      "Hello iam Asim raza\n",
      "Currently Enroll in Ai Bootcamp\n",
      "at SAINCUBE Hyderabad\n",
      "iam student of muet jamshoro\n",
      "currently in 2nd yaer in BSCS\n"
     ]
    }
   ],
   "source": [
    "# Open the file in read mode\n",
    "f = open(\"demo.txt\", \"r\")\n",
    "\n",
    "# Read the contents of the file\n",
    "content = f.read()\n",
    "\n",
    "print(content)\n",
    "\n",
    "# Close the file\n",
    "f.close()"
   ]
  },
  {
   "cell_type": "markdown",
   "id": "b09dfa2c",
   "metadata": {},
   "source": [
    "### Write a Python program to read a file and print the first 5 characters of the file."
   ]
  },
  {
   "cell_type": "code",
   "execution_count": 12,
   "id": "e083ed1c",
   "metadata": {},
   "outputs": [
    {
     "name": "stdout",
     "output_type": "stream",
     "text": [
      "Hello iam Asim raza\n",
      "\n"
     ]
    }
   ],
   "source": [
    "# Open the file in read mode\n",
    "f = open(\"demo.txt\", \"r\")\n",
    "\n",
    "# Read the contents of the file\n",
    "content = f.readline()\n",
    "\n",
    "print(content)\n",
    "\n",
    "# Close the file\n",
    "f.close()"
   ]
  },
  {
   "cell_type": "code",
   "execution_count": null,
   "id": "5e10e02b",
   "metadata": {},
   "outputs": [],
   "source": []
  }
 ],
 "metadata": {
  "kernelspec": {
   "display_name": "Python 3 (ipykernel)",
   "language": "python",
   "name": "python3"
  },
  "language_info": {
   "codemirror_mode": {
    "name": "ipython",
    "version": 3
   },
   "file_extension": ".py",
   "mimetype": "text/x-python",
   "name": "python",
   "nbconvert_exporter": "python",
   "pygments_lexer": "ipython3",
   "version": "3.10.9"
  }
 },
 "nbformat": 4,
 "nbformat_minor": 5
}
