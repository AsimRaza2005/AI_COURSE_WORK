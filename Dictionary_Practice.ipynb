{
 "cells": [
  {
   "cell_type": "markdown",
   "id": "bb152676",
   "metadata": {},
   "source": [
    "# Dictionary Assignment\n",
    "1. What is the difference between list and dictionary?\n",
    "2. Make a dictionary of 10 locations and their respective temperatures.\n",
    "3. Print the dictionary.\n",
    "4. Print the length of the dictionary.\n",
    "5. Print the value of a specific key.\n",
    "6. Print all the keys of the dictionary.\n",
    "7. Print all the values of the dictionary.\n",
    "8. Add 2 more locations in the dictionary and print the updated dictionary.\n",
    "9. Remove 2 locations from the dictionary and print the updated dictionary.\n",
    "10. Copy the dictionary and print the copied dictionary.\n",
    "11. Clear the dictionary and print the updated dictionary.\n",
    "12. Delete the dictionary and print the dictionary."
   ]
  },
  {
   "cell_type": "markdown",
   "id": "61e38310",
   "metadata": {},
   "source": [
    "# What is the difference between list and dictionary?\n",
    "In short:\n",
    "\n",
    "- **List**: Ordered collection of items that are indexed by integers. Lists are mutable (can be changed after creation), and elements are accessed by their position.\n",
    "  \n",
    "- **Dictionary**: Collection of key-value pairs where each key is unique and associated with a value. Dictionaries are unordered, mutable, and elements are accessed by their keys.\n",
    "\n",
    "Lists use integer indices to access elements in a specific order, while dictionaries use keys to access values in an unordered manner.A"
   ]
  },
  {
   "cell_type": "code",
   "execution_count": 1,
   "id": "f0bb1ea4",
   "metadata": {},
   "outputs": [],
   "source": [
    "Temperature_of_cities = {\n",
    "    \n",
    "    \"Hyderabad\" : 47,\n",
    "    \"Karachi\" :   37,\n",
    "    \"Jamshoro\" :   46,\n",
    "    \"Dadu\":        48,\n",
    "    \"JacobAbad\":   50,\n",
    "    \"KPK\":         10,\n",
    "    \"Islamabad\" :  26,\n",
    "    \"Lahore\" :     40,\n",
    "    \"Kashmir\" :     5, \n",
    "    \"Skardu\" :      -10\n",
    "    \n",
    "    \n",
    "}\n"
   ]
  },
  {
   "cell_type": "markdown",
   "id": "ba5f2336",
   "metadata": {},
   "source": [
    "# Print the dictionary"
   ]
  },
  {
   "cell_type": "code",
   "execution_count": 2,
   "id": "e63b0047",
   "metadata": {},
   "outputs": [
    {
     "name": "stdout",
     "output_type": "stream",
     "text": [
      "{'Hyderabad': 47, 'Karachi': 37, 'Jamshoro': 46, 'Dadu': 48, 'JacobAbad': 50, 'KPK': 10, 'Islamabad': 26, 'Lahore': 40, 'Kashmir': 5, 'Skardu': -10}\n"
     ]
    }
   ],
   "source": [
    "print(Temperature_of_cities)"
   ]
  },
  {
   "cell_type": "markdown",
   "id": "badc76ae",
   "metadata": {},
   "source": [
    "# Print the length of the dictionary"
   ]
  },
  {
   "cell_type": "code",
   "execution_count": 3,
   "id": "3c3bbd9c",
   "metadata": {},
   "outputs": [
    {
     "name": "stdout",
     "output_type": "stream",
     "text": [
      "10\n"
     ]
    }
   ],
   "source": [
    "print(len(Temperature_of_cities))"
   ]
  },
  {
   "cell_type": "markdown",
   "id": "242fd82a",
   "metadata": {},
   "source": [
    "# Print the value of a specific key."
   ]
  },
  {
   "cell_type": "code",
   "execution_count": 4,
   "id": "561ccc93",
   "metadata": {},
   "outputs": [
    {
     "name": "stdout",
     "output_type": "stream",
     "text": [
      "Specific Temperature of karachi is  37\n"
     ]
    }
   ],
   "source": [
    "specific = Temperature_of_cities[\"Karachi\"] = 37\n",
    "print(\"Specific Temperature of karachi is \" , specific)\n"
   ]
  },
  {
   "cell_type": "markdown",
   "id": "bbdcab3b",
   "metadata": {},
   "source": [
    "# Print all the keys of the dictionary"
   ]
  },
  {
   "cell_type": "code",
   "execution_count": 5,
   "id": "c83941f9",
   "metadata": {},
   "outputs": [
    {
     "name": "stdout",
     "output_type": "stream",
     "text": [
      "All Specific key dict_keys(['Hyderabad', 'Karachi', 'Jamshoro', 'Dadu', 'JacobAbad', 'KPK', 'Islamabad', 'Lahore', 'Kashmir', 'Skardu'])\n"
     ]
    }
   ],
   "source": [
    "key = Temperature_of_cities.keys()\n",
    "print(\"All Specific key\", key)"
   ]
  },
  {
   "cell_type": "markdown",
   "id": "62b1b8ad",
   "metadata": {},
   "source": [
    "# Print all the values of the dictionary."
   ]
  },
  {
   "cell_type": "code",
   "execution_count": 6,
   "id": "e926cd03",
   "metadata": {},
   "outputs": [
    {
     "name": "stdout",
     "output_type": "stream",
     "text": [
      "All Specific value dict_values([47, 37, 46, 48, 50, 10, 26, 40, 5, -10])\n"
     ]
    }
   ],
   "source": [
    "val = Temperature_of_cities.values()\n",
    "print(\"All Specific value\", val)"
   ]
  },
  {
   "cell_type": "markdown",
   "id": "b960b1c5",
   "metadata": {},
   "source": [
    "# Add 2 more locations in the dictionary and print the updated dictionary."
   ]
  },
  {
   "cell_type": "code",
   "execution_count": 7,
   "id": "3f9b2ce7",
   "metadata": {},
   "outputs": [
    {
     "name": "stdout",
     "output_type": "stream",
     "text": [
      "Updated Dictionary 30\n"
     ]
    },
    {
     "data": {
      "text/plain": [
       "{'Hyderabad': 47,\n",
       " 'Karachi': 37,\n",
       " 'Jamshoro': 46,\n",
       " 'Dadu': 48,\n",
       " 'JacobAbad': 50,\n",
       " 'KPK': 10,\n",
       " 'Islamabad': 26,\n",
       " 'Lahore': 40,\n",
       " 'Kashmir': 5,\n",
       " 'Skardu': -10,\n",
       " 'MPK': 30,\n",
       " 'Thatta': 40}"
      ]
     },
     "execution_count": 7,
     "metadata": {},
     "output_type": "execute_result"
    }
   ],
   "source": [
    "upd = Temperature_of_cities[\"MPK\"] = 30 \n",
    "Temperature_of_cities[\"Thatta\"] = 40\n",
    "\n",
    "print(\"Updated Dictionary\",upd)\n",
    "\n",
    "Temperature_of_cities\n"
   ]
  },
  {
   "cell_type": "markdown",
   "id": "e9ccc054",
   "metadata": {},
   "source": [
    "# Remove 2 locations from the dictionary and print the updated dictionary"
   ]
  },
  {
   "cell_type": "code",
   "execution_count": 8,
   "id": "0c4825aa",
   "metadata": {},
   "outputs": [
    {
     "name": "stdout",
     "output_type": "stream",
     "text": [
      "After Removing {'Hyderabad': 47, 'Karachi': 37, 'Jamshoro': 46, 'Dadu': 48, 'JacobAbad': 50, 'KPK': 10, 'Lahore': 40, 'Skardu': -10, 'MPK': 30, 'Thatta': 40}\n"
     ]
    }
   ],
   "source": [
    "Temperature_of_cities.pop('Islamabad')\n",
    "Temperature_of_cities.pop(\"Kashmir\")\n",
    "\n",
    "print(\"After Removing\", Temperature_of_cities)\n",
    "\n",
    "\n",
    "\n"
   ]
  },
  {
   "cell_type": "markdown",
   "id": "6154e221",
   "metadata": {},
   "source": [
    "# Copy the dictionary and print the copied dictionary."
   ]
  },
  {
   "cell_type": "code",
   "execution_count": 9,
   "id": "7c8999e9",
   "metadata": {},
   "outputs": [
    {
     "name": "stdout",
     "output_type": "stream",
     "text": [
      "Dict After Copy {'Hyderabad': 47, 'Karachi': 37, 'Jamshoro': 46, 'Dadu': 48, 'JacobAbad': 50, 'KPK': 10, 'Lahore': 40, 'Skardu': -10, 'MPK': 30, 'Thatta': 40}\n"
     ]
    }
   ],
   "source": [
    "Temperature_of_cities.copy()\n",
    "print(\"Dict After Copy\",Temperature_of_cities)"
   ]
  },
  {
   "cell_type": "markdown",
   "id": "4db1ebdb",
   "metadata": {},
   "source": [
    "# Clear the dictionary and print the updated dictionary"
   ]
  },
  {
   "cell_type": "code",
   "execution_count": 10,
   "id": "e2c02cec",
   "metadata": {},
   "outputs": [
    {
     "name": "stdout",
     "output_type": "stream",
     "text": [
      "{}\n"
     ]
    }
   ],
   "source": [
    "Temperature_of_cities.clear()\n",
    "print(Temperature_of_cities)"
   ]
  },
  {
   "cell_type": "markdown",
   "id": "69d07804",
   "metadata": {},
   "source": [
    "# Delete the dictionary and print the dictionary."
   ]
  },
  {
   "cell_type": "code",
   "execution_count": 11,
   "id": "4acc448a",
   "metadata": {},
   "outputs": [],
   "source": [
    "del Temperature_of_cities"
   ]
  },
  {
   "cell_type": "markdown",
   "id": "3628f98e",
   "metadata": {},
   "source": [
    "# Assignment for you¶\n",
    "1. What is the difference between = and == in Python?\n",
    "2. What is the difference between = and += in Python?\n",
    "3. Write the python code to add your marks in 5 subjects and calculate the total marks. (i.e. 85, 95, 90, 80, 100)\n",
    "4. Write the python code to calculate the average of your marks.\n",
    "5. Write the python code to calculate the percentage of your marks.\n",
    "6. Write the python code to compare your marks with your friend's marks and print the result. (i.e. who got more marks) Hint: Use comparison operators. (your friend's marks: 85, 95, 90, 80, 100)\n",
    "7. Write the python code to check whether you got more marks than your friend or not. Hint: Use logical operators."
   ]
  },
  {
   "cell_type": "markdown",
   "id": "d2bb5063",
   "metadata": {},
   "source": [
    "# What is the difference between = and == in Python?\n",
    "1.= (Assignment Operator):\n",
    "\n",
    "The = operator is used to assign a value to a variable.\n",
    "x = 5\n",
    "\n",
    "2.== (Equality Operator):\n",
    "\n",
    "The == operator is used to compare two values for equality.\n",
    "It returns True if the values on both sides are equal, and False otherwise.\n",
    "\n",
    "x = 5\n",
    "y = 5\n",
    "z = 10\n",
    "print(x == y)  # This will print True because x and y are both 5\n",
    "print(x == z)  # This will print False because x is 5 and z is 10\n",
    "\n"
   ]
  },
  {
   "cell_type": "markdown",
   "id": "4afbe16d",
   "metadata": {},
   "source": [
    "# What is the difference between = and += in Python?\n",
    "\n",
    "\n",
    "1.= (Assignment Operator):\n",
    "\n",
    "The = operator is used to assign a value to a variable. x = 5\n",
    "\n",
    "2.+= (Addition Assignment Operator):\n",
    "\n",
    "The += \n",
    "operator is used to add the value on the right to the variable on the left and then assign the result back to the variable on the left.\n",
    "For example:\n",
    "python\n",
    "Copy code\n",
    "x = 5\n",
    "x += 3  # Equivalent to x = x + 3\n",
    "\n"
   ]
  },
  {
   "cell_type": "markdown",
   "id": "fffddc31",
   "metadata": {},
   "source": [
    "# Write the python code to add your marks in 5 subjects and calculate the total marks. (i.e. 85, 95, 90, 80, 100)"
   ]
  },
  {
   "cell_type": "code",
   "execution_count": 15,
   "id": "3536ef9e",
   "metadata": {},
   "outputs": [
    {
     "name": "stdout",
     "output_type": "stream",
     "text": [
      "Total marks :  450\n"
     ]
    }
   ],
   "source": [
    "CCP = 85\n",
    "AC = 95\n",
    "DSA = 90\n",
    "DBS = 80\n",
    "IICT = 100\n",
    "\n",
    "total_marks = CCP + AC  +DSA + DBS + IICT\n",
    "\n",
    "print(\"Total marks : \", total_marks)"
   ]
  },
  {
   "cell_type": "markdown",
   "id": "22231b10",
   "metadata": {},
   "source": [
    "# Write the python code to calculate the average of your marks"
   ]
  },
  {
   "cell_type": "code",
   "execution_count": 19,
   "id": "b59a4b44",
   "metadata": {},
   "outputs": [
    {
     "name": "stdout",
     "output_type": "stream",
     "text": [
      "90.0\n"
     ]
    }
   ],
   "source": [
    "avg = total_marks/5\n",
    "print(avg)"
   ]
  },
  {
   "cell_type": "markdown",
   "id": "f5bda65d",
   "metadata": {},
   "source": [
    "# Write the python code to calculate the percentage of your marks."
   ]
  },
  {
   "cell_type": "code",
   "execution_count": 22,
   "id": "567ecff9",
   "metadata": {},
   "outputs": [
    {
     "name": "stdout",
     "output_type": "stream",
     "text": [
      "100.0\n"
     ]
    }
   ],
   "source": [
    "percentage = (total_marks / 450 )*100\n",
    "print(percentage)"
   ]
  },
  {
   "cell_type": "markdown",
   "id": "92e72c02",
   "metadata": {},
   "source": [
    "# Write the python code to compare your marks with your friend's marks and print the result. (i.e. who got more marks) Hint: Use comparison operators. (\n",
    "## your friend's marks: 85, 95, 90, 80, 100)"
   ]
  },
  {
   "cell_type": "code",
   "execution_count": 23,
   "id": "0eacd7e9",
   "metadata": {},
   "outputs": [
    {
     "name": "stdout",
     "output_type": "stream",
     "text": [
      "In subject 1, your friend got more marks (85) than you (75).\n",
      "In subject 2, your friend got more marks (95) than you (85).\n",
      "In subject 3, both you and your friend got the same marks (90).\n",
      "In subject 4, your friend got more marks (80) than you (70).\n",
      "In subject 5, your friend got more marks (100) than you (95).\n",
      "\n",
      "Did you get more marks than your friend in all subjects?\n",
      "No\n"
     ]
    }
   ],
   "source": [
    "# Marks of you and your friend in five subjects\n",
    "your_marks = [75, 85, 90, 70, 95]  # Replace with your actual marks\n",
    "friend_marks = [85, 95, 90, 80, 100]\n",
    "\n",
    "# Compare marks and print the result\n",
    "for i in range(len(your_marks)):\n",
    "    if your_marks[i] > friend_marks[i]:\n",
    "        print(f\"In subject {i+1}, you got more marks ({your_marks[i]}) than your friend ({friend_marks[i]}).\")\n",
    "    elif your_marks[i] < friend_marks[i]:\n",
    "        print(f\"In subject {i+1}, your friend got more marks ({friend_marks[i]}) than you ({your_marks[i]}).\")\n",
    "    else:\n",
    "        print(f\"In subject {i+1}, both you and your friend got the same marks ({your_marks[i]}).\")\n",
    "\n",
    "# Check if you got more marks than your friend in all subjects\n",
    "you_got_more_in_all = all(your_marks[i] > friend_marks[i] for i in range(len(your_marks)))\n",
    "print(\"\\nDid you get more marks than your friend in all subjects?\")\n",
    "print(\"Yes\" if you_got_more_in_all else \"No\")\n"
   ]
  },
  {
   "cell_type": "markdown",
   "id": "f664c574",
   "metadata": {},
   "source": [
    "# Check if the number is even or odd"
   ]
  },
  {
   "cell_type": "code",
   "execution_count": 24,
   "id": "37fb6222",
   "metadata": {},
   "outputs": [
    {
     "name": "stdout",
     "output_type": "stream",
     "text": [
      "Enter a number: 5\n",
      "The number is odd.\n"
     ]
    }
   ],
   "source": [
    "number = int(input(\"Enter a number: \"))\n",
    "\n",
    "if number % 2 == 0:\n",
    "    print(\"The number is even.\")\n",
    "else:\n",
    "    print(\"The number is odd.\")\n"
   ]
  },
  {
   "cell_type": "markdown",
   "id": "5e91c53a",
   "metadata": {},
   "source": [
    "# Grade Calculator"
   ]
  },
  {
   "cell_type": "code",
   "execution_count": 4,
   "id": "b614d855",
   "metadata": {},
   "outputs": [
    {
     "name": "stdout",
     "output_type": "stream",
     "text": [
      "Enter your marks: 92\n",
      "Your grade is: A\n"
     ]
    }
   ],
   "source": [
    "marks = float(input(\"Enter your marks: \"))\n",
    "\n",
    "if 90 <= marks <= 100:\n",
    "    grade = \"A\"\n",
    "elif 80 <= marks < 90:\n",
    "    grade = \"B\"\n",
    "elif 70 <= marks < 80:\n",
    "    grade = \"C\"\n",
    "elif 60 <= marks < 70:\n",
    "    grade = \"D\"\n",
    "else:\n",
    "    grade = \"F\"\n",
    "\n",
    "print(\"Your grade is:\", grade)\n"
   ]
  },
  {
   "cell_type": "markdown",
   "id": "763513d8",
   "metadata": {},
   "source": [
    "# Give discount based on age"
   ]
  },
  {
   "cell_type": "code",
   "execution_count": 26,
   "id": "a7604d36",
   "metadata": {},
   "outputs": [
    {
     "name": "stdout",
     "output_type": "stream",
     "text": [
      "Enter your age: 20\n",
      "You get a 20% discount\n"
     ]
    }
   ],
   "source": [
    "age = int(input(\"Enter your age: \"))\n",
    "\n",
    "if 0 <= age <= 5:\n",
    "    discount = \"50% discount\"\n",
    "elif 5 < age <= 10:\n",
    "    discount = \"30% discount\"\n",
    "elif 10 < age <= 20:\n",
    "    discount = \"20% discount\"\n",
    "elif 20 < age <= 50:\n",
    "    discount = \"10% discount\"\n",
    "else:\n",
    "    discount = \"5% discount\"\n",
    "\n",
    "print(\"You get a\", discount)\n"
   ]
  },
  {
   "cell_type": "code",
   "execution_count": null,
   "id": "73ad0195",
   "metadata": {},
   "outputs": [],
   "source": []
  }
 ],
 "metadata": {
  "kernelspec": {
   "display_name": "Python 3 (ipykernel)",
   "language": "python",
   "name": "python3"
  },
  "language_info": {
   "codemirror_mode": {
    "name": "ipython",
    "version": 3
   },
   "file_extension": ".py",
   "mimetype": "text/x-python",
   "name": "python",
   "nbconvert_exporter": "python",
   "pygments_lexer": "ipython3",
   "version": "3.10.9"
  }
 },
 "nbformat": 4,
 "nbformat_minor": 5
}
