{
  "nbformat": 4,
  "nbformat_minor": 0,
  "metadata": {
    "colab": {
      "provenance": [],
      "toc_visible": true
    },
    "kernelspec": {
      "name": "python3",
      "display_name": "Python 3"
    },
    "language_info": {
      "name": "python"
    }
  },
  "cells": [
    {
      "cell_type": "markdown",
      "source": [
        "# **DAY2 ASSIGNMENT**"
      ],
      "metadata": {
        "id": "9DdxT6mdu-hy"
      }
    },
    {
      "cell_type": "markdown",
      "source": [
        "Make a list of 5 students and print the list."
      ],
      "metadata": {
        "id": "5hESyO3luObL"
      }
    },
    {
      "cell_type": "code",
      "source": [
        "students = [\"Ali\",\"Asim\",\"Ahmed\",\"Faisal\",\"Mahmood\"]\n",
        "print(students)"
      ],
      "metadata": {
        "colab": {
          "base_uri": "https://localhost:8080/"
        },
        "id": "dMtgziJVuZzS",
        "outputId": "ce4a7018-06fb-475c-8e9f-5822d5020a0c"
      },
      "execution_count": 3,
      "outputs": [
        {
          "output_type": "stream",
          "name": "stdout",
          "text": [
            "['Ali', 'Asim', 'Ahmed', 'Faisal', 'Mahmood']\n"
          ]
        }
      ]
    },
    {
      "cell_type": "markdown",
      "source": [
        "Add 2 more students in the list and print the updated list."
      ],
      "metadata": {
        "id": "APtuy9aGuvkC"
      }
    },
    {
      "cell_type": "code",
      "source": [
        "students.append(\"Ahad\")\n",
        "students.append(\"Asif\")\n",
        "print(students)"
      ],
      "metadata": {
        "colab": {
          "base_uri": "https://localhost:8080/"
        },
        "id": "fa9GodU0uzOy",
        "outputId": "64483825-dfbc-422a-c745-e4cecdca3ce1"
      },
      "execution_count": 4,
      "outputs": [
        {
          "output_type": "stream",
          "name": "stdout",
          "text": [
            "['Ali', 'Asim', 'Ahmed', 'Faisal', 'Mahmood', 'Ahad', 'Asif']\n"
          ]
        }
      ]
    },
    {
      "cell_type": "markdown",
      "source": [
        "Remove 2 students from the list and print the updated list."
      ],
      "metadata": {
        "id": "McfAIk9Uu9Sf"
      }
    },
    {
      "cell_type": "code",
      "source": [
        "students.remove(\"Ahad\")\n",
        "students.remove(\"Asif\")\n",
        "print(students)"
      ],
      "metadata": {
        "colab": {
          "base_uri": "https://localhost:8080/"
        },
        "id": "SayQ9mwKwEPJ",
        "outputId": "36a94537-ea12-4460-bac6-a31fbf9d34be"
      },
      "execution_count": 5,
      "outputs": [
        {
          "output_type": "stream",
          "name": "stdout",
          "text": [
            "['Ali', 'Asim', 'Ahmed', 'Faisal', 'Mahmood']\n"
          ]
        }
      ]
    },
    {
      "cell_type": "code",
      "source": [
        "students.sort()\n",
        "print(\"After Sorting\",students)"
      ],
      "metadata": {
        "colab": {
          "base_uri": "https://localhost:8080/"
        },
        "id": "RW5W5pHRwIS0",
        "outputId": "f8f38c4b-2d63-47b3-81c3-367695c86731"
      },
      "execution_count": 6,
      "outputs": [
        {
          "output_type": "stream",
          "name": "stdout",
          "text": [
            "After Sorting ['Ahmed', 'Ali', 'Asim', 'Faisal', 'Mahmood']\n"
          ]
        }
      ]
    },
    {
      "cell_type": "markdown",
      "source": [
        " Reverse the list and print the updated list"
      ],
      "metadata": {
        "id": "lAreGEhgwTcu"
      }
    },
    {
      "cell_type": "code",
      "source": [
        "students.reverse()\n",
        "print(\"After Reverse\",students)"
      ],
      "metadata": {
        "colab": {
          "base_uri": "https://localhost:8080/"
        },
        "id": "GsVIcpxbwSzc",
        "outputId": "d4cf7ecb-c02d-4241-af78-9cc29144e340"
      },
      "execution_count": 7,
      "outputs": [
        {
          "output_type": "stream",
          "name": "stdout",
          "text": [
            "After Reverse ['Mahmood', 'Faisal', 'Asim', 'Ali', 'Ahmed']\n"
          ]
        }
      ]
    },
    {
      "cell_type": "markdown",
      "source": [
        " Clear the list and print the updated list."
      ],
      "metadata": {
        "id": "HvCsFq5OwgPT"
      }
    },
    {
      "cell_type": "code",
      "source": [
        "students.clear()\n",
        "print(\"After Clear\",students)"
      ],
      "metadata": {
        "colab": {
          "base_uri": "https://localhost:8080/"
        },
        "id": "SXaGzb-owf34",
        "outputId": "48fdf0b3-4ac0-4f0d-ab94-ffc10cc34c24"
      },
      "execution_count": 8,
      "outputs": [
        {
          "output_type": "stream",
          "name": "stdout",
          "text": [
            "After Clear []\n"
          ]
        }
      ]
    },
    {
      "cell_type": "markdown",
      "source": [
        "What is the difference between list and tuple?\n",
        "Ans: The key difference between tuples and lists is that while tuples are immutable objects, lists are mutable. This means tuples cannot be changed while lists can be modified. Tuples are also more memory efficient than the lists. When it comes to time efficiency, tuples have a slight advantage over lists especially when we consider lookup value. If you have data that shouldn’t change, you should choose tuple data type over lists."
      ],
      "metadata": {
        "id": "1nnZytebw2t0"
      }
    },
    {
      "cell_type": "markdown",
      "source": [
        " Make a tuple that contain only one item and print the type of the tuple."
      ],
      "metadata": {
        "id": "GaQgF-duw3PU"
      }
    },
    {
      "cell_type": "code",
      "source": [
        "tup = (1,2,3,4,5)\n",
        "print(type(tup))"
      ],
      "metadata": {
        "colab": {
          "base_uri": "https://localhost:8080/"
        },
        "id": "Batb2lPxw4c9",
        "outputId": "abd99c59-6e83-4214-f822-839b638cd577"
      },
      "execution_count": 9,
      "outputs": [
        {
          "output_type": "stream",
          "name": "stdout",
          "text": [
            "<class 'tuple'>\n"
          ]
        }
      ]
    },
    {
      "cell_type": "markdown",
      "source": [
        "Make a tuple of 5 items and print the tuple."
      ],
      "metadata": {
        "id": "6MqiEx7CxFPr"
      }
    },
    {
      "cell_type": "code",
      "source": [
        "item = (1,2,3,4,5,5)\n",
        "print(item)"
      ],
      "metadata": {
        "colab": {
          "base_uri": "https://localhost:8080/"
        },
        "id": "N0ifu_nTxI9Z",
        "outputId": "cd51abc7-7263-4f5b-f147-1701ff22b78a"
      },
      "execution_count": 10,
      "outputs": [
        {
          "output_type": "stream",
          "name": "stdout",
          "text": [
            "(1, 2, 3, 4, 5, 5)\n"
          ]
        }
      ]
    },
    {
      "cell_type": "markdown",
      "source": [
        "Find the index of a specific item in the tuple."
      ],
      "metadata": {
        "id": "Ol0cUuq8xSJV"
      }
    },
    {
      "cell_type": "code",
      "source": [
        "print(item.index(2))"
      ],
      "metadata": {
        "colab": {
          "base_uri": "https://localhost:8080/"
        },
        "id": "x1SWUlR1xVZl",
        "outputId": "217cecf8-833b-48ff-97fa-1ec00511f2da"
      },
      "execution_count": 11,
      "outputs": [
        {
          "output_type": "stream",
          "name": "stdout",
          "text": [
            "1\n"
          ]
        }
      ]
    },
    {
      "cell_type": "markdown",
      "source": [
        " Find the count of a specific item in the tuple."
      ],
      "metadata": {
        "id": "NqGp3ZIZxZaD"
      }
    },
    {
      "cell_type": "code",
      "source": [
        "print(item.count(5))"
      ],
      "metadata": {
        "colab": {
          "base_uri": "https://localhost:8080/"
        },
        "id": "TCSlptrVxZH5",
        "outputId": "02e39a01-80d0-478b-bfc7-4be9661ec985"
      },
      "execution_count": 12,
      "outputs": [
        {
          "output_type": "stream",
          "name": "stdout",
          "text": [
            "2\n"
          ]
        }
      ]
    },
    {
      "cell_type": "markdown",
      "source": [
        "Find the length of the tuple."
      ],
      "metadata": {
        "id": "HkyhJzoYxn2n"
      }
    },
    {
      "cell_type": "code",
      "source": [
        "print(len(item))"
      ],
      "metadata": {
        "colab": {
          "base_uri": "https://localhost:8080/"
        },
        "id": "_bYgo3ItxtEG",
        "outputId": "f718657c-be96-4e4a-d633-1b5626803cd6"
      },
      "execution_count": 13,
      "outputs": [
        {
          "output_type": "stream",
          "name": "stdout",
          "text": [
            "6\n"
          ]
        }
      ]
    },
    {
      "cell_type": "markdown",
      "source": [
        "Find the maximum and minimum item in the tuple."
      ],
      "metadata": {
        "id": "UhLRLhAFx0JW"
      }
    },
    {
      "cell_type": "code",
      "source": [
        "print(max(item))\n",
        "print(min(item))"
      ],
      "metadata": {
        "colab": {
          "base_uri": "https://localhost:8080/"
        },
        "id": "cl7pxOVYx6LV",
        "outputId": "33a53de6-d867-4f49-edb0-e31422b512d2"
      },
      "execution_count": 14,
      "outputs": [
        {
          "output_type": "stream",
          "name": "stdout",
          "text": [
            "5\n",
            "1\n"
          ]
        }
      ]
    },
    {
      "cell_type": "markdown",
      "source": [
        "Find the sum of all items in the tuple"
      ],
      "metadata": {
        "id": "IvkGQurFzKVW"
      }
    },
    {
      "cell_type": "code",
      "source": [
        "print(sum(item))"
      ],
      "metadata": {
        "colab": {
          "base_uri": "https://localhost:8080/"
        },
        "id": "soSdzUyZzP1Q",
        "outputId": "85b5e150-3017-4269-953c-57bb64e1818e"
      },
      "execution_count": 15,
      "outputs": [
        {
          "output_type": "stream",
          "name": "stdout",
          "text": [
            "20\n"
          ]
        }
      ]
    },
    {
      "cell_type": "markdown",
      "source": [
        " Sort the tuple in ascending order and print the updated tuple."
      ],
      "metadata": {
        "id": "1XDPTtOWzc6r"
      }
    },
    {
      "cell_type": "code",
      "source": [
        "print(\"Sorted item\", sorted(item))"
      ],
      "metadata": {
        "colab": {
          "base_uri": "https://localhost:8080/"
        },
        "id": "5U3LdPMuzgyd",
        "outputId": "65807044-160b-4772-8714-14fb50cd2ff6"
      },
      "execution_count": 16,
      "outputs": [
        {
          "output_type": "stream",
          "name": "stdout",
          "text": [
            "Sorted item [1, 2, 3, 4, 5, 5]\n"
          ]
        }
      ]
    },
    {
      "cell_type": "markdown",
      "source": [
        "Sort the tuple in descending order and print the updated tuple."
      ],
      "metadata": {
        "id": "M5QWvPjxzuKN"
      }
    },
    {
      "cell_type": "code",
      "source": [
        "print(\"Sorted item\", sorted(item,reverse=True))"
      ],
      "metadata": {
        "colab": {
          "base_uri": "https://localhost:8080/"
        },
        "id": "viYpCcgNzxdF",
        "outputId": "9261a95d-7253-4031-a195-2c9c1d6f11ac"
      },
      "execution_count": 17,
      "outputs": [
        {
          "output_type": "stream",
          "name": "stdout",
          "text": [
            "Sorted item [5, 5, 4, 3, 2, 1]\n"
          ]
        }
      ]
    },
    {
      "cell_type": "markdown",
      "source": [
        "Clear the tuple and print the updated tuple.\n",
        "In Python, tuples are immutable, meaning that once a tuple is created, its contents cannot be changed directly. Therefore, you cannot \"clear\" a tuple in the same way you can clear a list.\n"
      ],
      "metadata": {
        "id": "NjmO4d8jz2pk"
      }
    },
    {
      "cell_type": "markdown",
      "source": [
        "Delete the tuple and print the tuple."
      ],
      "metadata": {
        "id": "m0sXdhe2xwzH"
      }
    },
    {
      "cell_type": "code",
      "source": [
        "del item\n",
        "print(\"After deleting\", item)"
      ],
      "metadata": {
        "colab": {
          "base_uri": "https://localhost:8080/",
          "height": 159
        },
        "id": "7WCqyo2Ex_iG",
        "outputId": "2581b96a-11d5-4cb2-f1db-ab2ac369f540"
      },
      "execution_count": 19,
      "outputs": [
        {
          "output_type": "error",
          "ename": "NameError",
          "evalue": "name 'item' is not defined",
          "traceback": [
            "\u001b[0;31m---------------------------------------------------------------------------\u001b[0m",
            "\u001b[0;31mNameError\u001b[0m                                 Traceback (most recent call last)",
            "\u001b[0;32m<ipython-input-19-ce48077c043b>\u001b[0m in \u001b[0;36m<cell line: 2>\u001b[0;34m()\u001b[0m\n\u001b[1;32m      1\u001b[0m \u001b[0;32mdel\u001b[0m \u001b[0mitem\u001b[0m\u001b[0;34m\u001b[0m\u001b[0;34m\u001b[0m\u001b[0m\n\u001b[0;32m----> 2\u001b[0;31m \u001b[0mprint\u001b[0m\u001b[0;34m(\u001b[0m\u001b[0;34m\"After deleting\"\u001b[0m\u001b[0;34m,\u001b[0m \u001b[0mitem\u001b[0m\u001b[0;34m)\u001b[0m\u001b[0;34m\u001b[0m\u001b[0;34m\u001b[0m\u001b[0m\n\u001b[0m",
            "\u001b[0;31mNameError\u001b[0m: name 'item' is not defined"
          ]
        }
      ]
    },
    {
      "cell_type": "markdown",
      "source": [
        "Concatenate two tuples and print the updated tuple"
      ],
      "metadata": {
        "id": "k_jJe5T7yGGV"
      }
    },
    {
      "cell_type": "code",
      "source": [
        "t1 = (1,2,3,4)\n",
        "t2 = (5,6,7,8)\n",
        "t1+=t2\n",
        "print(\"After concatination: \", t1)"
      ],
      "metadata": {
        "colab": {
          "base_uri": "https://localhost:8080/"
        },
        "id": "08oIg4lRyKW9",
        "outputId": "7e082aa2-d511-477c-86db-03315a86b324"
      },
      "execution_count": 20,
      "outputs": [
        {
          "output_type": "stream",
          "name": "stdout",
          "text": [
            "After concatination:  (1, 2, 3, 4, 5, 6, 7, 8)\n"
          ]
        }
      ]
    },
    {
      "cell_type": "markdown",
      "source": [
        " Repeat the tuple 3 times and print the updated tuple."
      ],
      "metadata": {
        "id": "ofukMNNeyNs8"
      }
    },
    {
      "cell_type": "code",
      "source": [
        "t2 = t2*3\n",
        "print(\"After repeating 3 times: \"  ,t2)"
      ],
      "metadata": {
        "colab": {
          "base_uri": "https://localhost:8080/"
        },
        "id": "lbw7eNwRyXNU",
        "outputId": "700e6dd0-6f67-4f7c-9685-8039e4c86a60"
      },
      "execution_count": 21,
      "outputs": [
        {
          "output_type": "stream",
          "name": "stdout",
          "text": [
            "After repeating 3 times:  (5, 6, 7, 8, 5, 6, 7, 8, 5, 6, 7, 8)\n"
          ]
        }
      ]
    }
  ]
}